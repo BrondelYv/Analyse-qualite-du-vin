{
  "nbformat": 4,
  "nbformat_minor": 0,
  "metadata": {
    "colab": {
      "provenance": [],
      "toc_visible": true
    },
    "kernelspec": {
      "name": "python3",
      "display_name": "Python 3"
    },
    "language_info": {
      "name": "python"
    }
  },
  "cells": [
    {
      "cell_type": "code",
      "execution_count": null,
      "metadata": {
        "colab": {
          "base_uri": "https://localhost:8080/"
        },
        "id": "kqIHJnB5JIaE",
        "outputId": "6c52ce9e-18d4-40d6-bf82-a6a5536d4e7e"
      },
      "outputs": [
        {
          "output_type": "execute_result",
          "data": {
            "text/plain": [
              "7"
            ]
          },
          "metadata": {},
          "execution_count": 1
        }
      ],
      "source": [
        "f = lambda x, y: x**2 +y\n",
        "\n",
        "f(2,3)"
      ]
    },
    {
      "cell_type": "code",
      "source": [
        "def e_potentielle(masse, hauteur,e_limite, g=9.81):\n",
        "    E = masse*hauteur*g\n",
        "    print(E, 'Joules')\n",
        "    return E < e_limite\n",
        "\n",
        "e_potentielle(6, 80, 5000)\n"
      ],
      "metadata": {
        "colab": {
          "base_uri": "https://localhost:8080/"
        },
        "id": "kPI6fX5CJTIz",
        "outputId": "d4d04afe-3cd7-4eea-ba42-57f2b7cdde4f"
      },
      "execution_count": null,
      "outputs": [
        {
          "output_type": "stream",
          "name": "stdout",
          "text": [
            "4708.8 Joules\n"
          ]
        },
        {
          "output_type": "execute_result",
          "data": {
            "text/plain": [
              "True"
            ]
          },
          "metadata": {},
          "execution_count": 25
        }
      ]
    },
    {
      "cell_type": "code",
      "source": [
        "def signe(x):\n",
        "\n",
        "  if (x>0):\n",
        "    print(x, 'positif')\n",
        "  elif x== 0:\n",
        "    print(x, 'null')\n",
        "  else:\n",
        "    print(x, 'negatif')\n",
        "\n",
        "signe(3)\n"
      ],
      "metadata": {
        "colab": {
          "base_uri": "https://localhost:8080/"
        },
        "id": "CAmz7gNDJ9aS",
        "outputId": "8ac241a3-bffe-4382-9afd-3c8e6b9ba63f"
      },
      "execution_count": null,
      "outputs": [
        {
          "output_type": "stream",
          "name": "stdout",
          "text": [
            "3 positif\n"
          ]
        }
      ]
    },
    {
      "cell_type": "markdown",
      "source": [
        "# Nouvelle section"
      ],
      "metadata": {
        "id": "180iyDHbsRIH"
      }
    },
    {
      "cell_type": "code",
      "source": [
        "\n",
        "for i in range(10, -10, -3):\n",
        "  signe(i)"
      ],
      "metadata": {
        "colab": {
          "base_uri": "https://localhost:8080/"
        },
        "id": "rrF7JzKi4WDf",
        "outputId": "27dfe9bb-85c9-4272-ba4e-f95744a02983"
      },
      "execution_count": null,
      "outputs": [
        {
          "output_type": "stream",
          "name": "stdout",
          "text": [
            "10 positif\n",
            "7 positif\n",
            "4 positif\n",
            "1 positif\n",
            "-2 negatif\n",
            "-5 negatif\n",
            "-8 negatif\n"
          ]
        }
      ]
    },
    {
      "cell_type": "code",
      "source": [
        "x = 0\n",
        "while x<10:\n",
        "  print(x)\n",
        "  x += 1"
      ],
      "metadata": {
        "colab": {
          "base_uri": "https://localhost:8080/"
        },
        "id": "Bb-4_6AT8SPh",
        "outputId": "ccd5219a-b66c-4e29-c2cc-f1a0ed35997f"
      },
      "execution_count": null,
      "outputs": [
        {
          "output_type": "stream",
          "name": "stdout",
          "text": [
            "0\n",
            "1\n",
            "2\n",
            "3\n",
            "4\n",
            "5\n",
            "6\n",
            "7\n",
            "8\n",
            "9\n"
          ]
        }
      ]
    },
    {
      "cell_type": "code",
      "source": [
        "villes = ['Paris', 'Bresil', 'Berlin', 'Londres']\n",
        "villes.append('Dublin')\n",
        "villes"
      ],
      "metadata": {
        "colab": {
          "base_uri": "https://localhost:8080/"
        },
        "id": "bVPza0T_9yZU",
        "outputId": "9abb5fd3-e9e3-4907-e3d1-98721c80c656"
      },
      "execution_count": null,
      "outputs": [
        {
          "output_type": "execute_result",
          "data": {
            "text/plain": [
              "['Paris', 'Bresil', 'Berlin', 'Londres', 'Dublin']"
            ]
          },
          "metadata": {},
          "execution_count": 43
        }
      ]
    },
    {
      "cell_type": "code",
      "source": [
        "villes.insert(3, 'Madrid')\n",
        "villes"
      ],
      "metadata": {
        "colab": {
          "base_uri": "https://localhost:8080/"
        },
        "id": "OktbpgOMBOa3",
        "outputId": "3b3dbaa2-38bc-4697-9991-b0f7c050446b"
      },
      "execution_count": null,
      "outputs": [
        {
          "output_type": "execute_result",
          "data": {
            "text/plain": [
              "['Paris', 'Bresil', 'Berlin', 'Madrid', 'Madrid', 'Londres', 'Dublin']"
            ]
          },
          "metadata": {},
          "execution_count": 32
        }
      ]
    },
    {
      "cell_type": "code",
      "source": [
        "villes_2 =['Amsterdam', 'Rome']\n",
        "villes.extend(villes_2)\n",
        "villes"
      ],
      "metadata": {
        "colab": {
          "base_uri": "https://localhost:8080/"
        },
        "id": "cy_UGIh_Bnv-",
        "outputId": "c4a452d0-86f4-4c36-8ef0-7c64f26fd8e0"
      },
      "execution_count": null,
      "outputs": [
        {
          "output_type": "execute_result",
          "data": {
            "text/plain": [
              "['Berlin',\n",
              " 'Bresil',\n",
              " 'Dublin',\n",
              " 'Londres',\n",
              " 'Madrid',\n",
              " 'Madrid',\n",
              " 'Paris',\n",
              " ['Amsterdam', 'Rome'],\n",
              " 'Amsterdam',\n",
              " 'Rome',\n",
              " 'Amsterdam',\n",
              " 'Rome',\n",
              " 'Amsterdam',\n",
              " 'Rome',\n",
              " 'Amsterdam',\n",
              " 'Rome',\n",
              " 'Amsterdam',\n",
              " 'Rome',\n",
              " 'Amsterdam',\n",
              " 'Rome']"
            ]
          },
          "metadata": {},
          "execution_count": 40
        }
      ]
    },
    {
      "cell_type": "code",
      "source": [
        "villes[7].clear()"
      ],
      "metadata": {
        "id": "c4yzKbzoCRim"
      },
      "execution_count": null,
      "outputs": []
    },
    {
      "cell_type": "code",
      "source": [
        "villes"
      ],
      "metadata": {
        "colab": {
          "base_uri": "https://localhost:8080/"
        },
        "id": "b8FW7XtMDSJM",
        "outputId": "6b3f8448-9cac-4a4c-96b5-e0eb7bf70706"
      },
      "execution_count": null,
      "outputs": [
        {
          "output_type": "execute_result",
          "data": {
            "text/plain": [
              "['Berlin',\n",
              " 'Bresil',\n",
              " 'Dublin',\n",
              " 'Londres',\n",
              " 'Madrid',\n",
              " 'Madrid',\n",
              " 'Paris',\n",
              " [],\n",
              " 'Amsterdam',\n",
              " 'Rome',\n",
              " 'Amsterdam',\n",
              " 'Rome',\n",
              " 'Amsterdam',\n",
              " 'Rome',\n",
              " 'Amsterdam',\n",
              " 'Rome',\n",
              " 'Amsterdam',\n",
              " 'Rome',\n",
              " 'Amsterdam',\n",
              " 'Rome']"
            ]
          },
          "metadata": {},
          "execution_count": 42
        }
      ]
    },
    {
      "cell_type": "code",
      "source": [
        "len(villes)"
      ],
      "metadata": {
        "colab": {
          "base_uri": "https://localhost:8080/"
        },
        "id": "3OxEDxb3DTwk",
        "outputId": "9c446713-6736-4179-b807-a7db396ef455"
      },
      "execution_count": null,
      "outputs": [
        {
          "output_type": "execute_result",
          "data": {
            "text/plain": [
              "5"
            ]
          },
          "metadata": {},
          "execution_count": 44
        }
      ]
    },
    {
      "cell_type": "code",
      "source": [
        "villes.sort()\n",
        "villes"
      ],
      "metadata": {
        "colab": {
          "base_uri": "https://localhost:8080/"
        },
        "id": "zD62Dm25Dc4N",
        "outputId": "ceb7584c-68ce-4a8f-9f60-4ad65674b97d"
      },
      "execution_count": null,
      "outputs": [
        {
          "output_type": "execute_result",
          "data": {
            "text/plain": [
              "['Berlin', 'Bresil', 'Dublin', 'Londres', 'Paris']"
            ]
          },
          "metadata": {},
          "execution_count": 46
        }
      ]
    },
    {
      "cell_type": "code",
      "source": [
        "villes.sort(reverse=True)\n",
        "villes"
      ],
      "metadata": {
        "colab": {
          "base_uri": "https://localhost:8080/"
        },
        "id": "tYvvdguLDlmb",
        "outputId": "ce0ba9cd-5bf0-4243-e466-001f066ddd7c"
      },
      "execution_count": null,
      "outputs": [
        {
          "output_type": "execute_result",
          "data": {
            "text/plain": [
              "['Paris', 'Londres', 'Dublin', 'Bresil', 'Berlin']"
            ]
          },
          "metadata": {},
          "execution_count": 48
        }
      ]
    },
    {
      "cell_type": "code",
      "source": [
        "def get_vowels_numbers(mot):\n",
        "    # créer un compteur de voyelles\n",
        "    compteur = 0\n",
        "\n",
        "    # pour chaque lettre du mot vous verifiez s'il s'agit d'un voyelle\n",
        "    for letter in mot:\n",
        "        if letter in [\"a\", \"o\",\"i\", \"e\", \"u\", \"A\", \"O\", \"U\", \"Y\", \"E\", \"I\", \"y\"]:\n",
        "          # on ajoute un au compteur\n",
        "            compteur += 1\n",
        "\n",
        "    # à la fin de la fonction, vous allez renvoyer le compteur\n",
        "    return  compteur\n",
        "\n",
        "mot = input('Saisir un mot : ')\n",
        "t = get_vowels_numbers(mot)\n",
        "print(\"il y a\", t ,\"voyelles dans\", mot)\n",
        "print(get_vowels_numbers(mot))"
      ],
      "metadata": {
        "id": "iN66z3V1DxeE",
        "colab": {
          "base_uri": "https://localhost:8080/"
        },
        "outputId": "861b190b-9388-4518-b564-2c1c70ce9114"
      },
      "execution_count": null,
      "outputs": [
        {
          "output_type": "stream",
          "name": "stdout",
          "text": [
            "Saisir un mot : sd\n",
            "il y a 0 voyelles dans sd\n",
            "0\n"
          ]
        }
      ]
    },
    {
      "cell_type": "code",
      "source": [
        "\n",
        "def get_consonne_nb(sentence):\n",
        "   cs_nb = 0\n",
        "\n",
        "    #Identification des non cosonnes\n",
        "   not_consonne =['a', 'e', 'i', 'o', 'u', 'y', 'A', 'E', 'I', 'O', 'U', 'Y']\n",
        "\n",
        "# Mise en place de la boucle\n",
        "   for letter in sentence:\n",
        "      if letter not in not_consonne:\n",
        "        cs_nb += 1\n",
        "\n",
        "   return cs_nb\n",
        "\n",
        "#print('Entrez le ou les mots de votre choix:', end = ' ')\n",
        "sentence = input()\n",
        "nb = get_consonne_nb(sentence)\n",
        "print('Dans le ou les mots', sentence, ', il y a', nb, 'consommes')"
      ],
      "metadata": {
        "colab": {
          "base_uri": "https://localhost:8080/"
        },
        "id": "EgD_a58ALqMz",
        "outputId": "577fc2c4-2e11-453d-f104-a40151ac4cfe"
      },
      "execution_count": null,
      "outputs": [
        {
          "output_type": "stream",
          "name": "stdout",
          "text": [
            "FfeTtE\n",
            "Dans le ou les mots FfeTtE , il y a 4 consommes\n"
          ]
        }
      ]
    },
    {
      "cell_type": "code",
      "source": [
        "\n",
        "def get_vowels_number():\n",
        "\n",
        "  vowels = [\"a\", \"e\", \"i\", \"o\", \"u\", \"y\"]\n",
        "  i = 0\n",
        "  for letter in vowels:\n",
        "    if letter in vowels:\n",
        "      i = i + 1\n",
        "  return i\n",
        "\n",
        "\n",
        "word = input(\"Entrez un mot : \")\n",
        "get = get_vowels_number()\n",
        "#print(\"Le nombre de voyelles dans le mot est de \" get_vowels_number())\n",
        "print('Dans le ou les mots', word, ', il y a', get, 'voyelles')"
      ],
      "metadata": {
        "colab": {
          "base_uri": "https://localhost:8080/"
        },
        "id": "cI55hQDRSPK3",
        "outputId": "bce25a8d-57df-4735-9dc3-1f24af667a20"
      },
      "execution_count": null,
      "outputs": [
        {
          "output_type": "stream",
          "name": "stdout",
          "text": [
            "Entrez un mot : EEeeFtAau\n",
            "Dans le ou les mots EEeeFtAau , il y a 6 voyelles\n"
          ]
        }
      ]
    },
    {
      "cell_type": "code",
      "source": [
        "def fibonacci_of(n):                                 # Suite de Fibonacci pour des fonctions recursive\n",
        "    if n in {0, 1}:  # Base case   f(0) = 0 et f(1) = 1\n",
        "        return n\n",
        "    return fibonacci_of(n - 1) + fibonacci_of(n - 2)  # Recursive case\n",
        "\n",
        "fibonacci_of(15)"
      ],
      "metadata": {
        "id": "8sLXazZmW0Hj",
        "colab": {
          "base_uri": "https://localhost:8080/"
        },
        "outputId": "7eb898ad-0f3a-4598-d075-5ea6659399d2"
      },
      "execution_count": null,
      "outputs": [
        {
          "output_type": "execute_result",
          "data": {
            "text/plain": [
              "610"
            ]
          },
          "metadata": {},
          "execution_count": 18
        }
      ]
    },
    {
      "cell_type": "code",
      "source": [],
      "metadata": {
        "id": "fka3Kyv23hfO"
      },
      "execution_count": null,
      "outputs": []
    },
    {
      "cell_type": "code",
      "source": [
        "def get_vowels_numbers(word):\n",
        "    nb_vowels = 0\n",
        "    for letter in word:\n",
        "        if letter in ['a', 'e', 'i', 'o', 'u', 'y', 'A', 'E', 'I', 'O', 'U', 'Y']:\n",
        "            nb_vowels += 1\n",
        "    return nb_vowels\n",
        "\n",
        "word = input(\"Entrer un mot\")\n",
        "vowels_count = get_vowels_numbers(word)\n",
        "print(\"Il y a\", vowels_count, \"voyelles dans le mot\", word)"
      ],
      "metadata": {
        "colab": {
          "base_uri": "https://localhost:8080/"
        },
        "id": "qqAMbICj3iHN",
        "outputId": "53d7e7d0-2ec9-4415-af6a-8bc3159be564"
      },
      "execution_count": null,
      "outputs": [
        {
          "output_type": "stream",
          "name": "stdout",
          "text": [
            "Entrer un motefreEE\n",
            "Il y a 4 voyelles dans le mot efreEE\n"
          ]
        }
      ]
    },
    {
      "cell_type": "code",
      "source": [],
      "metadata": {
        "id": "JPyu0q2G3jom"
      },
      "execution_count": null,
      "outputs": []
    },
    {
      "cell_type": "code",
      "source": [],
      "metadata": {
        "id": "cep0VaTmJIbN"
      },
      "execution_count": null,
      "outputs": []
    },
    {
      "cell_type": "code",
      "source": [
        "def inverser_chaine(chaine):\n",
        "    # Utilisation de l'opérateur de découpage [::-1] pour inverser la chaîne\n",
        "    chaine_inverse = chaine[::-1]\n",
        "    return chaine_inverse\n",
        "\n",
        "# Exemple d'utilisation de la fonction\n",
        "chaine_originale = \"Bonjour\"\n",
        "chaine_inversee = inverser_chaine(chaine_originale)\n",
        "print(chaine_inversee)\n"
      ],
      "metadata": {
        "colab": {
          "base_uri": "https://localhost:8080/"
        },
        "id": "FXL6-UVlJI8k",
        "outputId": "f07aa803-d1c5-4348-8931-9e1ea8960caa"
      },
      "execution_count": null,
      "outputs": [
        {
          "output_type": "stream",
          "name": "stdout",
          "text": [
            "ruojnoB\n"
          ]
        }
      ]
    },
    {
      "cell_type": "code",
      "source": [
        "import matplotlib.pyplot as plt\n",
        "import numpy as np\n",
        "\n",
        "# Paramètres de la spirale\n",
        "a = 0.1  # Facteur d'échelle\n",
        "b = 0.02  # Facteur de croissance\n",
        "theta = np.linspace(0, 10 * np.pi, 1000)  # Angles pour créer la spirale\n",
        "\n",
        "# Coordonnées polaires\n",
        "r = a * np.exp(b * theta)\n",
        "\n",
        "# Conversion des coordonnées polaires en coordonnées cartésiennes\n",
        "x = r * np.cos(theta)\n",
        "y = r * np.sin(theta)\n",
        "\n",
        "# Tracer la spirale\n",
        "plt.figure(figsize=(6, 6))\n",
        "plt.plot(x, y, lw=2)\n",
        "plt.title('Spirale Logarithmique')\n",
        "plt.axis('equal')  # Pour que les échelles des axes soient égales\n",
        "plt.grid(True)\n",
        "plt.show()\n"
      ],
      "metadata": {
        "id": "l_PGGbYXTisb",
        "outputId": "9781267b-30a0-494e-a153-09f926168d88",
        "colab": {
          "base_uri": "https://localhost:8080/",
          "height": 545
        }
      },
      "execution_count": null,
      "outputs": [
        {
          "output_type": "display_data",
          "data": {
            "text/plain": [
              "<Figure size 600x600 with 1 Axes>"
            ],
            "image/png": "[encoded data removed]"
          },
          "metadata": {}
        }
      ]
    },
    {
      "cell_type": "code",
      "source": [],
      "metadata": {
        "id": "9umzlIGvW-B5"
      },
      "execution_count": null,
      "outputs": []
    },
    {
      "cell_type": "code",
      "source": [
        "def inverse_lettres(entrée):\n",
        "    if isinstance(entrée, str):\n",
        "        # Si l'entrée est une chaîne de caractères, inverse les lettres\n",
        "        return entrée[::-1]\n",
        "    elif isinstance(entrée, list):\n",
        "        # Si l'entrée est une liste, inverse les lettres pour chaque élément de la liste\n",
        "        resultats = []\n",
        "        for element in entrée:\n",
        "            if isinstance(element, str):\n",
        "                resultats.append(element[::-1])\n",
        "            else:\n",
        "                resultats.append(None)  # Ignorer les éléments non valides\n",
        "        return resultats\n",
        "    else:\n",
        "        return None  # Gérer d'autres types d'entrées\n",
        "\n",
        "# Exemples d'appels de fonction\n",
        "chaine_originale = \"Bonjour\"\n",
        "chaine_inverse = inverse_lettres(chaine_originale)\n",
        "print(\"Chaine originale :\", chaine_originale)\n",
        "print(\"Chaine inversée :\", chaine_inverse)\n",
        "\n",
        "liste_mots = [\"Python\", \"est\", \"super\"]\n",
        "liste_inversée = inverse_lettres(liste_mots)\n",
        "print(\"Liste originale :\", liste_mots)\n",
        "print(\"Liste inversée :\", liste_inversée)\n"
      ],
      "metadata": {
        "colab": {
          "base_uri": "https://localhost:8080/"
        },
        "id": "Gj2RWEb1W-Vw",
        "outputId": "ef2b1003-deab-4dc4-a763-cadd3e37f6a2"
      },
      "execution_count": null,
      "outputs": [
        {
          "output_type": "stream",
          "name": "stdout",
          "text": [
            "Chaine originale : Bonjour\n",
            "Chaine inversée : ruojnoB\n",
            "Liste originale : ['Python', 'est', 'super']\n",
            "Liste inversée : ['nohtyP', 'tse', 'repus']\n"
          ]
        }
      ]
    },
    {
      "cell_type": "code",
      "source": [
        "inverse_lettres(liste_mots)"
      ],
      "metadata": {
        "colab": {
          "base_uri": "https://localhost:8080/"
        },
        "id": "27dvhqkGW-to",
        "outputId": "2da3f366-57fb-4a3e-ee10-0dbf3c7ea3ed"
      },
      "execution_count": null,
      "outputs": [
        {
          "output_type": "execute_result",
          "data": {
            "text/plain": [
              "['nohtyP', 'tse', 'repus']"
            ]
          },
          "metadata": {},
          "execution_count": 9
        }
      ]
    },
    {
      "cell_type": "code",
      "source": [
        "def inverse_lettres(entrée):\n",
        "    if isinstance(entrée, str):\n",
        "\n",
        "        return entrée[::-1]\n",
        "    elif isinstance(entrée, list):\n",
        "\n",
        "        resultats = []\n",
        "        for element in entrée:\n",
        "            if isinstance(element, str):\n",
        "                resultats.append(element[::-1])\n",
        "            else:\n",
        "                resultats.append(None)\n",
        "        return resultats\n",
        "    else:\n",
        "        return None\n",
        "\n",
        "chaine_originale = \"Bonjour\"\n",
        "chaine_inverse = inverse_lettres(chaine_originale)\n",
        "print(\"Chaine originale :\", chaine_originale)\n",
        "print(\"Chaine inversée :\", chaine_inverse)\n",
        "\n",
        "liste_mots = [\"Python\", \"est\", \"super\"]\n",
        "liste_inversée = inverse_lettres(liste_mots)\n",
        "print(\"Liste originale :\", liste_mots)\n",
        "print(\"Liste inversée :\", liste_inversée)"
      ],
      "metadata": {
        "colab": {
          "base_uri": "https://localhost:8080/"
        },
        "id": "NiDpEPRxeTf4",
        "outputId": "7109765a-a148-43e7-85bd-e7b6a9d6ca2f"
      },
      "execution_count": null,
      "outputs": [
        {
          "output_type": "stream",
          "name": "stdout",
          "text": [
            "Chaine originale : Bonjour\n",
            "Chaine inversée : ruojnoB\n",
            "Liste originale : ['Python', 'est', 'super']\n",
            "Liste inversée : ['nohtyP', 'tse', 'repus']\n"
          ]
        }
      ]
    },
    {
      "cell_type": "code",
      "source": [
        "def palindrome(x):\n",
        "  for i in range(len(x) - 1, len(x) // 2, -1):\n",
        "    if x[i] != x[len(x) -i -1]:\n",
        "      return False\n",
        "  return True\n",
        "\n",
        "print(palindrome('laval'))"
      ],
      "metadata": {
        "colab": {
          "base_uri": "https://localhost:8080/"
        },
        "id": "iF3ynY-_uPys",
        "outputId": "a242c475-aeed-43b2-d249-089683e2a96a"
      },
      "execution_count": null,
      "outputs": [
        {
          "output_type": "stream",
          "name": "stdout",
          "text": [
            "True\n"
          ]
        }
      ]
    },
    {
      "cell_type": "code",
      "source": [
        "def palindrome(x):\n",
        "  i = len(x) - 1\n",
        "  while i> len(x) // 2:\n",
        "    if x[i] != x[len(x) - i - 1]:\n",
        "      return False\n",
        "    i = i - 1\n",
        "  return True\n",
        "\n",
        "print(palindrome('a man a plan a canal panama'))"
      ],
      "metadata": {
        "colab": {
          "base_uri": "https://localhost:8080/"
        },
        "id": "bYf08nlPuRBs",
        "outputId": "e0e811bc-5066-438e-ddf3-566cc82f3b34"
      },
      "execution_count": null,
      "outputs": [
        {
          "output_type": "stream",
          "name": "stdout",
          "text": [
            "False\n"
          ]
        }
      ]
    },
    {
      "cell_type": "code",
      "source": [
        "def intercaler_mots(mot1, mot2):\n",
        "    # Trouver la longueur du mot le plus court\n",
        "    longueur_min = min(len(mot1), len(mot2))\n",
        "\n",
        "    # Initialiser une liste pour stocker les caractères intercalés\n",
        "    intercale = []\n",
        "\n",
        "    # Intercaler les caractères des deux mots\n",
        "    for i in range(longueur_min):\n",
        "        intercale.append(mot1[i])\n",
        "        intercale.append(mot2[i])\n",
        "\n",
        "    # Ajouter les caractères restants du mot le plus long\n",
        "    if len(mot1) > len(mot2):\n",
        "        intercale.extend(mot1[longueur_min:])\n",
        "    else:\n",
        "        intercale.extend(mot2[longueur_min:])\n",
        "\n",
        "    # Convertir la liste de caractères en une chaîne de caractères\n",
        "    resultat = ''.join(intercale)\n",
        "\n",
        "    return resultat\n",
        "\n",
        "# Exemple d'utilisation\n",
        "mot1 = \"Bonjour\"\n",
        "mot2 = \"Monde\"\n",
        "resultat = intercaler_mots(mot1, mot2)\n",
        "print(resultat)  # Affichera \"BMoondjeour\"\n",
        "\n"
      ],
      "metadata": {
        "colab": {
          "base_uri": "https://localhost:8080/"
        },
        "id": "92DvsVEKuRWr",
        "outputId": "f2d3174d-60ba-485e-f293-e5aece014ff3"
      },
      "execution_count": null,
      "outputs": [
        {
          "output_type": "stream",
          "name": "stdout",
          "text": [
            "BMoonnjdoeur\n"
          ]
        }
      ]
    },
    {
      "cell_type": "code",
      "source": [
        "t = \"ppap\"\n",
        "\n",
        "t.split(\"-\")\n"
      ],
      "metadata": {
        "colab": {
          "base_uri": "https://localhost:8080/"
        },
        "id": "P6Ys2zG8wBNt",
        "outputId": "fa751dd4-ed6d-4f4a-c9f5-780b1104bb97"
      },
      "execution_count": null,
      "outputs": [
        {
          "output_type": "execute_result",
          "data": {
            "text/plain": [
              "['ppap']"
            ]
          },
          "metadata": {},
          "execution_count": 28
        }
      ]
    },
    {
      "cell_type": "code",
      "source": [
        "def divisible_par_3_5(nombre):\n",
        "    if nombre % 3 == 0 and nombre % 5 == 0:\n",
        "        return \"yopa\"\n",
        "    elif nombre % 3 == 0:\n",
        "        return \"pa\"\n",
        "    elif nombre % 5 == 0:\n",
        "        return \"yo\"\n",
        "    else:\n",
        "        return str(nombre)\n",
        "\n",
        "# Exemple d'utilisation\n",
        "nombre = 21\n",
        "resultat = divisible_par_3_5(nombre)\n",
        "print(resultat)  # Affichera \"yopa\" pour 15\n",
        "\n"
      ],
      "metadata": {
        "colab": {
          "base_uri": "https://localhost:8080/"
        },
        "id": "qmtl9j-pwBgE",
        "outputId": "a2fa46f2-57bd-4362-bf54-d3a672041822"
      },
      "execution_count": null,
      "outputs": [
        {
          "output_type": "stream",
          "name": "stdout",
          "text": [
            "pa\n"
          ]
        }
      ]
    },
    {
      "cell_type": "code",
      "source": [
        "def divisible_par_3_5(nombre):\n",
        "    while nombre >= 3:\n",
        "        nombre -= 3\n",
        "\n",
        "    if nombre == 0:\n",
        "        return \"pa\"\n",
        "\n",
        "    while nombre >= 5:\n",
        "        nombre -= 5\n",
        "\n",
        "    if nombre == 0:\n",
        "        return \"yo\"\n",
        "\n",
        "    return str(nombre)\n",
        "\n",
        "# Exemple d'utilisation\n",
        "nombre = 6\n",
        "resultat = divisible_par_3_5(nombre)\n",
        "print(resultat)  # Affichera \"yopa\" pour 15\n"
      ],
      "metadata": {
        "colab": {
          "base_uri": "https://localhost:8080/"
        },
        "id": "fvQ2XxQawB4E",
        "outputId": "23efaafa-639d-47c9-e7cd-d7bfeafd7d9b"
      },
      "execution_count": null,
      "outputs": [
        {
          "output_type": "stream",
          "name": "stdout",
          "text": [
            "pa\n"
          ]
        }
      ]
    },
    {
      "cell_type": "code",
      "source": [
        "def initialiser_matrice(rows, cols, a):\n",
        "    # Créer une nouvelle matrice initialisée avec la valeur a\n",
        "    nouvelle_matrice = [[a] * cols for _ in range(rows)]\n",
        "    return nouvelle_matrice\n",
        "\n",
        "# Exemple d'utilisation\n",
        "nombre_de_lignes = 3\n",
        "nombre_de_colonnes = 4\n",
        "valeur_initiale = 7\n",
        "\n",
        "nouvelle_matrice = initialiser_matrice(nombre_de_lignes, nombre_de_colonnes, valeur_initiale)\n",
        "\n",
        "# Afficher la nouvelle matrice\n",
        "for ligne in nouvelle_matrice:\n",
        "    print(ligne)\n"
      ],
      "metadata": {
        "colab": {
          "base_uri": "https://localhost:8080/"
        },
        "id": "jsLV7eVT4ev2",
        "outputId": "c5147e46-1374-4c33-ad7a-5afa2cbfb7b5"
      },
      "execution_count": null,
      "outputs": [
        {
          "output_type": "stream",
          "name": "stdout",
          "text": [
            "[7, 7, 7, 7]\n",
            "[7, 7, 7, 7]\n",
            "[7, 7, 7, 7]\n"
          ]
        }
      ]
    },
    {
      "cell_type": "code",
      "source": [
        "def initialiser_matrice(matrice, a):\n",
        "    nouvelle_matrice = [[a for _ in range(len(matrice[0]))] for _ in range(len(matrice))]  # Utilisation des listes de compréhension\n",
        "    return nouvelle_matrice\n",
        "\n",
        "# Exemple d'utilisation\n",
        "matrice_initiale = [\n",
        "    [2, 3, 4],\n",
        "    [5, 6, 7],\n",
        "    [8, 9, 10]\n",
        "]\n",
        "valeur_initiale = 7\n",
        "\n",
        "nouvelle_matrice = initialiser_matrice(matrice_initiale, valeur_initiale)\n",
        "\n",
        "# Afficher la nouvelle matrice\n",
        "\n",
        "print(nouvelle_matrice)\n"
      ],
      "metadata": {
        "colab": {
          "base_uri": "https://localhost:8080/"
        },
        "id": "cVCPtQBI4fI_",
        "outputId": "e01dcfdb-8f1e-4964-d8a7-9d233d8b525e"
      },
      "execution_count": null,
      "outputs": [
        {
          "output_type": "stream",
          "name": "stdout",
          "text": [
            "[[7, 7, 7], [7, 7, 7], [7, 7, 7]]\n"
          ]
        }
      ]
    },
    {
      "cell_type": "code",
      "source": [],
      "metadata": {
        "id": "UjUG9MeB4fdX"
      },
      "execution_count": null,
      "outputs": []
    },
    {
      "cell_type": "code",
      "source": [
        "users = [\n",
        "    {\"id\": 0, \"name\": \"Laurent D'Amico\"},\n",
        "    {\"id\": 1, \"name\": \"Rénald Soudier\"},\n",
        "    {\"id\": 2, \"name\": \"Patrice Collardez\"},\n",
        "    {\"id\": 3, \"name\": \"Jonathan Aberman\"},\n",
        "    {\"id\": 4, \"name\": \"Yves Mittelmann\"},\n",
        "    {\"id\": 5, \"name\": \"Sébastien Collot\"},\n",
        "    {\"id\": 6, \"name\": \"Xavier Mauclaire\"},\n",
        "    {\"id\": 7, \"name\": \"Dario Corballo\"},\n",
        "    {\"id\": 8, \"name\": \"Yvell Mvoumbi\"},\n",
        "    {\"id\": 9, \"name\": \"Enzo Callegari\"}\n",
        "\n",
        "]\n",
        "\n",
        "\n",
        "\n",
        "friendships = [(0, 1), (0, 2), (1, 2), (1, 3), (2, 3), (3, 4), (4, 5), (5, 6), (5, 7), ( 6, 8), (7, 8), (8, 8)]\n",
        "\n",
        "for user in users:\n",
        "  user[\"friends\"] = []\n",
        "\n",
        "for i, j in friendships:\n",
        "  users[i][\"friends\"].append(users[j])\n",
        "  users[j][\"friends\"].append(users[i])\n",
        "\n",
        "# Quel est le nombre moyen de connexions ?\n",
        "\n",
        "def number_of_friends(user):\n",
        "  # Combien d'amis l'utilisateur _user_ a-t-il ?\n",
        "  return len(user[\"friends\"])  # Longueur de la liste _friends_ids_\n",
        "\n",
        "total_connections = sum(number_of_friends(user) for user in users) # 24\n",
        "\n",
        "print(total_connections)\n",
        "\n",
        "# Il suffit ensuite de diviser le nombre totald'utilisateurs\n",
        "\n",
        "from __future__ import division  # la division entière est bancale\n",
        "num_users = len(users)\n",
        "avg_connections = total_connections / num_users   # 2.4\n",
        "\n",
        "\n",
        "# Nous cherchons savoir les personnes le plus connctées ie qui ont plus d'amis\n",
        "\n",
        "# Créeons une liste (user_id, number_of_friends)\n",
        "\n",
        "num_friends_by_id = [(user['id'], number_of_friends(user)) for user in users]\n",
        "\n",
        "sorted(num_friends_by_id,  # la trier\n",
        "      key = lambda user_id_and_number_of_friends: user_id_and_number_of_friends[1], # suivant num_friends\n",
        "      reverse=True)  # du plus grand au plus petit\n",
        "\n",
        "\n",
        "\n",
        "# conception d'un système permettant de suggérer les experts que nous connaissons entre les amis\n",
        "\n",
        "def  friends_of_friend_ids_bad(user):\n",
        "  # foaf est l'abéviation de friend of a friend, autrement dit l'ami d'un ami\n",
        "  return [friends_of_friend_ids_bad['id']\n",
        "  for friend in user[\"friends\"]\n",
        "  for friends_of_friend_ids_bad in friends[[\"friends\"]]]\n",
        "\n",
        "\n",
        "#users[0]\n",
        "for friend in users[0][\"friends\"]:\n",
        "  print(friend['id'])\n",
        "#for friend in users[1][\"friends\"]:\n",
        "  #print(friend['id'])\n",
        "#for friend in users[2][\"friends\"]:\n",
        "  #print(friend['id'])\n",
        "\n",
        "\n"
      ],
      "metadata": {
        "colab": {
          "base_uri": "https://localhost:8080/"
        },
        "id": "3a2XmZov4fsv",
        "outputId": "4b78d5bd-a638-4788-d94d-38978e63430f"
      },
      "execution_count": null,
      "outputs": [
        {
          "output_type": "stream",
          "name": "stdout",
          "text": [
            "24\n",
            "1\n",
            "2\n"
          ]
        }
      ]
    },
    {
      "cell_type": "code",
      "source": [],
      "metadata": {
        "id": "b5mhKwG04f6v"
      },
      "execution_count": null,
      "outputs": []
    },
    {
      "cell_type": "code",
      "source": [
        "soit_x, y = [1,2,3], 9\n",
        "\n",
        "soit_x.insert(3,y)\n",
        "print(soit_x)\n"
      ],
      "metadata": {
        "colab": {
          "base_uri": "https://localhost:8080/"
        },
        "id": "loAKCGfk4gJ_",
        "outputId": "7f19615c-2747-446e-ecbf-53b83d09a054"
      },
      "execution_count": null,
      "outputs": [
        {
          "output_type": "stream",
          "name": "stdout",
          "text": [
            "[1, 2, 3, 9]\n"
          ]
        }
      ]
    },
    {
      "cell_type": "code",
      "source": [
        "def initialiser_matrice(matrice, a):\n",
        "    nouvelle_matrice = []\n",
        "    for ligne in matrice:\n",
        "        nouvelle_ligne = []\n",
        "        for element in ligne:\n",
        "            nouvelle_ligne.append(a)\n",
        "        nouvelle_matrice.append(nouvelle_ligne)\n",
        "    return nouvelle_matrice\n",
        "\n",
        "# Exemple d'utilisation\n",
        "matrice_initiale = [\n",
        "    [2, 3, 4],\n",
        "    [5, 6, 7],\n",
        "    [8, 9, 10]\n",
        "]\n",
        "valeur_initiale = 7\n",
        "\n",
        "nouvelle_matrice = initialiser_matrice(matrice_initiale, valeur_initiale)\n",
        "\n",
        "# Afficher la nouvelle matrice\n",
        "for ligne in nouvelle_matrice:\n",
        "    print(ligne)\n"
      ],
      "metadata": {
        "colab": {
          "base_uri": "https://localhost:8080/"
        },
        "id": "RpluWXuc4gXO",
        "outputId": "5767b91f-5b8b-42b3-d0ad-cceefecf378f"
      },
      "execution_count": null,
      "outputs": [
        {
          "output_type": "stream",
          "name": "stdout",
          "text": [
            "[7, 7, 7]\n",
            "[7, 7, 7]\n",
            "[7, 7, 7]\n"
          ]
        }
      ]
    },
    {
      "cell_type": "code",
      "source": [
        "w = [[[1, 2],[2, 3]],\n",
        "     [[4, 5],[6, 7]]\n",
        "     ]"
      ],
      "metadata": {
        "id": "QkjXNKYF4gkv"
      },
      "execution_count": null,
      "outputs": []
    },
    {
      "cell_type": "code",
      "source": [
        "\n",
        "\n",
        "def initmat2(mat, v):\n",
        "\n",
        "    if isinstance(mat, list):\n",
        "      result = []\n",
        "      for i in range(0, len(mat), 1):\n",
        "          result.append(initmat2(mat[i], v))\n",
        "    else:\n",
        "\n",
        "      result = v\n",
        "      return result\n",
        "\n",
        "\n",
        "\n",
        "w = [[[1, 2],[2, 3]],\n",
        "     [[4, 5],[6, 7]]\n",
        "     ]\n",
        "initmat2(w,8)"
      ],
      "metadata": {
        "id": "7CO989If4gzG"
      },
      "execution_count": null,
      "outputs": []
    },
    {
      "cell_type": "code",
      "source": [
        "\"\"\"def initmat3(mat, v):\n",
        "    result = []\n",
        "    for i in range(0, len(mat), 1):\n",
        "        row = []\n",
        "        for j in range (0, len(mat[i]), 1):\n",
        "            #row.append(v)\n",
        "            row += [v]\n",
        "        #result.append(row)\n",
        "        result += v\n",
        "    return result\n",
        "\n",
        "initmat3(w,8)\"\"\""
      ],
      "metadata": {
        "id": "S6NSYjB24hB-",
        "colab": {
          "base_uri": "https://localhost:8080/",
          "height": 53
        },
        "outputId": "d522128e-88eb-4875-a7aa-efeb5db38c11"
      },
      "execution_count": null,
      "outputs": [
        {
          "output_type": "execute_result",
          "data": {
            "text/plain": [
              "'def initmat3(mat, v):\\n    result = []\\n    for i in range(0, len(mat), 1):\\n        row = []\\n        for j in range (0, len(mat[i]), 1):\\n            #row.append(v)\\n            row += [v]\\n        #result.append(row)\\n        result += v\\n    return result\\n\\ninitmat3(w,8)'"
            ],
            "application/vnd.google.colaboratory.intrinsic+json": {
              "type": "string"
            }
          },
          "metadata": {},
          "execution_count": 6
        }
      ]
    },
    {
      "cell_type": "code",
      "source": [
        "import copy\n",
        "\n",
        "def initmat(M, n):\n",
        "    def recursive_init(mat):\n",
        "        if isinstance(mat, list):\n",
        "            result = []\n",
        "            for row in mat:\n",
        "                result.append(recursive_init(row))\n",
        "            return result\n",
        "        else:\n",
        "            return n\n",
        "\n",
        "    return recursive_init(M)\n",
        "\n",
        "# Exemple d'utilisation\n",
        "M = [\n",
        "    [\n",
        "        [1, 2],\n",
        "        [3, 4]\n",
        "    ],\n",
        "    [\n",
        "        [5, 6],\n",
        "        [7, 8]\n",
        "    ]\n",
        "]\n",
        "\n",
        "result = initmat(M, 0)\n",
        "print(result)\n"
      ],
      "metadata": {
        "colab": {
          "base_uri": "https://localhost:8080/"
        },
        "id": "COZthkUVMK4E",
        "outputId": "a9c9b48f-3aa3-46a1-8ff7-5cad865e03e3"
      },
      "execution_count": null,
      "outputs": [
        {
          "output_type": "stream",
          "name": "stdout",
          "text": [
            "[[[0, 0], [0, 0]], [[0, 0], [0, 0]]]\n"
          ]
        }
      ]
    },
    {
      "cell_type": "code",
      "source": [
        "def fusionner_listes(liste1, liste2):\n",
        "    # Initialisation des indices pour parcourir les deux listes\n",
        "    index1, index2 = 0, 0\n",
        "    resultat = []\n",
        "\n",
        "    # Parcourir les deux listes jusqu'à ce que l'une d'elles soit entièrement traitée\n",
        "    while index1 < len(liste1) and index2 < len(liste2):\n",
        "        if liste1[index1] < liste2[index2]:\n",
        "            resultat.append(liste1[index1])\n",
        "            index1 += 1\n",
        "        else:\n",
        "            resultat.append(liste2[index2])\n",
        "            index2 += 1\n",
        "\n",
        "    # Ajouter les éléments restants de liste1 (s'il y en a)\n",
        "    resultat.extend(liste1[index1:])\n",
        "\n",
        "    # Ajouter les éléments restants de liste2 (s'il y en a)\n",
        "    resultat.extend(liste2[index2:])\n",
        "\n",
        "    return resultat\n",
        "\n",
        "# Exemple d'utilisation :\n",
        "liste1 = [1, 3, 5, 7]\n",
        "liste2 = [2, 4, 6, 8]\n",
        "liste3 = fusionner_listes(liste1, liste2)\n",
        "print(liste3)  # Output: [1, 2, 3, 4, 5, 6, 7, 8]\n"
      ],
      "metadata": {
        "id": "DreNvtTHMLU8",
        "colab": {
          "base_uri": "https://localhost:8080/"
        },
        "outputId": "2230860d-f5f3-4e34-af9f-0cc2ef86a2f7"
      },
      "execution_count": null,
      "outputs": [
        {
          "output_type": "stream",
          "name": "stdout",
          "text": [
            "[1, 2, 3, 4, 5, 6, 7, 8]\n"
          ]
        }
      ]
    },
    {
      "cell_type": "code",
      "source": [
        "def fusionner_listes(liste1, liste2):\n",
        "    # Initialisation de la liste résultante\n",
        "    liste3 = []\n",
        "\n",
        "    # Indices pour parcourir les deux listes\n",
        "    i, j = 0, 0\n",
        "\n",
        "    # Parcours des deux listes\n",
        "    while i < len(liste1) and j < len(liste2):\n",
        "        # Comparaison des éléments des deux listes\n",
        "        if liste1[i] < liste2[j]:\n",
        "            # Si l'élément de liste1 est plus petit, ajoutez-le à liste3\n",
        "            liste3.append(liste1[i])\n",
        "            i += 1\n",
        "        else:\n",
        "            # Sinon, ajoutez l'élément de liste2 à liste3\n",
        "            liste3.append(liste2[j])\n",
        "            j += 1\n",
        "\n",
        "    # Ajouter les éléments restants de liste1 (s'il y en a)\n",
        "    while i < len(liste1):\n",
        "        liste3.append(liste1[i])\n",
        "        i += 1\n",
        "\n",
        "    # Ajouter les éléments restants de liste2 (s'il y en a)\n",
        "    while j < len(liste2):\n",
        "        liste3.append(liste2[j])\n",
        "        j += 1\n",
        "\n",
        "    return liste3\n",
        "\n",
        "# Exemple d'utilisation :\n",
        "liste1 = [1, 3, 5, 7, 9]\n",
        "liste2 = [0, 2, 6, 8, 10]\n",
        "liste3 = fusionner_listes(liste1, liste2)\n",
        "print(\"Liste fusionnée :\", liste3)\n"
      ],
      "metadata": {
        "id": "ywJ7SG8BMLjz",
        "colab": {
          "base_uri": "https://localhost:8080/"
        },
        "outputId": "931a13c9-bae0-418d-9477-fce7d8355758"
      },
      "execution_count": null,
      "outputs": [
        {
          "output_type": "stream",
          "name": "stdout",
          "text": [
            "Liste fusionnée : [0, 1, 2, 3, 5, 6, 7, 8, 9, 10]\n"
          ]
        }
      ]
    },
    {
      "cell_type": "code",
      "source": [
        "liste1 = [1, 3, 5, 7]\n",
        "print(len(liste1))"
      ],
      "metadata": {
        "id": "kpEy6cRrMLzM",
        "colab": {
          "base_uri": "https://localhost:8080/"
        },
        "outputId": "5ff45638-631e-40f9-90b7-b0f9ca5532c6"
      },
      "execution_count": null,
      "outputs": [
        {
          "output_type": "stream",
          "name": "stdout",
          "text": [
            "4\n"
          ]
        }
      ]
    },
    {
      "cell_type": "code",
      "source": [
        "arbre = [1, [2, 4, [5, 7, 8]], [3, None, [6, 9, None]]]\n",
        "print(len(arbre))"
      ],
      "metadata": {
        "id": "rwdlbL0wMMEM",
        "colab": {
          "base_uri": "https://localhost:8080/"
        },
        "outputId": "3491ce74-1150-42ae-acde-ae6647f3961c"
      },
      "execution_count": null,
      "outputs": [
        {
          "output_type": "stream",
          "name": "stdout",
          "text": [
            "3\n"
          ]
        }
      ]
    },
    {
      "cell_type": "code",
      "source": [
        "def tree_depth(tree):\n",
        "    if tree is None:\n",
        "        return 0\n",
        "\n",
        "    _, left, right = tree  # Décomposition de l'arbre en nœud, fils gauche et fils droit\n",
        "    if isinstance(left, list):\n",
        "      left_depth = tree_depth(left)\n",
        "    else:\n",
        "      left_depth = 0  # Si le fils gauche est un cas atomique, sa profondeur est de 0\n",
        "\n",
        "    if isinstance(right, list):\n",
        "      right_depth = tree_depth(right)\n",
        "    else:\n",
        "      right_depth = 0  # Si le fils droit est un cas atomique, sa profondeur est de 0\n",
        "\n",
        "    max_depth = max(left_depth, right_depth) + 1\n",
        "\n",
        "    return max_depth\n",
        "\n",
        "y = [1, [2, 4, [5, 7, 8]], [3, None, [6, 9, None]]]\n",
        "\n",
        "print(tree_depth(y))\n",
        "\n"
      ],
      "metadata": {
        "colab": {
          "base_uri": "https://localhost:8080/"
        },
        "id": "oMkKDQ1BrX8z",
        "outputId": "284bbb77-62dc-4f31-e35f-442f5531b931"
      },
      "execution_count": null,
      "outputs": [
        {
          "output_type": "stream",
          "name": "stdout",
          "text": [
            "3\n"
          ]
        }
      ]
    },
    {
      "cell_type": "code",
      "source": [
        "def tree_depth(tree):\n",
        "    # Si l'arbre est vide, sa profondeur est 0\n",
        "    if tree is None:\n",
        "        return 0\n",
        "\n",
        "    # Extraire le nœud racine, le fils gauche et le fils droit\n",
        "    root, left, right = tree\n",
        "\n",
        "    # Calculer la profondeur du sous-arbre gauche récursivement\n",
        "    left_depth = tree_depth(left) if isinstance(left, list) else 0\n",
        "\n",
        "    # Calculer la profondeur du sous-arbre droit récursivement\n",
        "    right_depth = tree_depth(right) if isinstance(right, list) else 0\n",
        "\n",
        "    # La profondeur de l'arbre est le maximum entre la profondeur du sous-arbre gauche et droit, plus 1\n",
        "    max_depth = max(left_depth, right_depth) + 1\n",
        "\n",
        "    return max_depth\n",
        "\n",
        "\n",
        "y = [1, [2, 4, [5, 7, 8]], [3, None, [6, 9, None]]]\n",
        "\n",
        "tree_depth(y)\n",
        "\n",
        "\n"
      ],
      "metadata": {
        "colab": {
          "base_uri": "https://localhost:8080/"
        },
        "id": "hoBKwk9rrYUD",
        "outputId": "9851f825-3f45-4bde-e2c1-34e354b62ba0"
      },
      "execution_count": null,
      "outputs": [
        {
          "output_type": "execute_result",
          "data": {
            "text/plain": [
              "3"
            ]
          },
          "metadata": {},
          "execution_count": 13
        }
      ]
    },
    {
      "cell_type": "code",
      "source": [
        "c = {1: 'r', 2:'papa'}\n",
        "type(c)"
      ],
      "metadata": {
        "colab": {
          "base_uri": "https://localhost:8080/"
        },
        "id": "DsbSgoA5rYlL",
        "outputId": "abd9fbf8-243a-4aea-c9c8-2c2484b0e0b8"
      },
      "execution_count": null,
      "outputs": [
        {
          "output_type": "execute_result",
          "data": {
            "text/plain": [
              "dict"
            ]
          },
          "metadata": {},
          "execution_count": 32
        }
      ]
    },
    {
      "cell_type": "code",
      "source": [
        "def est_palindrome(mot):\n",
        "    # Supprimer les espaces et convertir en minuscules pour la comparaison\n",
        "    #mot = mot.replace(\" \", \"\").lower()\n",
        "\n",
        "    # Vérifier si le mot est identique à son inverse\n",
        "    longueur = len(mot)\n",
        "    for i in range(longueur // 2):\n",
        "        if mot[i] != mot[longueur - i - 1]:\n",
        "            return False\n",
        "    return True\n",
        "\n",
        "# Exemples d'utilisation\n",
        "print(est_palindrome(\"radar\"))       # True\n",
        "print(est_palindrome(\"laval\"))       # True\n",
        "print(est_palindrome(\"Python\"))      # False\n",
        "print(est_palindrome(\"amanaplanacanalpanama\"))  # True\n"
      ],
      "metadata": {
        "id": "Keh_x1e4rZQS",
        "colab": {
          "base_uri": "https://localhost:8080/"
        },
        "outputId": "fa6c1ce6-0e9b-44b6-d7f6-3d312a25f7c5"
      },
      "execution_count": null,
      "outputs": [
        {
          "output_type": "stream",
          "name": "stdout",
          "text": [
            "True\n",
            "True\n",
            "False\n",
            "True\n"
          ]
        }
      ]
    },
    {
      "cell_type": "code",
      "source": [
        "def inverse_mot(x):\n",
        "  p = len(x) - 1\n",
        "  result = \"\"\n",
        "  for i in range(p, -1, -1):\n",
        "    result += x[i]\n",
        "    #i = i - 1\n",
        "  return result\n",
        "\n",
        "k = \"papa\"\n",
        "\n",
        "print(inverse_mot(k))"
      ],
      "metadata": {
        "colab": {
          "base_uri": "https://localhost:8080/"
        },
        "id": "2E_wSRpCj2v_",
        "outputId": "696887dd-8dd9-453f-d7db-7a790a3d5337"
      },
      "execution_count": null,
      "outputs": [
        {
          "output_type": "stream",
          "name": "stdout",
          "text": [
            "apap\n"
          ]
        }
      ]
    },
    {
      "cell_type": "code",
      "source": [
        "for n in range(2, 10):\n",
        "  for x in range(2, n):\n",
        "    if n % x == 0:\n",
        "      print(n, 'equals', x, '*', n//x)\n",
        "      break\n",
        "  else:\n",
        "  # loop fell through without finding a factor\n",
        "    print(n, 'is a prime number')\n",
        "\"\"\"\n",
        "2 is a prime number\n",
        "3 is a prime number\n",
        "4 equals 2 * 2\n",
        "5 is a prime number\n",
        "6 equals 2 * 3\n",
        "7 is a prime number\n",
        "8 equals 2 * 4\n",
        "9 equals 3 * 3\n",
        "\"\"\""
      ],
      "metadata": {
        "colab": {
          "base_uri": "https://localhost:8080/",
          "height": 178
        },
        "id": "CYHmcA48j3C5",
        "outputId": "d790bc5c-4799-452a-87a5-c47682f73de6"
      },
      "execution_count": null,
      "outputs": [
        {
          "output_type": "stream",
          "name": "stdout",
          "text": [
            "2 is a prime number\n",
            "3 is a prime number\n",
            "4 equals 2 * 2\n",
            "5 is a prime number\n",
            "6 equals 2 * 3\n",
            "7 is a prime number\n",
            "8 equals 2 * 4\n",
            "9 equals 3 * 3\n"
          ]
        },
        {
          "output_type": "execute_result",
          "data": {
            "text/plain": [
              "'\\n2 is a prime number\\n3 is a prime number\\n4 equals 2 * 2\\n5 is a prime number\\n6 equals 2 * 3\\n7 is a prime number\\n8 equals 2 * 4\\n9 equals 3 * 3\\n'"
            ],
            "application/vnd.google.colaboratory.intrinsic+json": {
              "type": "string"
            }
          },
          "metadata": {},
          "execution_count": 27
        }
      ]
    },
    {
      "cell_type": "code",
      "source": [
        "n = int(input(\"Entrez un nombre entier : \"))\n",
        "\n",
        "# Initialise le résultat à 1\n",
        "resultat = 1\n",
        "\n",
        "# Calcule le factoriel de n\n",
        "for i in range(1, n+1):\n",
        "    resultat *= i\n",
        "\n",
        "# Affiche le résultat\n",
        "print(\"Le factoriel de\", n, \"est\", resultat)"
      ],
      "metadata": {
        "id": "6hBQeSIyj3Xx",
        "colab": {
          "base_uri": "https://localhost:8080/"
        },
        "outputId": "7c0a6cf2-0e68-4c39-97d3-b1770186d228"
      },
      "execution_count": null,
      "outputs": [
        {
          "output_type": "stream",
          "name": "stdout",
          "text": [
            "Entrez un nombre entier : 3\n",
            "Le factoriel de 3 est 6\n"
          ]
        }
      ]
    },
    {
      "cell_type": "code",
      "source": [
        "n = int(input(\"Tapez la valeur de l'entier n \"))\n",
        "# parcourir tous les entiers inféreir ou égale à n\n",
        "for i in range(1,n+1):\n",
        "    # tester si i est un diviseur de n\n",
        "    if(n%i==0):\n",
        "        print(\"Le nombre \",i,\" est un diviseur de  \",n)"
      ],
      "metadata": {
        "id": "d0qklKtkj3o5",
        "colab": {
          "base_uri": "https://localhost:8080/"
        },
        "outputId": "76fff3ae-49dc-4915-c747-e5d3dc1a8f61"
      },
      "execution_count": null,
      "outputs": [
        {
          "output_type": "stream",
          "name": "stdout",
          "text": [
            "Tapez la valeur de l'entier n 50\n",
            "Le nombre  1  est un diviseur de   50\n",
            "Le nombre  2  est un diviseur de   50\n",
            "Le nombre  5  est un diviseur de   50\n",
            "Le nombre  10  est un diviseur de   50\n",
            "Le nombre  25  est un diviseur de   50\n",
            "Le nombre  50  est un diviseur de   50\n"
          ]
        }
      ]
    },
    {
      "cell_type": "code",
      "source": [
        "\"\"\"\n",
        "1) - Ecrire un programme en Python qui demande à l’utilisateur de saisir un nombre entier n et de lui afficher la table de multiplication de ce nombre.\n",
        "2) - Améliorez le programme afin qu’il affiche les tables de multiplications de tous les nombres compris entre 1 et 9 \"\"\"\n",
        "\n",
        "# Lire la valeur de l'entier n\n",
        "n = int(input(\"Tapez la valeur de n \"))\n",
        "print(\"La table de multiplication de : \", n,\" est :\")\n",
        "for i in range(1,10):\n",
        "    print(i , \" x \", n, \" = \",i*n)\n",
        "\n",
        "for n in range(1,10):\n",
        "    #insert separator\n",
        "    print(\"--------------------------------------\")\n",
        "    print(\"la table de multiplication de  : \", n,\" est :\")\n",
        "    for i in range(1,10):\n",
        "        print(i , \" x \", n, \" = \",i*n)"
      ],
      "metadata": {
        "id": "vdjuwTxZj35B",
        "colab": {
          "base_uri": "https://localhost:8080/"
        },
        "outputId": "0d7892ea-4b67-4812-fa83-eda489de23a4"
      },
      "execution_count": null,
      "outputs": [
        {
          "output_type": "stream",
          "name": "stdout",
          "text": [
            "Tapez la valeur de n 0\n",
            "La table de multiplication de :  0  est :\n",
            "1  x  0  =  0\n",
            "2  x  0  =  0\n",
            "3  x  0  =  0\n",
            "4  x  0  =  0\n",
            "5  x  0  =  0\n",
            "6  x  0  =  0\n",
            "7  x  0  =  0\n",
            "8  x  0  =  0\n",
            "9  x  0  =  0\n",
            "--------------------------------------\n",
            "la table de multiplication de  :  1  est :\n",
            "1  x  1  =  1\n",
            "2  x  1  =  2\n",
            "3  x  1  =  3\n",
            "4  x  1  =  4\n",
            "5  x  1  =  5\n",
            "6  x  1  =  6\n",
            "7  x  1  =  7\n",
            "8  x  1  =  8\n",
            "9  x  1  =  9\n",
            "--------------------------------------\n",
            "la table de multiplication de  :  2  est :\n",
            "1  x  2  =  2\n",
            "2  x  2  =  4\n",
            "3  x  2  =  6\n",
            "4  x  2  =  8\n",
            "5  x  2  =  10\n",
            "6  x  2  =  12\n",
            "7  x  2  =  14\n",
            "8  x  2  =  16\n",
            "9  x  2  =  18\n",
            "--------------------------------------\n",
            "la table de multiplication de  :  3  est :\n",
            "1  x  3  =  3\n",
            "2  x  3  =  6\n",
            "3  x  3  =  9\n",
            "4  x  3  =  12\n",
            "5  x  3  =  15\n",
            "6  x  3  =  18\n",
            "7  x  3  =  21\n",
            "8  x  3  =  24\n",
            "9  x  3  =  27\n",
            "--------------------------------------\n",
            "la table de multiplication de  :  4  est :\n",
            "1  x  4  =  4\n",
            "2  x  4  =  8\n",
            "3  x  4  =  12\n",
            "4  x  4  =  16\n",
            "5  x  4  =  20\n",
            "6  x  4  =  24\n",
            "7  x  4  =  28\n",
            "8  x  4  =  32\n",
            "9  x  4  =  36\n",
            "--------------------------------------\n",
            "la table de multiplication de  :  5  est :\n",
            "1  x  5  =  5\n",
            "2  x  5  =  10\n",
            "3  x  5  =  15\n",
            "4  x  5  =  20\n",
            "5  x  5  =  25\n",
            "6  x  5  =  30\n",
            "7  x  5  =  35\n",
            "8  x  5  =  40\n",
            "9  x  5  =  45\n",
            "--------------------------------------\n",
            "la table de multiplication de  :  6  est :\n",
            "1  x  6  =  6\n",
            "2  x  6  =  12\n",
            "3  x  6  =  18\n",
            "4  x  6  =  24\n",
            "5  x  6  =  30\n",
            "6  x  6  =  36\n",
            "7  x  6  =  42\n",
            "8  x  6  =  48\n",
            "9  x  6  =  54\n",
            "--------------------------------------\n",
            "la table de multiplication de  :  7  est :\n",
            "1  x  7  =  7\n",
            "2  x  7  =  14\n",
            "3  x  7  =  21\n",
            "4  x  7  =  28\n",
            "5  x  7  =  35\n",
            "6  x  7  =  42\n",
            "7  x  7  =  49\n",
            "8  x  7  =  56\n",
            "9  x  7  =  63\n",
            "--------------------------------------\n",
            "la table de multiplication de  :  8  est :\n",
            "1  x  8  =  8\n",
            "2  x  8  =  16\n",
            "3  x  8  =  24\n",
            "4  x  8  =  32\n",
            "5  x  8  =  40\n",
            "6  x  8  =  48\n",
            "7  x  8  =  56\n",
            "8  x  8  =  64\n",
            "9  x  8  =  72\n",
            "--------------------------------------\n",
            "la table de multiplication de  :  9  est :\n",
            "1  x  9  =  9\n",
            "2  x  9  =  18\n",
            "3  x  9  =  27\n",
            "4  x  9  =  36\n",
            "5  x  9  =  45\n",
            "6  x  9  =  54\n",
            "7  x  9  =  63\n",
            "8  x  9  =  72\n",
            "9  x  9  =  81\n"
          ]
        }
      ]
    },
    {
      "cell_type": "code",
      "source": [
        "\"\"\"\n",
        "Ecrire un programme en langage Python qui demande à l'utilisateur de saisir un nombre entier n et de lui afficher si ce nombre est premier ou non.\"\"\"\n",
        "\n",
        "# Lire la valeur de l'entier n\n",
        "n = int(input(\"Tapez la valeur de n :  \"))\n",
        "# on utilise un compteur qui compte le nombre de diviseurs de n\n",
        "j = 0\n",
        "for i in range(1, n+1):\n",
        "    if(n%i == 0):\n",
        "        j = j + 1\n",
        "\n",
        "# On teste si le nombre de diviseurs de n est = 2 pour conclure que n est premier\n",
        "if( j == 2):\n",
        "    print(\"Le nombre  \", n , \" est premier\")\n",
        "else:\n",
        "    print(\"Le nombre  \", n , \" n'est pas premier\")"
      ],
      "metadata": {
        "id": "0D1dp9vnj4IR"
      },
      "execution_count": null,
      "outputs": []
    },
    {
      "cell_type": "code",
      "source": [
        "\"\"\"\n",
        "Ecrire un algorithme en langage Python qui demande à l'utilisateur de saisir une chaine de caractère 's' et de lui afficher un message indiquant si la chaine contient la lettre 'a' tout en indiquant sa position sur la chaine 's'. Exemple si l'utilisateur tape la chaine s = 'langage' le programme lui renvoie :\n",
        "La lettre 'a' se trouve à la position : 1\n",
        "La lettre 'a' se trouve à la position : 4\n",
        "\"\"\"\n",
        "\n",
        "# Demander à l'utilisateur de tapez la valeur de s\n",
        "s = input(\"Tapez la valeur de s : \")\n",
        "\n",
        "# Obtenir la longueur de la chaine s\n",
        "n = len(s)\n",
        "\n",
        "# Parcourir la chaine s tout en recherchant le caractère 'a'\n",
        "for i in range(0,n):\n",
        "    # Tester si le caractère rencontré est égale à 'a'\n",
        "    if(s[i] == 'a'):\n",
        "        print(\"Le caractère  'a' se trouve à la  position : \", i , \" dans la chaine s\")"
      ],
      "metadata": {
        "id": "qnU0xrBKj4XA"
      },
      "execution_count": null,
      "outputs": []
    },
    {
      "cell_type": "code",
      "source": [
        "s = input(\"Entrez une chaine de caractères : \")\n",
        "has_a = False\n",
        "\n",
        "# Parcourir les caractères de la chaîne\n",
        "for i, c in enumerate(s):\n",
        "    # Vérifier si le caractère est 'a'\n",
        "    if c == 'a':\n",
        "        print(f\"La lettre 'a' se trouve à la position : {i}\")\n",
        "        has_a = True\n",
        "\n",
        "# Afficher un message si 'a' n'a pas été trouvé\n",
        "if not has_a:\n",
        "    print(\"La chaine ne contient pas la lettre 'a'.\")"
      ],
      "metadata": {
        "id": "ec9JupdDj4kx"
      },
      "execution_count": null,
      "outputs": []
    },
    {
      "cell_type": "code",
      "source": [
        "# Ecrire un algorithme en langage Python qui échange le premier et le dernier caractère d’une chaine donnée.\n",
        "\n",
        "chaine = input(\"Entrez une chaine de caracteres : \")\n",
        "\n",
        "if len(chaine) < 2:\n",
        "    print(\"La chaine doit contenir au moins deux caracteres 's'.\")\n",
        "else:\n",
        "    premier = chaine[0]\n",
        "    dernier = chaine[-1]\n",
        "    milieu = chaine[1:-1]\n",
        "    nouvelle_chaine = dernier + milieu + premier\n",
        "    print(\"La nouvelle chaine est :\", nouvelle_chaine)"
      ],
      "metadata": {
        "id": "XcpDgfnej4y5",
        "colab": {
          "base_uri": "https://localhost:8080/"
        },
        "outputId": "96e974c0-0fd6-4d3f-cab5-ad509f4a8dcd"
      },
      "execution_count": null,
      "outputs": [
        {
          "output_type": "stream",
          "name": "stdout",
          "text": [
            "Entrez une chaine de caracteres : laurent\n",
            "La nouvelle chaine est : taurenl\n"
          ]
        }
      ]
    },
    {
      "cell_type": "code",
      "source": [
        "chaine = input(\"Entrez une chaine : \")\n",
        "voyelles = \"aeiouyAEIOUY\"\n",
        "compteur_voyelles = 0\n",
        "\n",
        "for lettre in chaine:\n",
        "    if lettre in voyelles:\n",
        "        compteur_voyelles += 1\n",
        "\n",
        "print(\"La chaine\", chaine, \"possède\", compteur_voyelles, \"voyelles.\")"
      ],
      "metadata": {
        "id": "mrzDjwfqj4_J"
      },
      "execution_count": null,
      "outputs": []
    },
    {
      "cell_type": "code",
      "source": [
        "# Ecrire un algorithme en langage Python qui demande à l’utilisateur de saisir le nom d’un fichier\n",
        "# et de lui afficher son extension. Exemple: si l’utilisateur saisie 'coursPython.pdf', le programme lui renvoie le message \"L'extension du fichier est .pdf\"\n",
        "\n",
        "filename = input(\"Entrez le nom du fichier : \")\n",
        "\n",
        "# Utilisation de la méthode split() pour séparer le nom de fichier et son extension\n",
        "extension = filename.split(\".\")[-1]\n",
        "\n",
        "# Affichage du résultat\n",
        "print(\"L'extension du fichier est .\" + extension)"
      ],
      "metadata": {
        "id": "HqDiixxij5Lb",
        "colab": {
          "base_uri": "https://localhost:8080/"
        },
        "outputId": "af72e2ff-59c2-4923-e225-eaad321df327"
      },
      "execution_count": null,
      "outputs": [
        {
          "output_type": "stream",
          "name": "stdout",
          "text": [
            "Entrez le nom du fichier : ynov.pdf\n",
            "L'extension du fichier est .pdf\n"
          ]
        }
      ]
    },
    {
      "cell_type": "code",
      "source": [
        "# Ecrire un algorithme en langage Python qui demande à l’utilisateur de saisir un texte et de lui renvoyer tous les mots commençant par la lettre 'a'.\n",
        "\n",
        "texte = input(\"Entrez votre texte : \")\n",
        "\n",
        "# Séparez le texte en une liste de mots\n",
        "mots = texte.split()\n",
        "\n",
        "# Parcourez chaque mot et vérifiez s'il commence par \"a\"\n",
        "mots_commencant_par_a = []\n",
        "for mot in mots:\n",
        "    if mot.startswith(\"a\") or mot.startswith(\"A\"):\n",
        "        mots_commencant_par_a.append(mot)\n",
        "\n",
        "# Affichez les mots commençant par \"a\"\n",
        "if len(mots_commencant_par_a) > 0:\n",
        "    print(\"Les mots commençant par 'a' sont :\" , mots_commencant_par_a)\n",
        "else:\n",
        "    print(\"Il n'y a pas de mots commençant par 'a' dans votre texte.\")"
      ],
      "metadata": {
        "id": "npDaNzvGj5Xi",
        "colab": {
          "base_uri": "https://localhost:8080/"
        },
        "outputId": "05525fcc-1c2e-4e5e-8c26-c0a3f72bcb8d"
      },
      "execution_count": null,
      "outputs": [
        {
          "output_type": "stream",
          "name": "stdout",
          "text": [
            "Entrez votre texte : papa\n",
            "Il n'y a pas de mots commençant par 'a' dans votre texte.\n"
          ]
        }
      ]
    },
    {
      "cell_type": "code",
      "source": [
        "# Ecrire une fonction en Python qui permet de comparer deux listes et de nous indiquer si ces deux listes ont une valeur communes ou non.\n",
        "\n",
        "def elementsCommun(l1,l2):\n",
        "    compteur = 0\n",
        "    for x in l1:\n",
        "        if x in l2:\n",
        "            compteur =compteur + 1\n",
        "    if compteur != 0:\n",
        "        return True\n",
        "    else:\n",
        "        return False\n",
        "\n",
        "l1 = [2,35,5,6,21]\n",
        "l2 = [2,13,5,7,19]\n",
        "print(elementsCommun(l1,l2))\n",
        "# Ce qui affiche True"
      ],
      "metadata": {
        "id": "OZx3HsIOZn_5"
      },
      "execution_count": null,
      "outputs": []
    },
    {
      "cell_type": "code",
      "source": [
        "# Écrire un programme Python qui permet d’extraire la liste des entiers pairs et la liste des entiers impairs d’une liste de nombres.\n",
        "\n",
        "def extract(l):\n",
        "    pair = []\n",
        "    impair = []\n",
        "    for x in l:\n",
        "        if(x%2 == 0):\n",
        "            pair.append(x)\n",
        "        else:\n",
        "            impair.append(x)\n",
        "    print(\"La liste des entiers pair est : \",pair)\n",
        "    print(\"La liste des entiers impair est : \",impair)\n",
        "# Tester l'algorithme\n",
        "l =[23,4,56,7,8,9,0,18,7,6,55,43,2]\n",
        "print(extract(l))\n",
        "\"\"\"\n",
        "Ce qui affiche après exécution :\n",
        "La liste des entiers pair est :  [4, 56, 8, 0, 18, 6, 2]\n",
        "La liste des entiers impair est :  [23, 7, 9, 7, 55, 43]\n",
        "\"\"\""
      ],
      "metadata": {
        "id": "tUFGItAbZoRb"
      },
      "execution_count": null,
      "outputs": []
    },
    {
      "cell_type": "code",
      "source": [],
      "metadata": {
        "id": "PUX3taXZZogz"
      },
      "execution_count": null,
      "outputs": []
    },
    {
      "cell_type": "code",
      "source": [
        "# Pour générer toutes les permutations d'une liste en Python, vous pouvez utiliser\n",
        "# la fonction permutations du module itertools. Voici un exemple de code qui utilise\n",
        "# cette fonction pour renvoyer toutes les listes obtenues en permutant les termes d'une liste donnée :\n",
        "\n",
        "import itertools\n",
        "\n",
        "def permutations_liste(liste):\n",
        "    # Générer toutes les permutations de la liste\n",
        "    permutations = itertools.permutations(liste)\n",
        "\n",
        "    # Convertir chaque permutation en liste et les ajouter à une liste de listes\n",
        "    permutations_liste = [list(p) for p in permutations]\n",
        "\n",
        "    return permutations_liste\n",
        "\n",
        "k = [1, 8,]\n",
        "permutations_liste(k)\n",
        "\n",
        "\"\"\"\n",
        "Dans cette fonction:\n",
        "\n",
        "    la variable permutations: contient toutes les permutations de la liste donnée, sous forme de tuples.\n",
        "    Nous utilisons ensuite une compréhension de liste: pour convertir chaque tuple en une liste et les ajouter à une nouvelle liste de listes permutations_liste.\n",
        "    Enfin permutations_liste(): renvoie cette liste de listes contenant toutes les permutations de la liste donnée.\n",
        "\n",
        "\"\"\""
      ],
      "metadata": {
        "colab": {
          "base_uri": "https://localhost:8080/"
        },
        "id": "8t6hnJnWZo3U",
        "outputId": "df251c2d-f589-4b71-d447-be4271a25bbc"
      },
      "execution_count": null,
      "outputs": [
        {
          "output_type": "execute_result",
          "data": {
            "text/plain": [
              "[[1, 8], [8, 1]]"
            ]
          },
          "metadata": {},
          "execution_count": 35
        }
      ]
    },
    {
      "cell_type": "code",
      "source": [
        "#Ecrire un algorithme en Python qui prends en entrée une chaine de caractères 's' saisie par à l'utilisateur\n",
        "# et affiche les caractères d'indice pair. Exemple: pour la chaine s = \"Python\", le programme renvoie 'Pto'.\n",
        "\n",
        "\n",
        "# 1ère méthode:\n",
        "\n",
        "# Lire la chaine s\n",
        "\"\"\"s = input(\"Saisissez la chaine s :\")\n",
        "s1 = \"\"\n",
        "i = 0\n",
        "while(i<=len(s)-1):\n",
        "    s1 = s1 + s[i]\n",
        "    i = i + 2\"\"\"\n",
        "# print(s1)\n",
        "\n",
        "\n",
        "\n",
        "# 2ème méthode:\n",
        "s = input(\"Saisissez la chaine s :\")\n",
        "\n",
        "# parcourt de la chaine s avec le pas = 2\n",
        "print(s[0:len(s):2])\n",
        "\n",
        "print(s)\n",
        "\"\"\"\n",
        "output:\n",
        "Saisissez la chaine s : python\n",
        "'pto'\n",
        "\"\"\""
      ],
      "metadata": {
        "colab": {
          "base_uri": "https://localhost:8080/",
          "height": 89
        },
        "id": "xZUXRLhCZpGe",
        "outputId": "0ae4a860-bd84-4d20-9a6f-baa1eee3acfb"
      },
      "execution_count": null,
      "outputs": [
        {
          "output_type": "stream",
          "name": "stdout",
          "text": [
            "Saisissez la chaine s :yvell\n",
            "yel\n",
            "yvell\n"
          ]
        },
        {
          "output_type": "execute_result",
          "data": {
            "text/plain": [
              "\"\\noutput:\\nSaisissez la chaine s : python\\n'pto'\\n\""
            ],
            "application/vnd.google.colaboratory.intrinsic+json": {
              "type": "string"
            }
          },
          "metadata": {},
          "execution_count": 38
        }
      ]
    },
    {
      "cell_type": "code",
      "source": [],
      "metadata": {
        "id": "po54T6hkZpWZ"
      },
      "execution_count": null,
      "outputs": []
    },
    {
      "cell_type": "code",
      "source": [
        "# Ecrire un programme en Python qui permet de transformer une adresse url saisie au clavier en un lien hypertexte.\n",
        "\n",
        "# Lire adresse url\n",
        "url = input(\"Saisir une url :\")\n",
        "# Lire le texte du lien hypertexte\n",
        "text_lien = input(\"saisir le texte du lien\")\n",
        "# convert the url text to a link\n",
        "url = \"<a href='\"+ url + \"'> \" + text_lien + \"</a>\"\n",
        "print(url)"
      ],
      "metadata": {
        "colab": {
          "base_uri": "https://localhost:8080/"
        },
        "id": "5BoR8wB2Zpl0",
        "outputId": "9af4d084-84cc-4c9f-f409-ce458f34b580"
      },
      "execution_count": null,
      "outputs": [
        {
          "output_type": "stream",
          "name": "stdout",
          "text": [
            "Saisir une url :yvell\n",
            "saisir le texte du lienhttps\n",
            "<a href='yvell'> https</a>\n"
          ]
        }
      ]
    },
    {
      "cell_type": "code",
      "source": [
        "# Ecrire un algorithme Python sous forme de fonction qui prend en paramètre une\n",
        "# chaîne s et qui renvoie le dictionnaire dont les clés sont les mots qui composent\n",
        "# la chaîne s et dont les valeurs des clés sont les nombres d'occurrences des mots dans la chaîne Text s.\n",
        "\n",
        "def wordOccurrence(s):\n",
        "\n",
        "    # initialisation du dictionnaire qu'on souhaite obtenie\n",
        "    d = dict({})\n",
        "\n",
        "    # cconvertir la chaine s en une liste\n",
        "    listWords = s.split()\n",
        "\n",
        "    # parcourir les éléments de la liste listWords\n",
        "    # ajouter ensuite le nombre d'occurrences de chaque mot\n",
        "    for word in listWords:\n",
        "        d[word] = listWords.count(word)\n",
        "\n",
        "    return d\n",
        "\n",
        "# Exemple\n",
        "s = \"I use Python for datascience but I don't use Python for mobile\"\n",
        "print(wordOccurrence(s))\n",
        "\n",
        "# Out :  {'I': 2, 'use': 2, 'Python': 2, 'for': 2, 'datascience': 1, 'but': 1, \"don't\": 1, 'mobile': 1}\n",
        "\n",
        "\n"
      ],
      "metadata": {
        "colab": {
          "base_uri": "https://localhost:8080/"
        },
        "id": "3xqN71IZZp0z",
        "outputId": "5d6c72da-0176-4abd-c110-19a41f32e076"
      },
      "execution_count": null,
      "outputs": [
        {
          "output_type": "stream",
          "name": "stdout",
          "text": [
            "{'I': 2, 'use': 2, 'Python': 2, 'for': 2, 'datascience': 1, 'but': 1, \"don't\": 1, 'mobile': 1}\n"
          ]
        }
      ]
    },
    {
      "cell_type": "code",
      "source": [],
      "metadata": {
        "id": "OvaX_ApqZqM6"
      },
      "execution_count": null,
      "outputs": []
    },
    {
      "cell_type": "code",
      "source": [],
      "metadata": {
        "id": "vhbKwfP9j5i_"
      },
      "execution_count": null,
      "outputs": []
    },
    {
      "cell_type": "markdown",
      "source": [
        "# Nouvelle section"
      ],
      "metadata": {
        "id": "JHpbKN2wMNj2"
      }
    },
    {
      "cell_type": "markdown",
      "source": [
        "## PROJET : Modèle de Machine Learning pour prédire le score de qualité d'un vin\n",
        "\n",
        "Compréhension de la problématique\n",
        "\n",
        "* #### La production du vin : une histoire d'argent\n",
        "* #### Si vous ne faites pas bien les choses, vous risquez de perdre beaucoup d'argent dans ce business surtout si votre vin n'est pas certifié de bonne qualité\n",
        "\n",
        "\n",
        "Comment améliorer d'une part la certification du vin en utilisant une approche beaucoup plus scientifique et d'autre part comment aider les producteurs à anticiper sur la qualité de leur vin et ainsi avoir de meilleurs chiffres d'affaires ?\n",
        "\n",
        "* #### Data Mining et Machine Learning\n",
        "En appliquant les techniques de Data Mining sur les données physico-chimiques du vin, on peut d'une part extraire de ces données brutes des informations utiles permettant de comprendre la relation entre les paramètres physico-chimiques du vin et sa qualité.\n",
        "\n",
        "Dans ce projet, nous allons construite un modèle de ML pour prédire le score de qualité d'un vin. L'objectif est de trouver les attributs nécessaires pour fabriquer un vin de vin de qualité afin d'aider les producteurs à optimiser leurs efforts.\n",
        "\n",
        "\n",
        "### Pour ce projet, nous allons suivre les étapes suivantes:\n",
        "* Compréhension de la problématique Business;\n",
        "* Collecte des données;\n",
        "* Analyse exploratoire;\n",
        "* Prétraitement des données;\n",
        "* Modélisation;\n",
        "* Résultats et conclusion.\n",
        "\n",
        "\n",
        "\n",
        "## Librairies"
      ],
      "metadata": {
        "id": "dbB-3yOjrnK9"
      }
    },
    {
      "cell_type": "code",
      "source": [
        "import pandas as pd\n",
        "import numpy as np\n",
        "import matplotlib.pyplot as plt\n",
        "import seaborn as sns\n",
        "\n",
        "from sklearn.model_selection import cross_val_score\n",
        "from sklearn.model_selection import StratifiedKFold\n",
        "from sklearn.linear_model import LinearRegression\n",
        "from sklearn.svm import SVR\n",
        "from sklearn.ensemble import RandomForestRegressor\n",
        "from sklearn.preprocessing import StandardScaler\n",
        "from sklearn.metrics import mean_squared_error\n"
      ],
      "metadata": {
        "id": "1ZRGmVPbvMfY"
      },
      "execution_count": null,
      "outputs": []
    },
    {
      "cell_type": "markdown",
      "source": [
        "### Importation des données\n",
        "\n",
        "Les variables indépendantes (basées sur les tests physico-chimiques) sont :\n",
        "\n",
        "* fixed acidity :\n",
        "* volatile acidity :\n",
        "* citric acid :\n",
        "* residual sugar\n",
        "* chlorides\n",
        "* free sulfur dioxide\n",
        "* total sulfur dioxide\n",
        "* density\n",
        "* pH\n",
        "* sulphates\n",
        "* alcohol\n",
        "\n",
        "La variable dépendante ou variable d'intérêt (basée sur les données sensorielles) est :\n",
        "\n",
        "* quality (score allant de 0 à 10 pour prédire respectivement une mauvaise qualité à une bonne qualité de vin)"
      ],
      "metadata": {
        "id": "Ue3imsvkxhzt"
      }
    },
    {
      "cell_type": "code",
      "source": [
        "red = pd.read_csv(\"https://archive.ics.uci.edu/ml/machine-learning-databases/wine-quality/winequality-red.csv\", sep=\";\")\n",
        "\n",
        "white = pd.read_csv(\"https://archive.ics.uci.edu/ml/machine-learning-databases/wine-quality/winequality-white.csv\", sep=\";\")\n",
        "\n",
        "\n"
      ],
      "metadata": {
        "id": "x144tdc4xgat"
      },
      "execution_count": null,
      "outputs": []
    },
    {
      "cell_type": "code",
      "source": [
        "red.head()"
      ],
      "metadata": {
        "colab": {
          "base_uri": "https://localhost:8080/",
          "height": 206
        },
        "id": "Rj5BjpadzJm2",
        "outputId": "6d46d49f-012b-4847-b604-0685d13648f4"
      },
      "execution_count": null,
      "outputs": [
        {
          "output_type": "execute_result",
          "data": {
            "text/plain": [
              "   fixed acidity  volatile acidity  citric acid  residual sugar  chlorides  \\\n",
              "0            7.4              0.70         0.00             1.9      0.076   \n",
              "1            7.8              0.88         0.00             2.6      0.098   \n",
              "2            7.8              0.76         0.04             2.3      0.092   \n",
              "3           11.2              0.28         0.56             1.9      0.075   \n",
              "4            7.4              0.70         0.00             1.9      0.076   \n",
              "\n",
              "   free sulfur dioxide  total sulfur dioxide  density    pH  sulphates  \\\n",
              "0                 11.0                  34.0   0.9978  3.51       0.56   \n",
              "1                 25.0                  67.0   0.9968  3.20       0.68   \n",
              "2                 15.0                  54.0   0.9970  3.26       0.65   \n",
              "3                 17.0                  60.0   0.9980  3.16       0.58   \n",
              "4                 11.0                  34.0   0.9978  3.51       0.56   \n",
              "\n",
              "   alcohol  quality  \n",
              "0      9.4        5  \n",
              "1      9.8        5  \n",
              "2      9.8        5  \n",
              "3      9.8        6  \n",
              "4      9.4        5  "
            ],
            "text/html": [
              "\n",
              "  <div id=\"df-3ba41ba9-d698-402b-b7e3-84681d42cd3d\" class=\"colab-df-container\">\n",
              "    <div>\n",
              "<style scoped>\n",
              "    .dataframe tbody tr th:only-of-type {\n",
              "        vertical-align: middle;\n",
              "    }\n",
              "\n",
              "    .dataframe tbody tr th {\n",
              "        vertical-align: top;\n",
              "    }\n",
              "\n",
              "    .dataframe thead th {\n",
              "        text-align: right;\n",
              "    }\n",
              "</style>\n",
              "<table border=\"1\" class=\"dataframe\">\n",
              "  <thead>\n",
              "    <tr style=\"text-align: right;\">\n",
              "      <th></th>\n",
              "      <th>fixed acidity</th>\n",
              "      <th>volatile acidity</th>\n",
              "      <th>citric acid</th>\n",
              "      <th>residual sugar</th>\n",
              "      <th>chlorides</th>\n",
              "      <th>free sulfur dioxide</th>\n",
              "      <th>total sulfur dioxide</th>\n",
              "      <th>density</th>\n",
              "      <th>pH</th>\n",
              "      <th>sulphates</th>\n",
              "      <th>alcohol</th>\n",
              "      <th>quality</th>\n",
              "    </tr>\n",
              "  </thead>\n",
              "  <tbody>\n",
              "    <tr>\n",
              "      <th>0</th>\n",
              "      <td>7.4</td>\n",
              "      <td>0.70</td>\n",
              "      <td>0.00</td>\n",
              "      <td>1.9</td>\n",
              "      <td>0.076</td>\n",
              "      <td>11.0</td>\n",
              "      <td>34.0</td>\n",
              "      <td>0.9978</td>\n",
              "      <td>3.51</td>\n",
              "      <td>0.56</td>\n",
              "      <td>9.4</td>\n",
              "      <td>5</td>\n",
              "    </tr>\n",
              "    <tr>\n",
              "      <th>1</th>\n",
              "      <td>7.8</td>\n",
              "      <td>0.88</td>\n",
              "      <td>0.00</td>\n",
              "      <td>2.6</td>\n",
              "      <td>0.098</td>\n",
              "      <td>25.0</td>\n",
              "      <td>67.0</td>\n",
              "      <td>0.9968</td>\n",
              "      <td>3.20</td>\n",
              "      <td>0.68</td>\n",
              "      <td>9.8</td>\n",
              "      <td>5</td>\n",
              "    </tr>\n",
              "    <tr>\n",
              "      <th>2</th>\n",
              "      <td>7.8</td>\n",
              "      <td>0.76</td>\n",
              "      <td>0.04</td>\n",
              "      <td>2.3</td>\n",
              "      <td>0.092</td>\n",
              "      <td>15.0</td>\n",
              "      <td>54.0</td>\n",
              "      <td>0.9970</td>\n",
              "      <td>3.26</td>\n",
              "      <td>0.65</td>\n",
              "      <td>9.8</td>\n",
              "      <td>5</td>\n",
              "    </tr>\n",
              "    <tr>\n",
              "      <th>3</th>\n",
              "      <td>11.2</td>\n",
              "      <td>0.28</td>\n",
              "      <td>0.56</td>\n",
              "      <td>1.9</td>\n",
              "      <td>0.075</td>\n",
              "      <td>17.0</td>\n",
              "      <td>60.0</td>\n",
              "      <td>0.9980</td>\n",
              "      <td>3.16</td>\n",
              "      <td>0.58</td>\n",
              "      <td>9.8</td>\n",
              "      <td>6</td>\n",
              "    </tr>\n",
              "    <tr>\n",
              "      <th>4</th>\n",
              "      <td>7.4</td>\n",
              "      <td>0.70</td>\n",
              "      <td>0.00</td>\n",
              "      <td>1.9</td>\n",
              "      <td>0.076</td>\n",
              "      <td>11.0</td>\n",
              "      <td>34.0</td>\n",
              "      <td>0.9978</td>\n",
              "      <td>3.51</td>\n",
              "      <td>0.56</td>\n",
              "      <td>9.4</td>\n",
              "      <td>5</td>\n",
              "    </tr>\n",
              "  </tbody>\n",
              "</table>\n",
              "</div>\n",
              "    <div class=\"colab-df-buttons\">\n",
              "\n",
              "  <div class=\"colab-df-container\">\n",
              "    <button class=\"colab-df-convert\" onclick=\"convertToInteractive('df-3ba41ba9-d698-402b-b7e3-84681d42cd3d')\"\n",
              "            title=\"Convert this dataframe to an interactive table.\"\n",
              "            style=\"display:none;\">\n",
              "\n",
              "  <svg xmlns=\"http://www.w3.org/2000/svg\" height=\"24px\" viewBox=\"0 -960 960 960\">\n",
              "    <path d=\"M120-120v-720h720v720H120Zm60-500h600v-160H180v160Zm220 220h160v-160H400v160Zm0 220h160v-160H400v160ZM180-400h160v-160H180v160Zm440 0h160v-160H620v160ZM180-180h160v-160H180v160Zm440 0h160v-160H620v160Z\"/>\n",
              "  </svg>\n",
              "    </button>\n",
              "\n",
              "  <style>\n",
              "    .colab-df-container {\n",
              "      display:flex;\n",
              "      gap: 12px;\n",
              "    }\n",
              "\n",
              "    .colab-df-convert {\n",
              "      background-color: #E8F0FE;\n",
              "      border: none;\n",
              "      border-radius: 50%;\n",
              "      cursor: pointer;\n",
              "      display: none;\n",
              "      fill: #1967D2;\n",
              "      height: 32px;\n",
              "      padding: 0 0 0 0;\n",
              "      width: 32px;\n",
              "    }\n",
              "\n",
              "    .colab-df-convert:hover {\n",
              "      background-color: #E2EBFA;\n",
              "      box-shadow: 0px 1px 2px rgba(60, 64, 67, 0.3), 0px 1px 3px 1px rgba(60, 64, 67, 0.15);\n",
              "      fill: #174EA6;\n",
              "    }\n",
              "\n",
              "    .colab-df-buttons div {\n",
              "      margin-bottom: 4px;\n",
              "    }\n",
              "\n",
              "    [theme=dark] .colab-df-convert {\n",
              "      background-color: #3B4455;\n",
              "      fill: #D2E3FC;\n",
              "    }\n",
              "\n",
              "    [theme=dark] .colab-df-convert:hover {\n",
              "      background-color: #434B5C;\n",
              "      box-shadow: 0px 1px 3px 1px rgba(0, 0, 0, 0.15);\n",
              "      filter: drop-shadow(0px 1px 2px rgba(0, 0, 0, 0.3));\n",
              "      fill: #FFFFFF;\n",
              "    }\n",
              "  </style>\n",
              "\n",
              "    <script>\n",
              "      const buttonEl =\n",
              "        document.querySelector('#df-3ba41ba9-d698-402b-b7e3-84681d42cd3d button.colab-df-convert');\n",
              "      buttonEl.style.display =\n",
              "        google.colab.kernel.accessAllowed ? 'block' : 'none';\n",
              "\n",
              "      async function convertToInteractive(key) {\n",
              "        const element = document.querySelector('#df-3ba41ba9-d698-402b-b7e3-84681d42cd3d');\n",
              "        const dataTable =\n",
              "          await google.colab.kernel.invokeFunction('convertToInteractive',\n",
              "                                                    [key], {});\n",
              "        if (!dataTable) return;\n",
              "\n",
              "        const docLinkHtml = 'Like what you see? Visit the ' +\n",
              "          '<a target=\"_blank\" href=https://colab.research.google.com/notebooks/data_table.ipynb>data table notebook</a>'\n",
              "          + ' to learn more about interactive tables.';\n",
              "        element.innerHTML = '';\n",
              "        dataTable['output_type'] = 'display_data';\n",
              "        await google.colab.output.renderOutput(dataTable, element);\n",
              "        const docLink = document.createElement('div');\n",
              "        docLink.innerHTML = docLinkHtml;\n",
              "        element.appendChild(docLink);\n",
              "      }\n",
              "    </script>\n",
              "  </div>\n",
              "\n",
              "\n",
              "<div id=\"df-9098131e-cd2d-4d89-ace9-f40446ea73b3\">\n",
              "  <button class=\"colab-df-quickchart\" onclick=\"quickchart('df-9098131e-cd2d-4d89-ace9-f40446ea73b3')\"\n",
              "            title=\"Suggest charts.\"\n",
              "            style=\"display:none;\">\n",
              "\n",
              "<svg xmlns=\"http://www.w3.org/2000/svg\" height=\"24px\"viewBox=\"0 0 24 24\"\n",
              "     width=\"24px\">\n",
              "    <g>\n",
              "        <path d=\"M19 3H5c-1.1 0-2 .9-2 2v14c0 1.1.9 2 2 2h14c1.1 0 2-.9 2-2V5c0-1.1-.9-2-2-2zM9 17H7v-7h2v7zm4 0h-2V7h2v10zm4 0h-2v-4h2v4z\"/>\n",
              "    </g>\n",
              "</svg>\n",
              "  </button>\n",
              "\n",
              "<style>\n",
              "  .colab-df-quickchart {\n",
              "      --bg-color: #E8F0FE;\n",
              "      --fill-color: #1967D2;\n",
              "      --hover-bg-color: #E2EBFA;\n",
              "      --hover-fill-color: #174EA6;\n",
              "      --disabled-fill-color: #AAA;\n",
              "      --disabled-bg-color: #DDD;\n",
              "  }\n",
              "\n",
              "  [theme=dark] .colab-df-quickchart {\n",
              "      --bg-color: #3B4455;\n",
              "      --fill-color: #D2E3FC;\n",
              "      --hover-bg-color: #434B5C;\n",
              "      --hover-fill-color: #FFFFFF;\n",
              "      --disabled-bg-color: #3B4455;\n",
              "      --disabled-fill-color: #666;\n",
              "  }\n",
              "\n",
              "  .colab-df-quickchart {\n",
              "    background-color: var(--bg-color);\n",
              "    border: none;\n",
              "    border-radius: 50%;\n",
              "    cursor: pointer;\n",
              "    display: none;\n",
              "    fill: var(--fill-color);\n",
              "    height: 32px;\n",
              "    padding: 0;\n",
              "    width: 32px;\n",
              "  }\n",
              "\n",
              "  .colab-df-quickchart:hover {\n",
              "    background-color: var(--hover-bg-color);\n",
              "    box-shadow: 0 1px 2px rgba(60, 64, 67, 0.3), 0 1px 3px 1px rgba(60, 64, 67, 0.15);\n",
              "    fill: var(--button-hover-fill-color);\n",
              "  }\n",
              "\n",
              "  .colab-df-quickchart-complete:disabled,\n",
              "  .colab-df-quickchart-complete:disabled:hover {\n",
              "    background-color: var(--disabled-bg-color);\n",
              "    fill: var(--disabled-fill-color);\n",
              "    box-shadow: none;\n",
              "  }\n",
              "\n",
              "  .colab-df-spinner {\n",
              "    border: 2px solid var(--fill-color);\n",
              "    border-color: transparent;\n",
              "    border-bottom-color: var(--fill-color);\n",
              "    animation:\n",
              "      spin 1s steps(1) infinite;\n",
              "  }\n",
              "\n",
              "  @keyframes spin {\n",
              "    0% {\n",
              "      border-color: transparent;\n",
              "      border-bottom-color: var(--fill-color);\n",
              "      border-left-color: var(--fill-color);\n",
              "    }\n",
              "    20% {\n",
              "      border-color: transparent;\n",
              "      border-left-color: var(--fill-color);\n",
              "      border-top-color: var(--fill-color);\n",
              "    }\n",
              "    30% {\n",
              "      border-color: transparent;\n",
              "      border-left-color: var(--fill-color);\n",
              "      border-top-color: var(--fill-color);\n",
              "      border-right-color: var(--fill-color);\n",
              "    }\n",
              "    40% {\n",
              "      border-color: transparent;\n",
              "      border-right-color: var(--fill-color);\n",
              "      border-top-color: var(--fill-color);\n",
              "    }\n",
              "    60% {\n",
              "      border-color: transparent;\n",
              "      border-right-color: var(--fill-color);\n",
              "    }\n",
              "    80% {\n",
              "      border-color: transparent;\n",
              "      border-right-color: var(--fill-color);\n",
              "      border-bottom-color: var(--fill-color);\n",
              "    }\n",
              "    90% {\n",
              "      border-color: transparent;\n",
              "      border-bottom-color: var(--fill-color);\n",
              "    }\n",
              "  }\n",
              "</style>\n",
              "\n",
              "  <script>\n",
              "    async function quickchart(key) {\n",
              "      const quickchartButtonEl =\n",
              "        document.querySelector('#' + key + ' button');\n",
              "      quickchartButtonEl.disabled = true;  // To prevent multiple clicks.\n",
              "      quickchartButtonEl.classList.add('colab-df-spinner');\n",
              "      try {\n",
              "        const charts = await google.colab.kernel.invokeFunction(\n",
              "            'suggestCharts', [key], {});\n",
              "      } catch (error) {\n",
              "        console.error('Error during call to suggestCharts:', error);\n",
              "      }\n",
              "      quickchartButtonEl.classList.remove('colab-df-spinner');\n",
              "      quickchartButtonEl.classList.add('colab-df-quickchart-complete');\n",
              "    }\n",
              "    (() => {\n",
              "      let quickchartButtonEl =\n",
              "        document.querySelector('#df-9098131e-cd2d-4d89-ace9-f40446ea73b3 button');\n",
              "      quickchartButtonEl.style.display =\n",
              "        google.colab.kernel.accessAllowed ? 'block' : 'none';\n",
              "    })();\n",
              "  </script>\n",
              "</div>\n",
              "    </div>\n",
              "  </div>\n"
            ]
          },
          "metadata": {},
          "execution_count": 20
        }
      ]
    },
    {
      "cell_type": "code",
      "source": [
        "white.head()"
      ],
      "metadata": {
        "colab": {
          "base_uri": "https://localhost:8080/",
          "height": 206
        },
        "id": "WpxcIR1SzTf2",
        "outputId": "ac1c8c7a-abd2-486f-9f68-f83328db8174"
      },
      "execution_count": null,
      "outputs": [
        {
          "output_type": "execute_result",
          "data": {
            "text/plain": [
              "   fixed acidity  volatile acidity  citric acid  residual sugar  chlorides  \\\n",
              "0            7.0              0.27         0.36            20.7      0.045   \n",
              "1            6.3              0.30         0.34             1.6      0.049   \n",
              "2            8.1              0.28         0.40             6.9      0.050   \n",
              "3            7.2              0.23         0.32             8.5      0.058   \n",
              "4            7.2              0.23         0.32             8.5      0.058   \n",
              "\n",
              "   free sulfur dioxide  total sulfur dioxide  density    pH  sulphates  \\\n",
              "0                 45.0                 170.0   1.0010  3.00       0.45   \n",
              "1                 14.0                 132.0   0.9940  3.30       0.49   \n",
              "2                 30.0                  97.0   0.9951  3.26       0.44   \n",
              "3                 47.0                 186.0   0.9956  3.19       0.40   \n",
              "4                 47.0                 186.0   0.9956  3.19       0.40   \n",
              "\n",
              "   alcohol  quality  \n",
              "0      8.8        6  \n",
              "1      9.5        6  \n",
              "2     10.1        6  \n",
              "3      9.9        6  \n",
              "4      9.9        6  "
            ],
            "text/html": [
              "\n",
              "  <div id=\"df-8b17e5e0-a473-4930-a043-38986ccac015\" class=\"colab-df-container\">\n",
              "    <div>\n",
              "<style scoped>\n",
              "    .dataframe tbody tr th:only-of-type {\n",
              "        vertical-align: middle;\n",
              "    }\n",
              "\n",
              "    .dataframe tbody tr th {\n",
              "        vertical-align: top;\n",
              "    }\n",
              "\n",
              "    .dataframe thead th {\n",
              "        text-align: right;\n",
              "    }\n",
              "</style>\n",
              "<table border=\"1\" class=\"dataframe\">\n",
              "  <thead>\n",
              "    <tr style=\"text-align: right;\">\n",
              "      <th></th>\n",
              "      <th>fixed acidity</th>\n",
              "      <th>volatile acidity</th>\n",
              "      <th>citric acid</th>\n",
              "      <th>residual sugar</th>\n",
              "      <th>chlorides</th>\n",
              "      <th>free sulfur dioxide</th>\n",
              "      <th>total sulfur dioxide</th>\n",
              "      <th>density</th>\n",
              "      <th>pH</th>\n",
              "      <th>sulphates</th>\n",
              "      <th>alcohol</th>\n",
              "      <th>quality</th>\n",
              "    </tr>\n",
              "  </thead>\n",
              "  <tbody>\n",
              "    <tr>\n",
              "      <th>0</th>\n",
              "      <td>7.0</td>\n",
              "      <td>0.27</td>\n",
              "      <td>0.36</td>\n",
              "      <td>20.7</td>\n",
              "      <td>0.045</td>\n",
              "      <td>45.0</td>\n",
              "      <td>170.0</td>\n",
              "      <td>1.0010</td>\n",
              "      <td>3.00</td>\n",
              "      <td>0.45</td>\n",
              "      <td>8.8</td>\n",
              "      <td>6</td>\n",
              "    </tr>\n",
              "    <tr>\n",
              "      <th>1</th>\n",
              "      <td>6.3</td>\n",
              "      <td>0.30</td>\n",
              "      <td>0.34</td>\n",
              "      <td>1.6</td>\n",
              "      <td>0.049</td>\n",
              "      <td>14.0</td>\n",
              "      <td>132.0</td>\n",
              "      <td>0.9940</td>\n",
              "      <td>3.30</td>\n",
              "      <td>0.49</td>\n",
              "      <td>9.5</td>\n",
              "      <td>6</td>\n",
              "    </tr>\n",
              "    <tr>\n",
              "      <th>2</th>\n",
              "      <td>8.1</td>\n",
              "      <td>0.28</td>\n",
              "      <td>0.40</td>\n",
              "      <td>6.9</td>\n",
              "      <td>0.050</td>\n",
              "      <td>30.0</td>\n",
              "      <td>97.0</td>\n",
              "      <td>0.9951</td>\n",
              "      <td>3.26</td>\n",
              "      <td>0.44</td>\n",
              "      <td>10.1</td>\n",
              "      <td>6</td>\n",
              "    </tr>\n",
              "    <tr>\n",
              "      <th>3</th>\n",
              "      <td>7.2</td>\n",
              "      <td>0.23</td>\n",
              "      <td>0.32</td>\n",
              "      <td>8.5</td>\n",
              "      <td>0.058</td>\n",
              "      <td>47.0</td>\n",
              "      <td>186.0</td>\n",
              "      <td>0.9956</td>\n",
              "      <td>3.19</td>\n",
              "      <td>0.40</td>\n",
              "      <td>9.9</td>\n",
              "      <td>6</td>\n",
              "    </tr>\n",
              "    <tr>\n",
              "      <th>4</th>\n",
              "      <td>7.2</td>\n",
              "      <td>0.23</td>\n",
              "      <td>0.32</td>\n",
              "      <td>8.5</td>\n",
              "      <td>0.058</td>\n",
              "      <td>47.0</td>\n",
              "      <td>186.0</td>\n",
              "      <td>0.9956</td>\n",
              "      <td>3.19</td>\n",
              "      <td>0.40</td>\n",
              "      <td>9.9</td>\n",
              "      <td>6</td>\n",
              "    </tr>\n",
              "  </tbody>\n",
              "</table>\n",
              "</div>\n",
              "    <div class=\"colab-df-buttons\">\n",
              "\n",
              "  <div class=\"colab-df-container\">\n",
              "    <button class=\"colab-df-convert\" onclick=\"convertToInteractive('df-8b17e5e0-a473-4930-a043-38986ccac015')\"\n",
              "            title=\"Convert this dataframe to an interactive table.\"\n",
              "            style=\"display:none;\">\n",
              "\n",
              "  <svg xmlns=\"http://www.w3.org/2000/svg\" height=\"24px\" viewBox=\"0 -960 960 960\">\n",
              "    <path d=\"M120-120v-720h720v720H120Zm60-500h600v-160H180v160Zm220 220h160v-160H400v160Zm0 220h160v-160H400v160ZM180-400h160v-160H180v160Zm440 0h160v-160H620v160ZM180-180h160v-160H180v160Zm440 0h160v-160H620v160Z\"/>\n",
              "  </svg>\n",
              "    </button>\n",
              "\n",
              "  <style>\n",
              "    .colab-df-container {\n",
              "      display:flex;\n",
              "      gap: 12px;\n",
              "    }\n",
              "\n",
              "    .colab-df-convert {\n",
              "      background-color: #E8F0FE;\n",
              "      border: none;\n",
              "      border-radius: 50%;\n",
              "      cursor: pointer;\n",
              "      display: none;\n",
              "      fill: #1967D2;\n",
              "      height: 32px;\n",
              "      padding: 0 0 0 0;\n",
              "      width: 32px;\n",
              "    }\n",
              "\n",
              "    .colab-df-convert:hover {\n",
              "      background-color: #E2EBFA;\n",
              "      box-shadow: 0px 1px 2px rgba(60, 64, 67, 0.3), 0px 1px 3px 1px rgba(60, 64, 67, 0.15);\n",
              "      fill: #174EA6;\n",
              "    }\n",
              "\n",
              "    .colab-df-buttons div {\n",
              "      margin-bottom: 4px;\n",
              "    }\n",
              "\n",
              "    [theme=dark] .colab-df-convert {\n",
              "      background-color: #3B4455;\n",
              "      fill: #D2E3FC;\n",
              "    }\n",
              "\n",
              "    [theme=dark] .colab-df-convert:hover {\n",
              "      background-color: #434B5C;\n",
              "      box-shadow: 0px 1px 3px 1px rgba(0, 0, 0, 0.15);\n",
              "      filter: drop-shadow(0px 1px 2px rgba(0, 0, 0, 0.3));\n",
              "      fill: #FFFFFF;\n",
              "    }\n",
              "  </style>\n",
              "\n",
              "    <script>\n",
              "      const buttonEl =\n",
              "        document.querySelector('#df-8b17e5e0-a473-4930-a043-38986ccac015 button.colab-df-convert');\n",
              "      buttonEl.style.display =\n",
              "        google.colab.kernel.accessAllowed ? 'block' : 'none';\n",
              "\n",
              "      async function convertToInteractive(key) {\n",
              "        const element = document.querySelector('#df-8b17e5e0-a473-4930-a043-38986ccac015');\n",
              "        const dataTable =\n",
              "          await google.colab.kernel.invokeFunction('convertToInteractive',\n",
              "                                                    [key], {});\n",
              "        if (!dataTable) return;\n",
              "\n",
              "        const docLinkHtml = 'Like what you see? Visit the ' +\n",
              "          '<a target=\"_blank\" href=https://colab.research.google.com/notebooks/data_table.ipynb>data table notebook</a>'\n",
              "          + ' to learn more about interactive tables.';\n",
              "        element.innerHTML = '';\n",
              "        dataTable['output_type'] = 'display_data';\n",
              "        await google.colab.output.renderOutput(dataTable, element);\n",
              "        const docLink = document.createElement('div');\n",
              "        docLink.innerHTML = docLinkHtml;\n",
              "        element.appendChild(docLink);\n",
              "      }\n",
              "    </script>\n",
              "  </div>\n",
              "\n",
              "\n",
              "<div id=\"df-1da16f25-c7b3-478c-81f0-ee547ac213c2\">\n",
              "  <button class=\"colab-df-quickchart\" onclick=\"quickchart('df-1da16f25-c7b3-478c-81f0-ee547ac213c2')\"\n",
              "            title=\"Suggest charts.\"\n",
              "            style=\"display:none;\">\n",
              "\n",
              "<svg xmlns=\"http://www.w3.org/2000/svg\" height=\"24px\"viewBox=\"0 0 24 24\"\n",
              "     width=\"24px\">\n",
              "    <g>\n",
              "        <path d=\"M19 3H5c-1.1 0-2 .9-2 2v14c0 1.1.9 2 2 2h14c1.1 0 2-.9 2-2V5c0-1.1-.9-2-2-2zM9 17H7v-7h2v7zm4 0h-2V7h2v10zm4 0h-2v-4h2v4z\"/>\n",
              "    </g>\n",
              "</svg>\n",
              "  </button>\n",
              "\n",
              "<style>\n",
              "  .colab-df-quickchart {\n",
              "      --bg-color: #E8F0FE;\n",
              "      --fill-color: #1967D2;\n",
              "      --hover-bg-color: #E2EBFA;\n",
              "      --hover-fill-color: #174EA6;\n",
              "      --disabled-fill-color: #AAA;\n",
              "      --disabled-bg-color: #DDD;\n",
              "  }\n",
              "\n",
              "  [theme=dark] .colab-df-quickchart {\n",
              "      --bg-color: #3B4455;\n",
              "      --fill-color: #D2E3FC;\n",
              "      --hover-bg-color: #434B5C;\n",
              "      --hover-fill-color: #FFFFFF;\n",
              "      --disabled-bg-color: #3B4455;\n",
              "      --disabled-fill-color: #666;\n",
              "  }\n",
              "\n",
              "  .colab-df-quickchart {\n",
              "    background-color: var(--bg-color);\n",
              "    border: none;\n",
              "    border-radius: 50%;\n",
              "    cursor: pointer;\n",
              "    display: none;\n",
              "    fill: var(--fill-color);\n",
              "    height: 32px;\n",
              "    padding: 0;\n",
              "    width: 32px;\n",
              "  }\n",
              "\n",
              "  .colab-df-quickchart:hover {\n",
              "    background-color: var(--hover-bg-color);\n",
              "    box-shadow: 0 1px 2px rgba(60, 64, 67, 0.3), 0 1px 3px 1px rgba(60, 64, 67, 0.15);\n",
              "    fill: var(--button-hover-fill-color);\n",
              "  }\n",
              "\n",
              "  .colab-df-quickchart-complete:disabled,\n",
              "  .colab-df-quickchart-complete:disabled:hover {\n",
              "    background-color: var(--disabled-bg-color);\n",
              "    fill: var(--disabled-fill-color);\n",
              "    box-shadow: none;\n",
              "  }\n",
              "\n",
              "  .colab-df-spinner {\n",
              "    border: 2px solid var(--fill-color);\n",
              "    border-color: transparent;\n",
              "    border-bottom-color: var(--fill-color);\n",
              "    animation:\n",
              "      spin 1s steps(1) infinite;\n",
              "  }\n",
              "\n",
              "  @keyframes spin {\n",
              "    0% {\n",
              "      border-color: transparent;\n",
              "      border-bottom-color: var(--fill-color);\n",
              "      border-left-color: var(--fill-color);\n",
              "    }\n",
              "    20% {\n",
              "      border-color: transparent;\n",
              "      border-left-color: var(--fill-color);\n",
              "      border-top-color: var(--fill-color);\n",
              "    }\n",
              "    30% {\n",
              "      border-color: transparent;\n",
              "      border-left-color: var(--fill-color);\n",
              "      border-top-color: var(--fill-color);\n",
              "      border-right-color: var(--fill-color);\n",
              "    }\n",
              "    40% {\n",
              "      border-color: transparent;\n",
              "      border-right-color: var(--fill-color);\n",
              "      border-top-color: var(--fill-color);\n",
              "    }\n",
              "    60% {\n",
              "      border-color: transparent;\n",
              "      border-right-color: var(--fill-color);\n",
              "    }\n",
              "    80% {\n",
              "      border-color: transparent;\n",
              "      border-right-color: var(--fill-color);\n",
              "      border-bottom-color: var(--fill-color);\n",
              "    }\n",
              "    90% {\n",
              "      border-color: transparent;\n",
              "      border-bottom-color: var(--fill-color);\n",
              "    }\n",
              "  }\n",
              "</style>\n",
              "\n",
              "  <script>\n",
              "    async function quickchart(key) {\n",
              "      const quickchartButtonEl =\n",
              "        document.querySelector('#' + key + ' button');\n",
              "      quickchartButtonEl.disabled = true;  // To prevent multiple clicks.\n",
              "      quickchartButtonEl.classList.add('colab-df-spinner');\n",
              "      try {\n",
              "        const charts = await google.colab.kernel.invokeFunction(\n",
              "            'suggestCharts', [key], {});\n",
              "      } catch (error) {\n",
              "        console.error('Error during call to suggestCharts:', error);\n",
              "      }\n",
              "      quickchartButtonEl.classList.remove('colab-df-spinner');\n",
              "      quickchartButtonEl.classList.add('colab-df-quickchart-complete');\n",
              "    }\n",
              "    (() => {\n",
              "      let quickchartButtonEl =\n",
              "        document.querySelector('#df-1da16f25-c7b3-478c-81f0-ee547ac213c2 button');\n",
              "      quickchartButtonEl.style.display =\n",
              "        google.colab.kernel.accessAllowed ? 'block' : 'none';\n",
              "    })();\n",
              "  </script>\n",
              "</div>\n",
              "    </div>\n",
              "  </div>\n"
            ]
          },
          "metadata": {},
          "execution_count": 21
        }
      ]
    },
    {
      "cell_type": "code",
      "source": [
        "red.info()"
      ],
      "metadata": {
        "colab": {
          "base_uri": "https://localhost:8080/"
        },
        "id": "A4OoZ3vu0-GM",
        "outputId": "ca0248bc-dba8-49bf-805b-38cd5fc26f66"
      },
      "execution_count": null,
      "outputs": [
        {
          "output_type": "stream",
          "name": "stdout",
          "text": [
            "<class 'pandas.core.frame.DataFrame'>\n",
            "RangeIndex: 1599 entries, 0 to 1598\n",
            "Data columns (total 12 columns):\n",
            " #   Column                Non-Null Count  Dtype  \n",
            "---  ------                --------------  -----  \n",
            " 0   fixed acidity         1599 non-null   float64\n",
            " 1   volatile acidity      1599 non-null   float64\n",
            " 2   citric acid           1599 non-null   float64\n",
            " 3   residual sugar        1599 non-null   float64\n",
            " 4   chlorides             1599 non-null   float64\n",
            " 5   free sulfur dioxide   1599 non-null   float64\n",
            " 6   total sulfur dioxide  1599 non-null   float64\n",
            " 7   density               1599 non-null   float64\n",
            " 8   pH                    1599 non-null   float64\n",
            " 9   sulphates             1599 non-null   float64\n",
            " 10  alcohol               1599 non-null   float64\n",
            " 11  quality               1599 non-null   int64  \n",
            "dtypes: float64(11), int64(1)\n",
            "memory usage: 150.0 KB\n"
          ]
        }
      ]
    },
    {
      "cell_type": "code",
      "source": [
        "white.info();"
      ],
      "metadata": {
        "colab": {
          "base_uri": "https://localhost:8080/"
        },
        "id": "VdsoKogw1L2i",
        "outputId": "c4f9e1a9-9c55-4f9f-fe02-8eabb1c551d8"
      },
      "execution_count": null,
      "outputs": [
        {
          "output_type": "stream",
          "name": "stdout",
          "text": [
            "<class 'pandas.core.frame.DataFrame'>\n",
            "RangeIndex: 4898 entries, 0 to 4897\n",
            "Data columns (total 12 columns):\n",
            " #   Column                Non-Null Count  Dtype  \n",
            "---  ------                --------------  -----  \n",
            " 0   fixed acidity         4898 non-null   float64\n",
            " 1   volatile acidity      4898 non-null   float64\n",
            " 2   citric acid           4898 non-null   float64\n",
            " 3   residual sugar        4898 non-null   float64\n",
            " 4   chlorides             4898 non-null   float64\n",
            " 5   free sulfur dioxide   4898 non-null   float64\n",
            " 6   total sulfur dioxide  4898 non-null   float64\n",
            " 7   density               4898 non-null   float64\n",
            " 8   pH                    4898 non-null   float64\n",
            " 9   sulphates             4898 non-null   float64\n",
            " 10  alcohol               4898 non-null   float64\n",
            " 11  quality               4898 non-null   int64  \n",
            "dtypes: float64(11), int64(1)\n",
            "memory usage: 459.3 KB\n"
          ]
        }
      ]
    },
    {
      "cell_type": "code",
      "source": [
        "# Création d'une variable type de vin 1 si c'est le vin rouge et 0 pour le vin blanc\n",
        "\n",
        "red[\"type_vin\"] = 1\n",
        "white[\"type_vin\"] = 0"
      ],
      "metadata": {
        "id": "ah29tLzz1my7"
      },
      "execution_count": null,
      "outputs": []
    },
    {
      "cell_type": "code",
      "source": [
        "# On doit ensuite concatener ces deux données red et white\n",
        "\n",
        "df = pd.concat([red, white])\n",
        "df.info()"
      ],
      "metadata": {
        "colab": {
          "base_uri": "https://localhost:8080/"
        },
        "id": "L6f7E6HY2aso",
        "outputId": "f8af5cb3-d341-462a-a47c-afd7f1ca39c7"
      },
      "execution_count": null,
      "outputs": [
        {
          "output_type": "stream",
          "name": "stdout",
          "text": [
            "<class 'pandas.core.frame.DataFrame'>\n",
            "Int64Index: 6497 entries, 0 to 4897\n",
            "Data columns (total 13 columns):\n",
            " #   Column                Non-Null Count  Dtype  \n",
            "---  ------                --------------  -----  \n",
            " 0   fixed acidity         6497 non-null   float64\n",
            " 1   volatile acidity      6497 non-null   float64\n",
            " 2   citric acid           6497 non-null   float64\n",
            " 3   residual sugar        6497 non-null   float64\n",
            " 4   chlorides             6497 non-null   float64\n",
            " 5   free sulfur dioxide   6497 non-null   float64\n",
            " 6   total sulfur dioxide  6497 non-null   float64\n",
            " 7   density               6497 non-null   float64\n",
            " 8   pH                    6497 non-null   float64\n",
            " 9   sulphates             6497 non-null   float64\n",
            " 10  alcohol               6497 non-null   float64\n",
            " 11  quality               6497 non-null   int64  \n",
            " 12  type_vin              6497 non-null   int64  \n",
            "dtypes: float64(11), int64(2)\n",
            "memory usage: 710.6 KB\n"
          ]
        }
      ]
    },
    {
      "cell_type": "markdown",
      "source": [
        "## Analyse exploratoire des données"
      ],
      "metadata": {
        "id": "XLuedZiZ2_LV"
      }
    },
    {
      "cell_type": "code",
      "source": [
        "# Analyse statistiques de notre DataFrame\n",
        "df.describe()"
      ],
      "metadata": {
        "colab": {
          "base_uri": "https://localhost:8080/",
          "height": 318
        },
        "id": "hzVUuLoI20Pd",
        "outputId": "2ee3b362-684e-4ca3-f696-95923e674323"
      },
      "execution_count": null,
      "outputs": [
        {
          "output_type": "execute_result",
          "data": {
            "text/plain": [
              "       fixed acidity  volatile acidity  citric acid  residual sugar  \\\n",
              "count    6497.000000       6497.000000  6497.000000     6497.000000   \n",
              "mean        7.215307          0.339666     0.318633        5.443235   \n",
              "std         1.296434          0.164636     0.145318        4.757804   \n",
              "min         3.800000          0.080000     0.000000        0.600000   \n",
              "25%         6.400000          0.230000     0.250000        1.800000   \n",
              "50%         7.000000          0.290000     0.310000        3.000000   \n",
              "75%         7.700000          0.400000     0.390000        8.100000   \n",
              "max        15.900000          1.580000     1.660000       65.800000   \n",
              "\n",
              "         chlorides  free sulfur dioxide  total sulfur dioxide      density  \\\n",
              "count  6497.000000          6497.000000           6497.000000  6497.000000   \n",
              "mean      0.056034            30.525319            115.744574     0.994697   \n",
              "std       0.035034            17.749400             56.521855     0.002999   \n",
              "min       0.009000             1.000000              6.000000     0.987110   \n",
              "25%       0.038000            17.000000             77.000000     0.992340   \n",
              "50%       0.047000            29.000000            118.000000     0.994890   \n",
              "75%       0.065000            41.000000            156.000000     0.996990   \n",
              "max       0.611000           289.000000            440.000000     1.038980   \n",
              "\n",
              "                pH    sulphates      alcohol      quality     type_vin  \n",
              "count  6497.000000  6497.000000  6497.000000  6497.000000  6497.000000  \n",
              "mean      3.218501     0.531268    10.491801     5.818378     0.246114  \n",
              "std       0.160787     0.148806     1.192712     0.873255     0.430779  \n",
              "min       2.720000     0.220000     8.000000     3.000000     0.000000  \n",
              "25%       3.110000     0.430000     9.500000     5.000000     0.000000  \n",
              "50%       3.210000     0.510000    10.300000     6.000000     0.000000  \n",
              "75%       3.320000     0.600000    11.300000     6.000000     0.000000  \n",
              "max       4.010000     2.000000    14.900000     9.000000     1.000000  "
            ],
            "text/html": [
              "\n",
              "  <div id=\"df-e57c194e-bc64-42c2-bcec-b051bc41cd2e\" class=\"colab-df-container\">\n",
              "    <div>\n",
              "<style scoped>\n",
              "    .dataframe tbody tr th:only-of-type {\n",
              "        vertical-align: middle;\n",
              "    }\n",
              "\n",
              "    .dataframe tbody tr th {\n",
              "        vertical-align: top;\n",
              "    }\n",
              "\n",
              "    .dataframe thead th {\n",
              "        text-align: right;\n",
              "    }\n",
              "</style>\n",
              "<table border=\"1\" class=\"dataframe\">\n",
              "  <thead>\n",
              "    <tr style=\"text-align: right;\">\n",
              "      <th></th>\n",
              "      <th>fixed acidity</th>\n",
              "      <th>volatile acidity</th>\n",
              "      <th>citric acid</th>\n",
              "      <th>residual sugar</th>\n",
              "      <th>chlorides</th>\n",
              "      <th>free sulfur dioxide</th>\n",
              "      <th>total sulfur dioxide</th>\n",
              "      <th>density</th>\n",
              "      <th>pH</th>\n",
              "      <th>sulphates</th>\n",
              "      <th>alcohol</th>\n",
              "      <th>quality</th>\n",
              "      <th>type_vin</th>\n",
              "    </tr>\n",
              "  </thead>\n",
              "  <tbody>\n",
              "    <tr>\n",
              "      <th>count</th>\n",
              "      <td>6497.000000</td>\n",
              "      <td>6497.000000</td>\n",
              "      <td>6497.000000</td>\n",
              "      <td>6497.000000</td>\n",
              "      <td>6497.000000</td>\n",
              "      <td>6497.000000</td>\n",
              "      <td>6497.000000</td>\n",
              "      <td>6497.000000</td>\n",
              "      <td>6497.000000</td>\n",
              "      <td>6497.000000</td>\n",
              "      <td>6497.000000</td>\n",
              "      <td>6497.000000</td>\n",
              "      <td>6497.000000</td>\n",
              "    </tr>\n",
              "    <tr>\n",
              "      <th>mean</th>\n",
              "      <td>7.215307</td>\n",
              "      <td>0.339666</td>\n",
              "      <td>0.318633</td>\n",
              "      <td>5.443235</td>\n",
              "      <td>0.056034</td>\n",
              "      <td>30.525319</td>\n",
              "      <td>115.744574</td>\n",
              "      <td>0.994697</td>\n",
              "      <td>3.218501</td>\n",
              "      <td>0.531268</td>\n",
              "      <td>10.491801</td>\n",
              "      <td>5.818378</td>\n",
              "      <td>0.246114</td>\n",
              "    </tr>\n",
              "    <tr>\n",
              "      <th>std</th>\n",
              "      <td>1.296434</td>\n",
              "      <td>0.164636</td>\n",
              "      <td>0.145318</td>\n",
              "      <td>4.757804</td>\n",
              "      <td>0.035034</td>\n",
              "      <td>17.749400</td>\n",
              "      <td>56.521855</td>\n",
              "      <td>0.002999</td>\n",
              "      <td>0.160787</td>\n",
              "      <td>0.148806</td>\n",
              "      <td>1.192712</td>\n",
              "      <td>0.873255</td>\n",
              "      <td>0.430779</td>\n",
              "    </tr>\n",
              "    <tr>\n",
              "      <th>min</th>\n",
              "      <td>3.800000</td>\n",
              "      <td>0.080000</td>\n",
              "      <td>0.000000</td>\n",
              "      <td>0.600000</td>\n",
              "      <td>0.009000</td>\n",
              "      <td>1.000000</td>\n",
              "      <td>6.000000</td>\n",
              "      <td>0.987110</td>\n",
              "      <td>2.720000</td>\n",
              "      <td>0.220000</td>\n",
              "      <td>8.000000</td>\n",
              "      <td>3.000000</td>\n",
              "      <td>0.000000</td>\n",
              "    </tr>\n",
              "    <tr>\n",
              "      <th>25%</th>\n",
              "      <td>6.400000</td>\n",
              "      <td>0.230000</td>\n",
              "      <td>0.250000</td>\n",
              "      <td>1.800000</td>\n",
              "      <td>0.038000</td>\n",
              "      <td>17.000000</td>\n",
              "      <td>77.000000</td>\n",
              "      <td>0.992340</td>\n",
              "      <td>3.110000</td>\n",
              "      <td>0.430000</td>\n",
              "      <td>9.500000</td>\n",
              "      <td>5.000000</td>\n",
              "      <td>0.000000</td>\n",
              "    </tr>\n",
              "    <tr>\n",
              "      <th>50%</th>\n",
              "      <td>7.000000</td>\n",
              "      <td>0.290000</td>\n",
              "      <td>0.310000</td>\n",
              "      <td>3.000000</td>\n",
              "      <td>0.047000</td>\n",
              "      <td>29.000000</td>\n",
              "      <td>118.000000</td>\n",
              "      <td>0.994890</td>\n",
              "      <td>3.210000</td>\n",
              "      <td>0.510000</td>\n",
              "      <td>10.300000</td>\n",
              "      <td>6.000000</td>\n",
              "      <td>0.000000</td>\n",
              "    </tr>\n",
              "    <tr>\n",
              "      <th>75%</th>\n",
              "      <td>7.700000</td>\n",
              "      <td>0.400000</td>\n",
              "      <td>0.390000</td>\n",
              "      <td>8.100000</td>\n",
              "      <td>0.065000</td>\n",
              "      <td>41.000000</td>\n",
              "      <td>156.000000</td>\n",
              "      <td>0.996990</td>\n",
              "      <td>3.320000</td>\n",
              "      <td>0.600000</td>\n",
              "      <td>11.300000</td>\n",
              "      <td>6.000000</td>\n",
              "      <td>0.000000</td>\n",
              "    </tr>\n",
              "    <tr>\n",
              "      <th>max</th>\n",
              "      <td>15.900000</td>\n",
              "      <td>1.580000</td>\n",
              "      <td>1.660000</td>\n",
              "      <td>65.800000</td>\n",
              "      <td>0.611000</td>\n",
              "      <td>289.000000</td>\n",
              "      <td>440.000000</td>\n",
              "      <td>1.038980</td>\n",
              "      <td>4.010000</td>\n",
              "      <td>2.000000</td>\n",
              "      <td>14.900000</td>\n",
              "      <td>9.000000</td>\n",
              "      <td>1.000000</td>\n",
              "    </tr>\n",
              "  </tbody>\n",
              "</table>\n",
              "</div>\n",
              "    <div class=\"colab-df-buttons\">\n",
              "\n",
              "  <div class=\"colab-df-container\">\n",
              "    <button class=\"colab-df-convert\" onclick=\"convertToInteractive('df-e57c194e-bc64-42c2-bcec-b051bc41cd2e')\"\n",
              "            title=\"Convert this dataframe to an interactive table.\"\n",
              "            style=\"display:none;\">\n",
              "\n",
              "  <svg xmlns=\"http://www.w3.org/2000/svg\" height=\"24px\" viewBox=\"0 -960 960 960\">\n",
              "    <path d=\"M120-120v-720h720v720H120Zm60-500h600v-160H180v160Zm220 220h160v-160H400v160Zm0 220h160v-160H400v160ZM180-400h160v-160H180v160Zm440 0h160v-160H620v160ZM180-180h160v-160H180v160Zm440 0h160v-160H620v160Z\"/>\n",
              "  </svg>\n",
              "    </button>\n",
              "\n",
              "  <style>\n",
              "    .colab-df-container {\n",
              "      display:flex;\n",
              "      gap: 12px;\n",
              "    }\n",
              "\n",
              "    .colab-df-convert {\n",
              "      background-color: #E8F0FE;\n",
              "      border: none;\n",
              "      border-radius: 50%;\n",
              "      cursor: pointer;\n",
              "      display: none;\n",
              "      fill: #1967D2;\n",
              "      height: 32px;\n",
              "      padding: 0 0 0 0;\n",
              "      width: 32px;\n",
              "    }\n",
              "\n",
              "    .colab-df-convert:hover {\n",
              "      background-color: #E2EBFA;\n",
              "      box-shadow: 0px 1px 2px rgba(60, 64, 67, 0.3), 0px 1px 3px 1px rgba(60, 64, 67, 0.15);\n",
              "      fill: #174EA6;\n",
              "    }\n",
              "\n",
              "    .colab-df-buttons div {\n",
              "      margin-bottom: 4px;\n",
              "    }\n",
              "\n",
              "    [theme=dark] .colab-df-convert {\n",
              "      background-color: #3B4455;\n",
              "      fill: #D2E3FC;\n",
              "    }\n",
              "\n",
              "    [theme=dark] .colab-df-convert:hover {\n",
              "      background-color: #434B5C;\n",
              "      box-shadow: 0px 1px 3px 1px rgba(0, 0, 0, 0.15);\n",
              "      filter: drop-shadow(0px 1px 2px rgba(0, 0, 0, 0.3));\n",
              "      fill: #FFFFFF;\n",
              "    }\n",
              "  </style>\n",
              "\n",
              "    <script>\n",
              "      const buttonEl =\n",
              "        document.querySelector('#df-e57c194e-bc64-42c2-bcec-b051bc41cd2e button.colab-df-convert');\n",
              "      buttonEl.style.display =\n",
              "        google.colab.kernel.accessAllowed ? 'block' : 'none';\n",
              "\n",
              "      async function convertToInteractive(key) {\n",
              "        const element = document.querySelector('#df-e57c194e-bc64-42c2-bcec-b051bc41cd2e');\n",
              "        const dataTable =\n",
              "          await google.colab.kernel.invokeFunction('convertToInteractive',\n",
              "                                                    [key], {});\n",
              "        if (!dataTable) return;\n",
              "\n",
              "        const docLinkHtml = 'Like what you see? Visit the ' +\n",
              "          '<a target=\"_blank\" href=https://colab.research.google.com/notebooks/data_table.ipynb>data table notebook</a>'\n",
              "          + ' to learn more about interactive tables.';\n",
              "        element.innerHTML = '';\n",
              "        dataTable['output_type'] = 'display_data';\n",
              "        await google.colab.output.renderOutput(dataTable, element);\n",
              "        const docLink = document.createElement('div');\n",
              "        docLink.innerHTML = docLinkHtml;\n",
              "        element.appendChild(docLink);\n",
              "      }\n",
              "    </script>\n",
              "  </div>\n",
              "\n",
              "\n",
              "<div id=\"df-802eb7ae-c63a-4177-ba1a-6f8cde66bbbb\">\n",
              "  <button class=\"colab-df-quickchart\" onclick=\"quickchart('df-802eb7ae-c63a-4177-ba1a-6f8cde66bbbb')\"\n",
              "            title=\"Suggest charts.\"\n",
              "            style=\"display:none;\">\n",
              "\n",
              "<svg xmlns=\"http://www.w3.org/2000/svg\" height=\"24px\"viewBox=\"0 0 24 24\"\n",
              "     width=\"24px\">\n",
              "    <g>\n",
              "        <path d=\"M19 3H5c-1.1 0-2 .9-2 2v14c0 1.1.9 2 2 2h14c1.1 0 2-.9 2-2V5c0-1.1-.9-2-2-2zM9 17H7v-7h2v7zm4 0h-2V7h2v10zm4 0h-2v-4h2v4z\"/>\n",
              "    </g>\n",
              "</svg>\n",
              "  </button>\n",
              "\n",
              "<style>\n",
              "  .colab-df-quickchart {\n",
              "      --bg-color: #E8F0FE;\n",
              "      --fill-color: #1967D2;\n",
              "      --hover-bg-color: #E2EBFA;\n",
              "      --hover-fill-color: #174EA6;\n",
              "      --disabled-fill-color: #AAA;\n",
              "      --disabled-bg-color: #DDD;\n",
              "  }\n",
              "\n",
              "  [theme=dark] .colab-df-quickchart {\n",
              "      --bg-color: #3B4455;\n",
              "      --fill-color: #D2E3FC;\n",
              "      --hover-bg-color: #434B5C;\n",
              "      --hover-fill-color: #FFFFFF;\n",
              "      --disabled-bg-color: #3B4455;\n",
              "      --disabled-fill-color: #666;\n",
              "  }\n",
              "\n",
              "  .colab-df-quickchart {\n",
              "    background-color: var(--bg-color);\n",
              "    border: none;\n",
              "    border-radius: 50%;\n",
              "    cursor: pointer;\n",
              "    display: none;\n",
              "    fill: var(--fill-color);\n",
              "    height: 32px;\n",
              "    padding: 0;\n",
              "    width: 32px;\n",
              "  }\n",
              "\n",
              "  .colab-df-quickchart:hover {\n",
              "    background-color: var(--hover-bg-color);\n",
              "    box-shadow: 0 1px 2px rgba(60, 64, 67, 0.3), 0 1px 3px 1px rgba(60, 64, 67, 0.15);\n",
              "    fill: var(--button-hover-fill-color);\n",
              "  }\n",
              "\n",
              "  .colab-df-quickchart-complete:disabled,\n",
              "  .colab-df-quickchart-complete:disabled:hover {\n",
              "    background-color: var(--disabled-bg-color);\n",
              "    fill: var(--disabled-fill-color);\n",
              "    box-shadow: none;\n",
              "  }\n",
              "\n",
              "  .colab-df-spinner {\n",
              "    border: 2px solid var(--fill-color);\n",
              "    border-color: transparent;\n",
              "    border-bottom-color: var(--fill-color);\n",
              "    animation:\n",
              "      spin 1s steps(1) infinite;\n",
              "  }\n",
              "\n",
              "  @keyframes spin {\n",
              "    0% {\n",
              "      border-color: transparent;\n",
              "      border-bottom-color: var(--fill-color);\n",
              "      border-left-color: var(--fill-color);\n",
              "    }\n",
              "    20% {\n",
              "      border-color: transparent;\n",
              "      border-left-color: var(--fill-color);\n",
              "      border-top-color: var(--fill-color);\n",
              "    }\n",
              "    30% {\n",
              "      border-color: transparent;\n",
              "      border-left-color: var(--fill-color);\n",
              "      border-top-color: var(--fill-color);\n",
              "      border-right-color: var(--fill-color);\n",
              "    }\n",
              "    40% {\n",
              "      border-color: transparent;\n",
              "      border-right-color: var(--fill-color);\n",
              "      border-top-color: var(--fill-color);\n",
              "    }\n",
              "    60% {\n",
              "      border-color: transparent;\n",
              "      border-right-color: var(--fill-color);\n",
              "    }\n",
              "    80% {\n",
              "      border-color: transparent;\n",
              "      border-right-color: var(--fill-color);\n",
              "      border-bottom-color: var(--fill-color);\n",
              "    }\n",
              "    90% {\n",
              "      border-color: transparent;\n",
              "      border-bottom-color: var(--fill-color);\n",
              "    }\n",
              "  }\n",
              "</style>\n",
              "\n",
              "  <script>\n",
              "    async function quickchart(key) {\n",
              "      const quickchartButtonEl =\n",
              "        document.querySelector('#' + key + ' button');\n",
              "      quickchartButtonEl.disabled = true;  // To prevent multiple clicks.\n",
              "      quickchartButtonEl.classList.add('colab-df-spinner');\n",
              "      try {\n",
              "        const charts = await google.colab.kernel.invokeFunction(\n",
              "            'suggestCharts', [key], {});\n",
              "      } catch (error) {\n",
              "        console.error('Error during call to suggestCharts:', error);\n",
              "      }\n",
              "      quickchartButtonEl.classList.remove('colab-df-spinner');\n",
              "      quickchartButtonEl.classList.add('colab-df-quickchart-complete');\n",
              "    }\n",
              "    (() => {\n",
              "      let quickchartButtonEl =\n",
              "        document.querySelector('#df-802eb7ae-c63a-4177-ba1a-6f8cde66bbbb button');\n",
              "      quickchartButtonEl.style.display =\n",
              "        google.colab.kernel.accessAllowed ? 'block' : 'none';\n",
              "    })();\n",
              "  </script>\n",
              "</div>\n",
              "    </div>\n",
              "  </div>\n"
            ]
          },
          "metadata": {},
          "execution_count": 26
        }
      ]
    },
    {
      "cell_type": "code",
      "source": [
        "# Analysons et sommons les données manquantes\n",
        "\n",
        "df.isna().sum()"
      ],
      "metadata": {
        "colab": {
          "base_uri": "https://localhost:8080/"
        },
        "id": "0cNkUp6O3KlM",
        "outputId": "7307179d-bf1d-4803-87ea-3e379154742a"
      },
      "execution_count": null,
      "outputs": [
        {
          "output_type": "execute_result",
          "data": {
            "text/plain": [
              "fixed acidity           0\n",
              "volatile acidity        0\n",
              "citric acid             0\n",
              "residual sugar          0\n",
              "chlorides               0\n",
              "free sulfur dioxide     0\n",
              "total sulfur dioxide    0\n",
              "density                 0\n",
              "pH                      0\n",
              "sulphates               0\n",
              "alcohol                 0\n",
              "quality                 0\n",
              "type_vin                0\n",
              "dtype: int64"
            ]
          },
          "metadata": {},
          "execution_count": 27
        }
      ]
    },
    {
      "cell_type": "markdown",
      "source": [
        "#### On n'a pas de données manquantes dans l'ensemble de nos colonnes"
      ],
      "metadata": {
        "id": "4j7w0nqQ3unM"
      }
    },
    {
      "cell_type": "code",
      "source": [
        "# from sklearn.metrics.pairwise import normalize /\n",
        "df['quality'].value_counts(normalize=True)"
      ],
      "metadata": {
        "colab": {
          "base_uri": "https://localhost:8080/"
        },
        "id": "lPmBUkhr3pV8",
        "outputId": "3b7d36cf-b603-4beb-d19d-db0a849e2c55"
      },
      "execution_count": null,
      "outputs": [
        {
          "output_type": "execute_result",
          "data": {
            "text/plain": [
              "6    0.436509\n",
              "5    0.329075\n",
              "7    0.166077\n",
              "4    0.033246\n",
              "8    0.029706\n",
              "3    0.004618\n",
              "9    0.000770\n",
              "Name: quality, dtype: float64"
            ]
          },
          "metadata": {},
          "execution_count": 28
        }
      ]
    },
    {
      "cell_type": "markdown",
      "source": [
        "#### On a les pourcentage du score des vins\n",
        "\n",
        "* On a 43% des vins avec le score 6"
      ],
      "metadata": {
        "id": "Nd24uCoo4jXc"
      }
    },
    {
      "cell_type": "code",
      "source": [
        "df.hist(figsize=(11,11));"
      ],
      "metadata": {
        "colab": {
          "base_uri": "https://localhost:8080/",
          "height": 930
        },
        "id": "8DqvLxKZ5Dcq",
        "outputId": "05188803-3a9c-459a-cfad-ffc42a529f4d"
      },
      "execution_count": null,
      "outputs": [
        {
          "output_type": "display_data",
          "data": {
            "text/plain": [
              "<Figure size 1100x1100 with 16 Axes>"
            ],
            "image/png": "[encoded data removed]"
          },
          "metadata": {}
        }
      ]
    },
    {
      "cell_type": "code",
      "source": [
        "df.head();"
      ],
      "metadata": {
        "id": "9xZ41o3K5HVC"
      },
      "execution_count": null,
      "outputs": []
    },
    {
      "cell_type": "markdown",
      "source": [
        "#### Hypothèse : On peut supposer qu'un très bon vin a un score >=7 et un vin de mauvaise qualité a un score < 7.\n",
        "#### Dans ce cas, il serait intéressant de comparer les statistiques pour ces deux groupes de vins:"
      ],
      "metadata": {
        "id": "NMWKT6nB55ui"
      }
    },
    {
      "cell_type": "code",
      "source": [
        "# Créons un jeu de données permettant de selectionner la qualité du vin.\n",
        "\n",
        "df[df.quality < 7].describe()"
      ],
      "metadata": {
        "colab": {
          "base_uri": "https://localhost:8080/",
          "height": 318
        },
        "id": "PThFLMWH5Hch",
        "outputId": "872d0266-7663-411e-d42a-5ddd13fc6a65"
      },
      "execution_count": null,
      "outputs": [
        {
          "output_type": "execute_result",
          "data": {
            "text/plain": [
              "       fixed acidity  volatile acidity  citric acid  residual sugar  \\\n",
              "count    5220.000000       5220.000000  5220.000000     5220.000000   \n",
              "mean        7.247011          0.352019     0.314720        5.593812   \n",
              "std         1.282968          0.172094     0.152466        4.901269   \n",
              "min         3.800000          0.080000     0.000000        0.600000   \n",
              "25%         6.400000          0.230000     0.240000        1.800000   \n",
              "50%         7.000000          0.300000     0.300000        3.000000   \n",
              "75%         7.700000          0.430000     0.400000        8.300000   \n",
              "max        15.900000          1.580000     1.660000       65.800000   \n",
              "\n",
              "         chlorides  free sulfur dioxide  total sulfur dioxide      density  \\\n",
              "count  5220.000000          5220.000000           5220.000000  5220.000000   \n",
              "mean      0.058837            30.395690            117.176533     0.995105   \n",
              "std       0.037145            18.288715             58.506354     0.002852   \n",
              "min       0.009000             1.000000              6.000000     0.987220   \n",
              "25%       0.040000            16.000000             74.000000     0.993000   \n",
              "50%       0.049000            28.000000            119.000000     0.995400   \n",
              "75%       0.069000            42.000000            160.000000     0.997200   \n",
              "max       0.611000           289.000000            440.000000     1.038980   \n",
              "\n",
              "                pH    sulphates      alcohol      quality     type_vin  \n",
              "count  5220.000000  5220.000000  5220.000000  5220.000000  5220.000000  \n",
              "mean      3.216262     0.528768    10.261462     5.490421     0.264751  \n",
              "std       0.161135     0.145434     1.067408     0.605987     0.441243  \n",
              "min       2.720000     0.230000     8.000000     3.000000     0.000000  \n",
              "25%       3.110000     0.430000     9.400000     5.000000     0.000000  \n",
              "50%       3.200000     0.510000    10.000000     6.000000     0.000000  \n",
              "75%       3.320000     0.590000    11.000000     6.000000     1.000000  \n",
              "max       4.010000     2.000000    14.900000     6.000000     1.000000  "
            ],
            "text/html": [
              "\n",
              "  <div id=\"df-fc3489d1-6e01-41bf-bb85-6f6739636560\" class=\"colab-df-container\">\n",
              "    <div>\n",
              "<style scoped>\n",
              "    .dataframe tbody tr th:only-of-type {\n",
              "        vertical-align: middle;\n",
              "    }\n",
              "\n",
              "    .dataframe tbody tr th {\n",
              "        vertical-align: top;\n",
              "    }\n",
              "\n",
              "    .dataframe thead th {\n",
              "        text-align: right;\n",
              "    }\n",
              "</style>\n",
              "<table border=\"1\" class=\"dataframe\">\n",
              "  <thead>\n",
              "    <tr style=\"text-align: right;\">\n",
              "      <th></th>\n",
              "      <th>fixed acidity</th>\n",
              "      <th>volatile acidity</th>\n",
              "      <th>citric acid</th>\n",
              "      <th>residual sugar</th>\n",
              "      <th>chlorides</th>\n",
              "      <th>free sulfur dioxide</th>\n",
              "      <th>total sulfur dioxide</th>\n",
              "      <th>density</th>\n",
              "      <th>pH</th>\n",
              "      <th>sulphates</th>\n",
              "      <th>alcohol</th>\n",
              "      <th>quality</th>\n",
              "      <th>type_vin</th>\n",
              "    </tr>\n",
              "  </thead>\n",
              "  <tbody>\n",
              "    <tr>\n",
              "      <th>count</th>\n",
              "      <td>5220.000000</td>\n",
              "      <td>5220.000000</td>\n",
              "      <td>5220.000000</td>\n",
              "      <td>5220.000000</td>\n",
              "      <td>5220.000000</td>\n",
              "      <td>5220.000000</td>\n",
              "      <td>5220.000000</td>\n",
              "      <td>5220.000000</td>\n",
              "      <td>5220.000000</td>\n",
              "      <td>5220.000000</td>\n",
              "      <td>5220.000000</td>\n",
              "      <td>5220.000000</td>\n",
              "      <td>5220.000000</td>\n",
              "    </tr>\n",
              "    <tr>\n",
              "      <th>mean</th>\n",
              "      <td>7.247011</td>\n",
              "      <td>0.352019</td>\n",
              "      <td>0.314720</td>\n",
              "      <td>5.593812</td>\n",
              "      <td>0.058837</td>\n",
              "      <td>30.395690</td>\n",
              "      <td>117.176533</td>\n",
              "      <td>0.995105</td>\n",
              "      <td>3.216262</td>\n",
              "      <td>0.528768</td>\n",
              "      <td>10.261462</td>\n",
              "      <td>5.490421</td>\n",
              "      <td>0.264751</td>\n",
              "    </tr>\n",
              "    <tr>\n",
              "      <th>std</th>\n",
              "      <td>1.282968</td>\n",
              "      <td>0.172094</td>\n",
              "      <td>0.152466</td>\n",
              "      <td>4.901269</td>\n",
              "      <td>0.037145</td>\n",
              "      <td>18.288715</td>\n",
              "      <td>58.506354</td>\n",
              "      <td>0.002852</td>\n",
              "      <td>0.161135</td>\n",
              "      <td>0.145434</td>\n",
              "      <td>1.067408</td>\n",
              "      <td>0.605987</td>\n",
              "      <td>0.441243</td>\n",
              "    </tr>\n",
              "    <tr>\n",
              "      <th>min</th>\n",
              "      <td>3.800000</td>\n",
              "      <td>0.080000</td>\n",
              "      <td>0.000000</td>\n",
              "      <td>0.600000</td>\n",
              "      <td>0.009000</td>\n",
              "      <td>1.000000</td>\n",
              "      <td>6.000000</td>\n",
              "      <td>0.987220</td>\n",
              "      <td>2.720000</td>\n",
              "      <td>0.230000</td>\n",
              "      <td>8.000000</td>\n",
              "      <td>3.000000</td>\n",
              "      <td>0.000000</td>\n",
              "    </tr>\n",
              "    <tr>\n",
              "      <th>25%</th>\n",
              "      <td>6.400000</td>\n",
              "      <td>0.230000</td>\n",
              "      <td>0.240000</td>\n",
              "      <td>1.800000</td>\n",
              "      <td>0.040000</td>\n",
              "      <td>16.000000</td>\n",
              "      <td>74.000000</td>\n",
              "      <td>0.993000</td>\n",
              "      <td>3.110000</td>\n",
              "      <td>0.430000</td>\n",
              "      <td>9.400000</td>\n",
              "      <td>5.000000</td>\n",
              "      <td>0.000000</td>\n",
              "    </tr>\n",
              "    <tr>\n",
              "      <th>50%</th>\n",
              "      <td>7.000000</td>\n",
              "      <td>0.300000</td>\n",
              "      <td>0.300000</td>\n",
              "      <td>3.000000</td>\n",
              "      <td>0.049000</td>\n",
              "      <td>28.000000</td>\n",
              "      <td>119.000000</td>\n",
              "      <td>0.995400</td>\n",
              "      <td>3.200000</td>\n",
              "      <td>0.510000</td>\n",
              "      <td>10.000000</td>\n",
              "      <td>6.000000</td>\n",
              "      <td>0.000000</td>\n",
              "    </tr>\n",
              "    <tr>\n",
              "      <th>75%</th>\n",
              "      <td>7.700000</td>\n",
              "      <td>0.430000</td>\n",
              "      <td>0.400000</td>\n",
              "      <td>8.300000</td>\n",
              "      <td>0.069000</td>\n",
              "      <td>42.000000</td>\n",
              "      <td>160.000000</td>\n",
              "      <td>0.997200</td>\n",
              "      <td>3.320000</td>\n",
              "      <td>0.590000</td>\n",
              "      <td>11.000000</td>\n",
              "      <td>6.000000</td>\n",
              "      <td>1.000000</td>\n",
              "    </tr>\n",
              "    <tr>\n",
              "      <th>max</th>\n",
              "      <td>15.900000</td>\n",
              "      <td>1.580000</td>\n",
              "      <td>1.660000</td>\n",
              "      <td>65.800000</td>\n",
              "      <td>0.611000</td>\n",
              "      <td>289.000000</td>\n",
              "      <td>440.000000</td>\n",
              "      <td>1.038980</td>\n",
              "      <td>4.010000</td>\n",
              "      <td>2.000000</td>\n",
              "      <td>14.900000</td>\n",
              "      <td>6.000000</td>\n",
              "      <td>1.000000</td>\n",
              "    </tr>\n",
              "  </tbody>\n",
              "</table>\n",
              "</div>\n",
              "    <div class=\"colab-df-buttons\">\n",
              "\n",
              "  <div class=\"colab-df-container\">\n",
              "    <button class=\"colab-df-convert\" onclick=\"convertToInteractive('df-fc3489d1-6e01-41bf-bb85-6f6739636560')\"\n",
              "            title=\"Convert this dataframe to an interactive table.\"\n",
              "            style=\"display:none;\">\n",
              "\n",
              "  <svg xmlns=\"http://www.w3.org/2000/svg\" height=\"24px\" viewBox=\"0 -960 960 960\">\n",
              "    <path d=\"M120-120v-720h720v720H120Zm60-500h600v-160H180v160Zm220 220h160v-160H400v160Zm0 220h160v-160H400v160ZM180-400h160v-160H180v160Zm440 0h160v-160H620v160ZM180-180h160v-160H180v160Zm440 0h160v-160H620v160Z\"/>\n",
              "  </svg>\n",
              "    </button>\n",
              "\n",
              "  <style>\n",
              "    .colab-df-container {\n",
              "      display:flex;\n",
              "      gap: 12px;\n",
              "    }\n",
              "\n",
              "    .colab-df-convert {\n",
              "      background-color: #E8F0FE;\n",
              "      border: none;\n",
              "      border-radius: 50%;\n",
              "      cursor: pointer;\n",
              "      display: none;\n",
              "      fill: #1967D2;\n",
              "      height: 32px;\n",
              "      padding: 0 0 0 0;\n",
              "      width: 32px;\n",
              "    }\n",
              "\n",
              "    .colab-df-convert:hover {\n",
              "      background-color: #E2EBFA;\n",
              "      box-shadow: 0px 1px 2px rgba(60, 64, 67, 0.3), 0px 1px 3px 1px rgba(60, 64, 67, 0.15);\n",
              "      fill: #174EA6;\n",
              "    }\n",
              "\n",
              "    .colab-df-buttons div {\n",
              "      margin-bottom: 4px;\n",
              "    }\n",
              "\n",
              "    [theme=dark] .colab-df-convert {\n",
              "      background-color: #3B4455;\n",
              "      fill: #D2E3FC;\n",
              "    }\n",
              "\n",
              "    [theme=dark] .colab-df-convert:hover {\n",
              "      background-color: #434B5C;\n",
              "      box-shadow: 0px 1px 3px 1px rgba(0, 0, 0, 0.15);\n",
              "      filter: drop-shadow(0px 1px 2px rgba(0, 0, 0, 0.3));\n",
              "      fill: #FFFFFF;\n",
              "    }\n",
              "  </style>\n",
              "\n",
              "    <script>\n",
              "      const buttonEl =\n",
              "        document.querySelector('#df-fc3489d1-6e01-41bf-bb85-6f6739636560 button.colab-df-convert');\n",
              "      buttonEl.style.display =\n",
              "        google.colab.kernel.accessAllowed ? 'block' : 'none';\n",
              "\n",
              "      async function convertToInteractive(key) {\n",
              "        const element = document.querySelector('#df-fc3489d1-6e01-41bf-bb85-6f6739636560');\n",
              "        const dataTable =\n",
              "          await google.colab.kernel.invokeFunction('convertToInteractive',\n",
              "                                                    [key], {});\n",
              "        if (!dataTable) return;\n",
              "\n",
              "        const docLinkHtml = 'Like what you see? Visit the ' +\n",
              "          '<a target=\"_blank\" href=https://colab.research.google.com/notebooks/data_table.ipynb>data table notebook</a>'\n",
              "          + ' to learn more about interactive tables.';\n",
              "        element.innerHTML = '';\n",
              "        dataTable['output_type'] = 'display_data';\n",
              "        await google.colab.output.renderOutput(dataTable, element);\n",
              "        const docLink = document.createElement('div');\n",
              "        docLink.innerHTML = docLinkHtml;\n",
              "        element.appendChild(docLink);\n",
              "      }\n",
              "    </script>\n",
              "  </div>\n",
              "\n",
              "\n",
              "<div id=\"df-a523e920-a7b7-4ec6-9c49-fa53f71d002f\">\n",
              "  <button class=\"colab-df-quickchart\" onclick=\"quickchart('df-a523e920-a7b7-4ec6-9c49-fa53f71d002f')\"\n",
              "            title=\"Suggest charts.\"\n",
              "            style=\"display:none;\">\n",
              "\n",
              "<svg xmlns=\"http://www.w3.org/2000/svg\" height=\"24px\"viewBox=\"0 0 24 24\"\n",
              "     width=\"24px\">\n",
              "    <g>\n",
              "        <path d=\"M19 3H5c-1.1 0-2 .9-2 2v14c0 1.1.9 2 2 2h14c1.1 0 2-.9 2-2V5c0-1.1-.9-2-2-2zM9 17H7v-7h2v7zm4 0h-2V7h2v10zm4 0h-2v-4h2v4z\"/>\n",
              "    </g>\n",
              "</svg>\n",
              "  </button>\n",
              "\n",
              "<style>\n",
              "  .colab-df-quickchart {\n",
              "      --bg-color: #E8F0FE;\n",
              "      --fill-color: #1967D2;\n",
              "      --hover-bg-color: #E2EBFA;\n",
              "      --hover-fill-color: #174EA6;\n",
              "      --disabled-fill-color: #AAA;\n",
              "      --disabled-bg-color: #DDD;\n",
              "  }\n",
              "\n",
              "  [theme=dark] .colab-df-quickchart {\n",
              "      --bg-color: #3B4455;\n",
              "      --fill-color: #D2E3FC;\n",
              "      --hover-bg-color: #434B5C;\n",
              "      --hover-fill-color: #FFFFFF;\n",
              "      --disabled-bg-color: #3B4455;\n",
              "      --disabled-fill-color: #666;\n",
              "  }\n",
              "\n",
              "  .colab-df-quickchart {\n",
              "    background-color: var(--bg-color);\n",
              "    border: none;\n",
              "    border-radius: 50%;\n",
              "    cursor: pointer;\n",
              "    display: none;\n",
              "    fill: var(--fill-color);\n",
              "    height: 32px;\n",
              "    padding: 0;\n",
              "    width: 32px;\n",
              "  }\n",
              "\n",
              "  .colab-df-quickchart:hover {\n",
              "    background-color: var(--hover-bg-color);\n",
              "    box-shadow: 0 1px 2px rgba(60, 64, 67, 0.3), 0 1px 3px 1px rgba(60, 64, 67, 0.15);\n",
              "    fill: var(--button-hover-fill-color);\n",
              "  }\n",
              "\n",
              "  .colab-df-quickchart-complete:disabled,\n",
              "  .colab-df-quickchart-complete:disabled:hover {\n",
              "    background-color: var(--disabled-bg-color);\n",
              "    fill: var(--disabled-fill-color);\n",
              "    box-shadow: none;\n",
              "  }\n",
              "\n",
              "  .colab-df-spinner {\n",
              "    border: 2px solid var(--fill-color);\n",
              "    border-color: transparent;\n",
              "    border-bottom-color: var(--fill-color);\n",
              "    animation:\n",
              "      spin 1s steps(1) infinite;\n",
              "  }\n",
              "\n",
              "  @keyframes spin {\n",
              "    0% {\n",
              "      border-color: transparent;\n",
              "      border-bottom-color: var(--fill-color);\n",
              "      border-left-color: var(--fill-color);\n",
              "    }\n",
              "    20% {\n",
              "      border-color: transparent;\n",
              "      border-left-color: var(--fill-color);\n",
              "      border-top-color: var(--fill-color);\n",
              "    }\n",
              "    30% {\n",
              "      border-color: transparent;\n",
              "      border-left-color: var(--fill-color);\n",
              "      border-top-color: var(--fill-color);\n",
              "      border-right-color: var(--fill-color);\n",
              "    }\n",
              "    40% {\n",
              "      border-color: transparent;\n",
              "      border-right-color: var(--fill-color);\n",
              "      border-top-color: var(--fill-color);\n",
              "    }\n",
              "    60% {\n",
              "      border-color: transparent;\n",
              "      border-right-color: var(--fill-color);\n",
              "    }\n",
              "    80% {\n",
              "      border-color: transparent;\n",
              "      border-right-color: var(--fill-color);\n",
              "      border-bottom-color: var(--fill-color);\n",
              "    }\n",
              "    90% {\n",
              "      border-color: transparent;\n",
              "      border-bottom-color: var(--fill-color);\n",
              "    }\n",
              "  }\n",
              "</style>\n",
              "\n",
              "  <script>\n",
              "    async function quickchart(key) {\n",
              "      const quickchartButtonEl =\n",
              "        document.querySelector('#' + key + ' button');\n",
              "      quickchartButtonEl.disabled = true;  // To prevent multiple clicks.\n",
              "      quickchartButtonEl.classList.add('colab-df-spinner');\n",
              "      try {\n",
              "        const charts = await google.colab.kernel.invokeFunction(\n",
              "            'suggestCharts', [key], {});\n",
              "      } catch (error) {\n",
              "        console.error('Error during call to suggestCharts:', error);\n",
              "      }\n",
              "      quickchartButtonEl.classList.remove('colab-df-spinner');\n",
              "      quickchartButtonEl.classList.add('colab-df-quickchart-complete');\n",
              "    }\n",
              "    (() => {\n",
              "      let quickchartButtonEl =\n",
              "        document.querySelector('#df-a523e920-a7b7-4ec6-9c49-fa53f71d002f button');\n",
              "      quickchartButtonEl.style.display =\n",
              "        google.colab.kernel.accessAllowed ? 'block' : 'none';\n",
              "    })();\n",
              "  </script>\n",
              "</div>\n",
              "    </div>\n",
              "  </div>\n"
            ]
          },
          "metadata": {},
          "execution_count": 31
        }
      ]
    },
    {
      "cell_type": "code",
      "source": [
        "df[df.quality >= 7].describe()"
      ],
      "metadata": {
        "colab": {
          "base_uri": "https://localhost:8080/",
          "height": 318
        },
        "id": "KxK0kiK37oqp",
        "outputId": "27af1691-c56e-4c65-ef7e-c520cb98ef5e"
      },
      "execution_count": null,
      "outputs": [
        {
          "output_type": "execute_result",
          "data": {
            "text/plain": [
              "       fixed acidity  volatile acidity  citric acid  residual sugar  \\\n",
              "count    1277.000000        1277.00000  1277.000000     1277.000000   \n",
              "mean        7.085709           0.28917     0.334628        4.827721   \n",
              "std         1.342832           0.11696     0.110040        4.063824   \n",
              "min         3.900000           0.08000     0.000000        0.800000   \n",
              "25%         6.300000           0.20000     0.280000        1.800000   \n",
              "50%         6.900000           0.27000     0.320000        2.900000   \n",
              "75%         7.400000           0.34000     0.380000        6.500000   \n",
              "max        15.600000           0.91500     0.760000       19.250000   \n",
              "\n",
              "         chlorides  free sulfur dioxide  total sulfur dioxide      density  \\\n",
              "count  1277.000000          1277.000000           1277.000000  1277.000000   \n",
              "mean      0.044576            31.055208            109.891151     0.993027   \n",
              "std       0.021014            15.344154             47.126201     0.003007   \n",
              "min       0.012000             3.000000              7.000000     0.987110   \n",
              "25%       0.033000            20.000000             87.000000     0.990720   \n",
              "50%       0.039000            31.000000            114.000000     0.992280   \n",
              "75%       0.051000            40.000000            140.000000     0.995000   \n",
              "max       0.358000           108.000000            289.000000     1.003200   \n",
              "\n",
              "                pH    sulphates      alcohol      quality     type_vin  \n",
              "count  1277.000000  1277.000000  1277.000000  1277.000000  1277.000000  \n",
              "mean      3.227651     0.541488    11.433359     7.158966     0.169930  \n",
              "std       0.159094     0.161521     1.215620     0.376348     0.375718  \n",
              "min       2.840000     0.220000     8.500000     7.000000     0.000000  \n",
              "25%       3.120000     0.420000    10.700000     7.000000     0.000000  \n",
              "50%       3.220000     0.510000    11.500000     7.000000     0.000000  \n",
              "75%       3.340000     0.640000    12.400000     7.000000     0.000000  \n",
              "max       3.820000     1.360000    14.200000     9.000000     1.000000  "
            ],
            "text/html": [
              "\n",
              "  <div id=\"df-e594230e-1b99-469e-a847-f8f5fe5c8174\" class=\"colab-df-container\">\n",
              "    <div>\n",
              "<style scoped>\n",
              "    .dataframe tbody tr th:only-of-type {\n",
              "        vertical-align: middle;\n",
              "    }\n",
              "\n",
              "    .dataframe tbody tr th {\n",
              "        vertical-align: top;\n",
              "    }\n",
              "\n",
              "    .dataframe thead th {\n",
              "        text-align: right;\n",
              "    }\n",
              "</style>\n",
              "<table border=\"1\" class=\"dataframe\">\n",
              "  <thead>\n",
              "    <tr style=\"text-align: right;\">\n",
              "      <th></th>\n",
              "      <th>fixed acidity</th>\n",
              "      <th>volatile acidity</th>\n",
              "      <th>citric acid</th>\n",
              "      <th>residual sugar</th>\n",
              "      <th>chlorides</th>\n",
              "      <th>free sulfur dioxide</th>\n",
              "      <th>total sulfur dioxide</th>\n",
              "      <th>density</th>\n",
              "      <th>pH</th>\n",
              "      <th>sulphates</th>\n",
              "      <th>alcohol</th>\n",
              "      <th>quality</th>\n",
              "      <th>type_vin</th>\n",
              "    </tr>\n",
              "  </thead>\n",
              "  <tbody>\n",
              "    <tr>\n",
              "      <th>count</th>\n",
              "      <td>1277.000000</td>\n",
              "      <td>1277.00000</td>\n",
              "      <td>1277.000000</td>\n",
              "      <td>1277.000000</td>\n",
              "      <td>1277.000000</td>\n",
              "      <td>1277.000000</td>\n",
              "      <td>1277.000000</td>\n",
              "      <td>1277.000000</td>\n",
              "      <td>1277.000000</td>\n",
              "      <td>1277.000000</td>\n",
              "      <td>1277.000000</td>\n",
              "      <td>1277.000000</td>\n",
              "      <td>1277.000000</td>\n",
              "    </tr>\n",
              "    <tr>\n",
              "      <th>mean</th>\n",
              "      <td>7.085709</td>\n",
              "      <td>0.28917</td>\n",
              "      <td>0.334628</td>\n",
              "      <td>4.827721</td>\n",
              "      <td>0.044576</td>\n",
              "      <td>31.055208</td>\n",
              "      <td>109.891151</td>\n",
              "      <td>0.993027</td>\n",
              "      <td>3.227651</td>\n",
              "      <td>0.541488</td>\n",
              "      <td>11.433359</td>\n",
              "      <td>7.158966</td>\n",
              "      <td>0.169930</td>\n",
              "    </tr>\n",
              "    <tr>\n",
              "      <th>std</th>\n",
              "      <td>1.342832</td>\n",
              "      <td>0.11696</td>\n",
              "      <td>0.110040</td>\n",
              "      <td>4.063824</td>\n",
              "      <td>0.021014</td>\n",
              "      <td>15.344154</td>\n",
              "      <td>47.126201</td>\n",
              "      <td>0.003007</td>\n",
              "      <td>0.159094</td>\n",
              "      <td>0.161521</td>\n",
              "      <td>1.215620</td>\n",
              "      <td>0.376348</td>\n",
              "      <td>0.375718</td>\n",
              "    </tr>\n",
              "    <tr>\n",
              "      <th>min</th>\n",
              "      <td>3.900000</td>\n",
              "      <td>0.08000</td>\n",
              "      <td>0.000000</td>\n",
              "      <td>0.800000</td>\n",
              "      <td>0.012000</td>\n",
              "      <td>3.000000</td>\n",
              "      <td>7.000000</td>\n",
              "      <td>0.987110</td>\n",
              "      <td>2.840000</td>\n",
              "      <td>0.220000</td>\n",
              "      <td>8.500000</td>\n",
              "      <td>7.000000</td>\n",
              "      <td>0.000000</td>\n",
              "    </tr>\n",
              "    <tr>\n",
              "      <th>25%</th>\n",
              "      <td>6.300000</td>\n",
              "      <td>0.20000</td>\n",
              "      <td>0.280000</td>\n",
              "      <td>1.800000</td>\n",
              "      <td>0.033000</td>\n",
              "      <td>20.000000</td>\n",
              "      <td>87.000000</td>\n",
              "      <td>0.990720</td>\n",
              "      <td>3.120000</td>\n",
              "      <td>0.420000</td>\n",
              "      <td>10.700000</td>\n",
              "      <td>7.000000</td>\n",
              "      <td>0.000000</td>\n",
              "    </tr>\n",
              "    <tr>\n",
              "      <th>50%</th>\n",
              "      <td>6.900000</td>\n",
              "      <td>0.27000</td>\n",
              "      <td>0.320000</td>\n",
              "      <td>2.900000</td>\n",
              "      <td>0.039000</td>\n",
              "      <td>31.000000</td>\n",
              "      <td>114.000000</td>\n",
              "      <td>0.992280</td>\n",
              "      <td>3.220000</td>\n",
              "      <td>0.510000</td>\n",
              "      <td>11.500000</td>\n",
              "      <td>7.000000</td>\n",
              "      <td>0.000000</td>\n",
              "    </tr>\n",
              "    <tr>\n",
              "      <th>75%</th>\n",
              "      <td>7.400000</td>\n",
              "      <td>0.34000</td>\n",
              "      <td>0.380000</td>\n",
              "      <td>6.500000</td>\n",
              "      <td>0.051000</td>\n",
              "      <td>40.000000</td>\n",
              "      <td>140.000000</td>\n",
              "      <td>0.995000</td>\n",
              "      <td>3.340000</td>\n",
              "      <td>0.640000</td>\n",
              "      <td>12.400000</td>\n",
              "      <td>7.000000</td>\n",
              "      <td>0.000000</td>\n",
              "    </tr>\n",
              "    <tr>\n",
              "      <th>max</th>\n",
              "      <td>15.600000</td>\n",
              "      <td>0.91500</td>\n",
              "      <td>0.760000</td>\n",
              "      <td>19.250000</td>\n",
              "      <td>0.358000</td>\n",
              "      <td>108.000000</td>\n",
              "      <td>289.000000</td>\n",
              "      <td>1.003200</td>\n",
              "      <td>3.820000</td>\n",
              "      <td>1.360000</td>\n",
              "      <td>14.200000</td>\n",
              "      <td>9.000000</td>\n",
              "      <td>1.000000</td>\n",
              "    </tr>\n",
              "  </tbody>\n",
              "</table>\n",
              "</div>\n",
              "    <div class=\"colab-df-buttons\">\n",
              "\n",
              "  <div class=\"colab-df-container\">\n",
              "    <button class=\"colab-df-convert\" onclick=\"convertToInteractive('df-e594230e-1b99-469e-a847-f8f5fe5c8174')\"\n",
              "            title=\"Convert this dataframe to an interactive table.\"\n",
              "            style=\"display:none;\">\n",
              "\n",
              "  <svg xmlns=\"http://www.w3.org/2000/svg\" height=\"24px\" viewBox=\"0 -960 960 960\">\n",
              "    <path d=\"M120-120v-720h720v720H120Zm60-500h600v-160H180v160Zm220 220h160v-160H400v160Zm0 220h160v-160H400v160ZM180-400h160v-160H180v160Zm440 0h160v-160H620v160ZM180-180h160v-160H180v160Zm440 0h160v-160H620v160Z\"/>\n",
              "  </svg>\n",
              "    </button>\n",
              "\n",
              "  <style>\n",
              "    .colab-df-container {\n",
              "      display:flex;\n",
              "      gap: 12px;\n",
              "    }\n",
              "\n",
              "    .colab-df-convert {\n",
              "      background-color: #E8F0FE;\n",
              "      border: none;\n",
              "      border-radius: 50%;\n",
              "      cursor: pointer;\n",
              "      display: none;\n",
              "      fill: #1967D2;\n",
              "      height: 32px;\n",
              "      padding: 0 0 0 0;\n",
              "      width: 32px;\n",
              "    }\n",
              "\n",
              "    .colab-df-convert:hover {\n",
              "      background-color: #E2EBFA;\n",
              "      box-shadow: 0px 1px 2px rgba(60, 64, 67, 0.3), 0px 1px 3px 1px rgba(60, 64, 67, 0.15);\n",
              "      fill: #174EA6;\n",
              "    }\n",
              "\n",
              "    .colab-df-buttons div {\n",
              "      margin-bottom: 4px;\n",
              "    }\n",
              "\n",
              "    [theme=dark] .colab-df-convert {\n",
              "      background-color: #3B4455;\n",
              "      fill: #D2E3FC;\n",
              "    }\n",
              "\n",
              "    [theme=dark] .colab-df-convert:hover {\n",
              "      background-color: #434B5C;\n",
              "      box-shadow: 0px 1px 3px 1px rgba(0, 0, 0, 0.15);\n",
              "      filter: drop-shadow(0px 1px 2px rgba(0, 0, 0, 0.3));\n",
              "      fill: #FFFFFF;\n",
              "    }\n",
              "  </style>\n",
              "\n",
              "    <script>\n",
              "      const buttonEl =\n",
              "        document.querySelector('#df-e594230e-1b99-469e-a847-f8f5fe5c8174 button.colab-df-convert');\n",
              "      buttonEl.style.display =\n",
              "        google.colab.kernel.accessAllowed ? 'block' : 'none';\n",
              "\n",
              "      async function convertToInteractive(key) {\n",
              "        const element = document.querySelector('#df-e594230e-1b99-469e-a847-f8f5fe5c8174');\n",
              "        const dataTable =\n",
              "          await google.colab.kernel.invokeFunction('convertToInteractive',\n",
              "                                                    [key], {});\n",
              "        if (!dataTable) return;\n",
              "\n",
              "        const docLinkHtml = 'Like what you see? Visit the ' +\n",
              "          '<a target=\"_blank\" href=https://colab.research.google.com/notebooks/data_table.ipynb>data table notebook</a>'\n",
              "          + ' to learn more about interactive tables.';\n",
              "        element.innerHTML = '';\n",
              "        dataTable['output_type'] = 'display_data';\n",
              "        await google.colab.output.renderOutput(dataTable, element);\n",
              "        const docLink = document.createElement('div');\n",
              "        docLink.innerHTML = docLinkHtml;\n",
              "        element.appendChild(docLink);\n",
              "      }\n",
              "    </script>\n",
              "  </div>\n",
              "\n",
              "\n",
              "<div id=\"df-a47e4643-763a-47a8-a617-693c1e346344\">\n",
              "  <button class=\"colab-df-quickchart\" onclick=\"quickchart('df-a47e4643-763a-47a8-a617-693c1e346344')\"\n",
              "            title=\"Suggest charts.\"\n",
              "            style=\"display:none;\">\n",
              "\n",
              "<svg xmlns=\"http://www.w3.org/2000/svg\" height=\"24px\"viewBox=\"0 0 24 24\"\n",
              "     width=\"24px\">\n",
              "    <g>\n",
              "        <path d=\"M19 3H5c-1.1 0-2 .9-2 2v14c0 1.1.9 2 2 2h14c1.1 0 2-.9 2-2V5c0-1.1-.9-2-2-2zM9 17H7v-7h2v7zm4 0h-2V7h2v10zm4 0h-2v-4h2v4z\"/>\n",
              "    </g>\n",
              "</svg>\n",
              "  </button>\n",
              "\n",
              "<style>\n",
              "  .colab-df-quickchart {\n",
              "      --bg-color: #E8F0FE;\n",
              "      --fill-color: #1967D2;\n",
              "      --hover-bg-color: #E2EBFA;\n",
              "      --hover-fill-color: #174EA6;\n",
              "      --disabled-fill-color: #AAA;\n",
              "      --disabled-bg-color: #DDD;\n",
              "  }\n",
              "\n",
              "  [theme=dark] .colab-df-quickchart {\n",
              "      --bg-color: #3B4455;\n",
              "      --fill-color: #D2E3FC;\n",
              "      --hover-bg-color: #434B5C;\n",
              "      --hover-fill-color: #FFFFFF;\n",
              "      --disabled-bg-color: #3B4455;\n",
              "      --disabled-fill-color: #666;\n",
              "  }\n",
              "\n",
              "  .colab-df-quickchart {\n",
              "    background-color: var(--bg-color);\n",
              "    border: none;\n",
              "    border-radius: 50%;\n",
              "    cursor: pointer;\n",
              "    display: none;\n",
              "    fill: var(--fill-color);\n",
              "    height: 32px;\n",
              "    padding: 0;\n",
              "    width: 32px;\n",
              "  }\n",
              "\n",
              "  .colab-df-quickchart:hover {\n",
              "    background-color: var(--hover-bg-color);\n",
              "    box-shadow: 0 1px 2px rgba(60, 64, 67, 0.3), 0 1px 3px 1px rgba(60, 64, 67, 0.15);\n",
              "    fill: var(--button-hover-fill-color);\n",
              "  }\n",
              "\n",
              "  .colab-df-quickchart-complete:disabled,\n",
              "  .colab-df-quickchart-complete:disabled:hover {\n",
              "    background-color: var(--disabled-bg-color);\n",
              "    fill: var(--disabled-fill-color);\n",
              "    box-shadow: none;\n",
              "  }\n",
              "\n",
              "  .colab-df-spinner {\n",
              "    border: 2px solid var(--fill-color);\n",
              "    border-color: transparent;\n",
              "    border-bottom-color: var(--fill-color);\n",
              "    animation:\n",
              "      spin 1s steps(1) infinite;\n",
              "  }\n",
              "\n",
              "  @keyframes spin {\n",
              "    0% {\n",
              "      border-color: transparent;\n",
              "      border-bottom-color: var(--fill-color);\n",
              "      border-left-color: var(--fill-color);\n",
              "    }\n",
              "    20% {\n",
              "      border-color: transparent;\n",
              "      border-left-color: var(--fill-color);\n",
              "      border-top-color: var(--fill-color);\n",
              "    }\n",
              "    30% {\n",
              "      border-color: transparent;\n",
              "      border-left-color: var(--fill-color);\n",
              "      border-top-color: var(--fill-color);\n",
              "      border-right-color: var(--fill-color);\n",
              "    }\n",
              "    40% {\n",
              "      border-color: transparent;\n",
              "      border-right-color: var(--fill-color);\n",
              "      border-top-color: var(--fill-color);\n",
              "    }\n",
              "    60% {\n",
              "      border-color: transparent;\n",
              "      border-right-color: var(--fill-color);\n",
              "    }\n",
              "    80% {\n",
              "      border-color: transparent;\n",
              "      border-right-color: var(--fill-color);\n",
              "      border-bottom-color: var(--fill-color);\n",
              "    }\n",
              "    90% {\n",
              "      border-color: transparent;\n",
              "      border-bottom-color: var(--fill-color);\n",
              "    }\n",
              "  }\n",
              "</style>\n",
              "\n",
              "  <script>\n",
              "    async function quickchart(key) {\n",
              "      const quickchartButtonEl =\n",
              "        document.querySelector('#' + key + ' button');\n",
              "      quickchartButtonEl.disabled = true;  // To prevent multiple clicks.\n",
              "      quickchartButtonEl.classList.add('colab-df-spinner');\n",
              "      try {\n",
              "        const charts = await google.colab.kernel.invokeFunction(\n",
              "            'suggestCharts', [key], {});\n",
              "      } catch (error) {\n",
              "        console.error('Error during call to suggestCharts:', error);\n",
              "      }\n",
              "      quickchartButtonEl.classList.remove('colab-df-spinner');\n",
              "      quickchartButtonEl.classList.add('colab-df-quickchart-complete');\n",
              "    }\n",
              "    (() => {\n",
              "      let quickchartButtonEl =\n",
              "        document.querySelector('#df-a47e4643-763a-47a8-a617-693c1e346344 button');\n",
              "      quickchartButtonEl.style.display =\n",
              "        google.colab.kernel.accessAllowed ? 'block' : 'none';\n",
              "    })();\n",
              "  </script>\n",
              "</div>\n",
              "    </div>\n",
              "  </div>\n"
            ]
          },
          "metadata": {},
          "execution_count": 32
        }
      ]
    },
    {
      "cell_type": "markdown",
      "source": [
        "#### On peut conclure que le taux d'alcool pour les vins de bonne qualité est environ 11.44 et des vins de mauvaise qualité est de 10.26. Et ils ont prèsque le même pH ~ 3.2"
      ],
      "metadata": {
        "id": "HshaRYiRI1bb"
      }
    },
    {
      "cell_type": "code",
      "source": [
        "# Créeons une matrice de corrélation (dont la diagonale a une valeur de 1)\n",
        "df.corr()"
      ],
      "metadata": {
        "colab": {
          "base_uri": "https://localhost:8080/",
          "height": 509
        },
        "id": "i3BeaFAp7xNx",
        "outputId": "10d0c512-e712-43e7-f14d-4ef9511c155d"
      },
      "execution_count": null,
      "outputs": [
        {
          "output_type": "execute_result",
          "data": {
            "text/plain": [
              "                      fixed acidity  volatile acidity  citric acid  \\\n",
              "fixed acidity              1.000000          0.219008     0.324436   \n",
              "volatile acidity           0.219008          1.000000    -0.377981   \n",
              "citric acid                0.324436         -0.377981     1.000000   \n",
              "residual sugar            -0.111981         -0.196011     0.142451   \n",
              "chlorides                  0.298195          0.377124     0.038998   \n",
              "free sulfur dioxide       -0.282735         -0.352557     0.133126   \n",
              "total sulfur dioxide      -0.329054         -0.414476     0.195242   \n",
              "density                    0.458910          0.271296     0.096154   \n",
              "pH                        -0.252700          0.261454    -0.329808   \n",
              "sulphates                  0.299568          0.225984     0.056197   \n",
              "alcohol                   -0.095452         -0.037640    -0.010493   \n",
              "quality                   -0.076743         -0.265699     0.085532   \n",
              "type_vin                   0.486740          0.653036    -0.187397   \n",
              "\n",
              "                      residual sugar  chlorides  free sulfur dioxide  \\\n",
              "fixed acidity              -0.111981   0.298195            -0.282735   \n",
              "volatile acidity           -0.196011   0.377124            -0.352557   \n",
              "citric acid                 0.142451   0.038998             0.133126   \n",
              "residual sugar              1.000000  -0.128940             0.402871   \n",
              "chlorides                  -0.128940   1.000000            -0.195045   \n",
              "free sulfur dioxide         0.402871  -0.195045             1.000000   \n",
              "total sulfur dioxide        0.495482  -0.279630             0.720934   \n",
              "density                     0.552517   0.362615             0.025717   \n",
              "pH                         -0.267320   0.044708            -0.145854   \n",
              "sulphates                  -0.185927   0.395593            -0.188457   \n",
              "alcohol                    -0.359415  -0.256916            -0.179838   \n",
              "quality                    -0.036980  -0.200666             0.055463   \n",
              "type_vin                   -0.348821   0.512678            -0.471644   \n",
              "\n",
              "                      total sulfur dioxide   density        pH  sulphates  \\\n",
              "fixed acidity                    -0.329054  0.458910 -0.252700   0.299568   \n",
              "volatile acidity                 -0.414476  0.271296  0.261454   0.225984   \n",
              "citric acid                       0.195242  0.096154 -0.329808   0.056197   \n",
              "residual sugar                    0.495482  0.552517 -0.267320  -0.185927   \n",
              "chlorides                        -0.279630  0.362615  0.044708   0.395593   \n",
              "free sulfur dioxide               0.720934  0.025717 -0.145854  -0.188457   \n",
              "total sulfur dioxide              1.000000  0.032395 -0.238413  -0.275727   \n",
              "density                           0.032395  1.000000  0.011686   0.259478   \n",
              "pH                               -0.238413  0.011686  1.000000   0.192123   \n",
              "sulphates                        -0.275727  0.259478  0.192123   1.000000   \n",
              "alcohol                          -0.265740 -0.686745  0.121248  -0.003029   \n",
              "quality                          -0.041385 -0.305858  0.019506   0.038485   \n",
              "type_vin                         -0.700357  0.390645  0.329129   0.487218   \n",
              "\n",
              "                       alcohol   quality  type_vin  \n",
              "fixed acidity        -0.095452 -0.076743  0.486740  \n",
              "volatile acidity     -0.037640 -0.265699  0.653036  \n",
              "citric acid          -0.010493  0.085532 -0.187397  \n",
              "residual sugar       -0.359415 -0.036980 -0.348821  \n",
              "chlorides            -0.256916 -0.200666  0.512678  \n",
              "free sulfur dioxide  -0.179838  0.055463 -0.471644  \n",
              "total sulfur dioxide -0.265740 -0.041385 -0.700357  \n",
              "density              -0.686745 -0.305858  0.390645  \n",
              "pH                    0.121248  0.019506  0.329129  \n",
              "sulphates            -0.003029  0.038485  0.487218  \n",
              "alcohol               1.000000  0.444319 -0.032970  \n",
              "quality               0.444319  1.000000 -0.119323  \n",
              "type_vin             -0.032970 -0.119323  1.000000  "
            ],
            "text/html": [
              "\n",
              "  <div id=\"df-b7d9a024-5a4b-4672-b23e-42205acd284f\" class=\"colab-df-container\">\n",
              "    <div>\n",
              "<style scoped>\n",
              "    .dataframe tbody tr th:only-of-type {\n",
              "        vertical-align: middle;\n",
              "    }\n",
              "\n",
              "    .dataframe tbody tr th {\n",
              "        vertical-align: top;\n",
              "    }\n",
              "\n",
              "    .dataframe thead th {\n",
              "        text-align: right;\n",
              "    }\n",
              "</style>\n",
              "<table border=\"1\" class=\"dataframe\">\n",
              "  <thead>\n",
              "    <tr style=\"text-align: right;\">\n",
              "      <th></th>\n",
              "      <th>fixed acidity</th>\n",
              "      <th>volatile acidity</th>\n",
              "      <th>citric acid</th>\n",
              "      <th>residual sugar</th>\n",
              "      <th>chlorides</th>\n",
              "      <th>free sulfur dioxide</th>\n",
              "      <th>total sulfur dioxide</th>\n",
              "      <th>density</th>\n",
              "      <th>pH</th>\n",
              "      <th>sulphates</th>\n",
              "      <th>alcohol</th>\n",
              "      <th>quality</th>\n",
              "      <th>type_vin</th>\n",
              "    </tr>\n",
              "  </thead>\n",
              "  <tbody>\n",
              "    <tr>\n",
              "      <th>fixed acidity</th>\n",
              "      <td>1.000000</td>\n",
              "      <td>0.219008</td>\n",
              "      <td>0.324436</td>\n",
              "      <td>-0.111981</td>\n",
              "      <td>0.298195</td>\n",
              "      <td>-0.282735</td>\n",
              "      <td>-0.329054</td>\n",
              "      <td>0.458910</td>\n",
              "      <td>-0.252700</td>\n",
              "      <td>0.299568</td>\n",
              "      <td>-0.095452</td>\n",
              "      <td>-0.076743</td>\n",
              "      <td>0.486740</td>\n",
              "    </tr>\n",
              "    <tr>\n",
              "      <th>volatile acidity</th>\n",
              "      <td>0.219008</td>\n",
              "      <td>1.000000</td>\n",
              "      <td>-0.377981</td>\n",
              "      <td>-0.196011</td>\n",
              "      <td>0.377124</td>\n",
              "      <td>-0.352557</td>\n",
              "      <td>-0.414476</td>\n",
              "      <td>0.271296</td>\n",
              "      <td>0.261454</td>\n",
              "      <td>0.225984</td>\n",
              "      <td>-0.037640</td>\n",
              "      <td>-0.265699</td>\n",
              "      <td>0.653036</td>\n",
              "    </tr>\n",
              "    <tr>\n",
              "      <th>citric acid</th>\n",
              "      <td>0.324436</td>\n",
              "      <td>-0.377981</td>\n",
              "      <td>1.000000</td>\n",
              "      <td>0.142451</td>\n",
              "      <td>0.038998</td>\n",
              "      <td>0.133126</td>\n",
              "      <td>0.195242</td>\n",
              "      <td>0.096154</td>\n",
              "      <td>-0.329808</td>\n",
              "      <td>0.056197</td>\n",
              "      <td>-0.010493</td>\n",
              "      <td>0.085532</td>\n",
              "      <td>-0.187397</td>\n",
              "    </tr>\n",
              "    <tr>\n",
              "      <th>residual sugar</th>\n",
              "      <td>-0.111981</td>\n",
              "      <td>-0.196011</td>\n",
              "      <td>0.142451</td>\n",
              "      <td>1.000000</td>\n",
              "      <td>-0.128940</td>\n",
              "      <td>0.402871</td>\n",
              "      <td>0.495482</td>\n",
              "      <td>0.552517</td>\n",
              "      <td>-0.267320</td>\n",
              "      <td>-0.185927</td>\n",
              "      <td>-0.359415</td>\n",
              "      <td>-0.036980</td>\n",
              "      <td>-0.348821</td>\n",
              "    </tr>\n",
              "    <tr>\n",
              "      <th>chlorides</th>\n",
              "      <td>0.298195</td>\n",
              "      <td>0.377124</td>\n",
              "      <td>0.038998</td>\n",
              "      <td>-0.128940</td>\n",
              "      <td>1.000000</td>\n",
              "      <td>-0.195045</td>\n",
              "      <td>-0.279630</td>\n",
              "      <td>0.362615</td>\n",
              "      <td>0.044708</td>\n",
              "      <td>0.395593</td>\n",
              "      <td>-0.256916</td>\n",
              "      <td>-0.200666</td>\n",
              "      <td>0.512678</td>\n",
              "    </tr>\n",
              "    <tr>\n",
              "      <th>free sulfur dioxide</th>\n",
              "      <td>-0.282735</td>\n",
              "      <td>-0.352557</td>\n",
              "      <td>0.133126</td>\n",
              "      <td>0.402871</td>\n",
              "      <td>-0.195045</td>\n",
              "      <td>1.000000</td>\n",
              "      <td>0.720934</td>\n",
              "      <td>0.025717</td>\n",
              "      <td>-0.145854</td>\n",
              "      <td>-0.188457</td>\n",
              "      <td>-0.179838</td>\n",
              "      <td>0.055463</td>\n",
              "      <td>-0.471644</td>\n",
              "    </tr>\n",
              "    <tr>\n",
              "      <th>total sulfur dioxide</th>\n",
              "      <td>-0.329054</td>\n",
              "      <td>-0.414476</td>\n",
              "      <td>0.195242</td>\n",
              "      <td>0.495482</td>\n",
              "      <td>-0.279630</td>\n",
              "      <td>0.720934</td>\n",
              "      <td>1.000000</td>\n",
              "      <td>0.032395</td>\n",
              "      <td>-0.238413</td>\n",
              "      <td>-0.275727</td>\n",
              "      <td>-0.265740</td>\n",
              "      <td>-0.041385</td>\n",
              "      <td>-0.700357</td>\n",
              "    </tr>\n",
              "    <tr>\n",
              "      <th>density</th>\n",
              "      <td>0.458910</td>\n",
              "      <td>0.271296</td>\n",
              "      <td>0.096154</td>\n",
              "      <td>0.552517</td>\n",
              "      <td>0.362615</td>\n",
              "      <td>0.025717</td>\n",
              "      <td>0.032395</td>\n",
              "      <td>1.000000</td>\n",
              "      <td>0.011686</td>\n",
              "      <td>0.259478</td>\n",
              "      <td>-0.686745</td>\n",
              "      <td>-0.305858</td>\n",
              "      <td>0.390645</td>\n",
              "    </tr>\n",
              "    <tr>\n",
              "      <th>pH</th>\n",
              "      <td>-0.252700</td>\n",
              "      <td>0.261454</td>\n",
              "      <td>-0.329808</td>\n",
              "      <td>-0.267320</td>\n",
              "      <td>0.044708</td>\n",
              "      <td>-0.145854</td>\n",
              "      <td>-0.238413</td>\n",
              "      <td>0.011686</td>\n",
              "      <td>1.000000</td>\n",
              "      <td>0.192123</td>\n",
              "      <td>0.121248</td>\n",
              "      <td>0.019506</td>\n",
              "      <td>0.329129</td>\n",
              "    </tr>\n",
              "    <tr>\n",
              "      <th>sulphates</th>\n",
              "      <td>0.299568</td>\n",
              "      <td>0.225984</td>\n",
              "      <td>0.056197</td>\n",
              "      <td>-0.185927</td>\n",
              "      <td>0.395593</td>\n",
              "      <td>-0.188457</td>\n",
              "      <td>-0.275727</td>\n",
              "      <td>0.259478</td>\n",
              "      <td>0.192123</td>\n",
              "      <td>1.000000</td>\n",
              "      <td>-0.003029</td>\n",
              "      <td>0.038485</td>\n",
              "      <td>0.487218</td>\n",
              "    </tr>\n",
              "    <tr>\n",
              "      <th>alcohol</th>\n",
              "      <td>-0.095452</td>\n",
              "      <td>-0.037640</td>\n",
              "      <td>-0.010493</td>\n",
              "      <td>-0.359415</td>\n",
              "      <td>-0.256916</td>\n",
              "      <td>-0.179838</td>\n",
              "      <td>-0.265740</td>\n",
              "      <td>-0.686745</td>\n",
              "      <td>0.121248</td>\n",
              "      <td>-0.003029</td>\n",
              "      <td>1.000000</td>\n",
              "      <td>0.444319</td>\n",
              "      <td>-0.032970</td>\n",
              "    </tr>\n",
              "    <tr>\n",
              "      <th>quality</th>\n",
              "      <td>-0.076743</td>\n",
              "      <td>-0.265699</td>\n",
              "      <td>0.085532</td>\n",
              "      <td>-0.036980</td>\n",
              "      <td>-0.200666</td>\n",
              "      <td>0.055463</td>\n",
              "      <td>-0.041385</td>\n",
              "      <td>-0.305858</td>\n",
              "      <td>0.019506</td>\n",
              "      <td>0.038485</td>\n",
              "      <td>0.444319</td>\n",
              "      <td>1.000000</td>\n",
              "      <td>-0.119323</td>\n",
              "    </tr>\n",
              "    <tr>\n",
              "      <th>type_vin</th>\n",
              "      <td>0.486740</td>\n",
              "      <td>0.653036</td>\n",
              "      <td>-0.187397</td>\n",
              "      <td>-0.348821</td>\n",
              "      <td>0.512678</td>\n",
              "      <td>-0.471644</td>\n",
              "      <td>-0.700357</td>\n",
              "      <td>0.390645</td>\n",
              "      <td>0.329129</td>\n",
              "      <td>0.487218</td>\n",
              "      <td>-0.032970</td>\n",
              "      <td>-0.119323</td>\n",
              "      <td>1.000000</td>\n",
              "    </tr>\n",
              "  </tbody>\n",
              "</table>\n",
              "</div>\n",
              "    <div class=\"colab-df-buttons\">\n",
              "\n",
              "  <div class=\"colab-df-container\">\n",
              "    <button class=\"colab-df-convert\" onclick=\"convertToInteractive('df-b7d9a024-5a4b-4672-b23e-42205acd284f')\"\n",
              "            title=\"Convert this dataframe to an interactive table.\"\n",
              "            style=\"display:none;\">\n",
              "\n",
              "  <svg xmlns=\"http://www.w3.org/2000/svg\" height=\"24px\" viewBox=\"0 -960 960 960\">\n",
              "    <path d=\"M120-120v-720h720v720H120Zm60-500h600v-160H180v160Zm220 220h160v-160H400v160Zm0 220h160v-160H400v160ZM180-400h160v-160H180v160Zm440 0h160v-160H620v160ZM180-180h160v-160H180v160Zm440 0h160v-160H620v160Z\"/>\n",
              "  </svg>\n",
              "    </button>\n",
              "\n",
              "  <style>\n",
              "    .colab-df-container {\n",
              "      display:flex;\n",
              "      gap: 12px;\n",
              "    }\n",
              "\n",
              "    .colab-df-convert {\n",
              "      background-color: #E8F0FE;\n",
              "      border: none;\n",
              "      border-radius: 50%;\n",
              "      cursor: pointer;\n",
              "      display: none;\n",
              "      fill: #1967D2;\n",
              "      height: 32px;\n",
              "      padding: 0 0 0 0;\n",
              "      width: 32px;\n",
              "    }\n",
              "\n",
              "    .colab-df-convert:hover {\n",
              "      background-color: #E2EBFA;\n",
              "      box-shadow: 0px 1px 2px rgba(60, 64, 67, 0.3), 0px 1px 3px 1px rgba(60, 64, 67, 0.15);\n",
              "      fill: #174EA6;\n",
              "    }\n",
              "\n",
              "    .colab-df-buttons div {\n",
              "      margin-bottom: 4px;\n",
              "    }\n",
              "\n",
              "    [theme=dark] .colab-df-convert {\n",
              "      background-color: #3B4455;\n",
              "      fill: #D2E3FC;\n",
              "    }\n",
              "\n",
              "    [theme=dark] .colab-df-convert:hover {\n",
              "      background-color: #434B5C;\n",
              "      box-shadow: 0px 1px 3px 1px rgba(0, 0, 0, 0.15);\n",
              "      filter: drop-shadow(0px 1px 2px rgba(0, 0, 0, 0.3));\n",
              "      fill: #FFFFFF;\n",
              "    }\n",
              "  </style>\n",
              "\n",
              "    <script>\n",
              "      const buttonEl =\n",
              "        document.querySelector('#df-b7d9a024-5a4b-4672-b23e-42205acd284f button.colab-df-convert');\n",
              "      buttonEl.style.display =\n",
              "        google.colab.kernel.accessAllowed ? 'block' : 'none';\n",
              "\n",
              "      async function convertToInteractive(key) {\n",
              "        const element = document.querySelector('#df-b7d9a024-5a4b-4672-b23e-42205acd284f');\n",
              "        const dataTable =\n",
              "          await google.colab.kernel.invokeFunction('convertToInteractive',\n",
              "                                                    [key], {});\n",
              "        if (!dataTable) return;\n",
              "\n",
              "        const docLinkHtml = 'Like what you see? Visit the ' +\n",
              "          '<a target=\"_blank\" href=https://colab.research.google.com/notebooks/data_table.ipynb>data table notebook</a>'\n",
              "          + ' to learn more about interactive tables.';\n",
              "        element.innerHTML = '';\n",
              "        dataTable['output_type'] = 'display_data';\n",
              "        await google.colab.output.renderOutput(dataTable, element);\n",
              "        const docLink = document.createElement('div');\n",
              "        docLink.innerHTML = docLinkHtml;\n",
              "        element.appendChild(docLink);\n",
              "      }\n",
              "    </script>\n",
              "  </div>\n",
              "\n",
              "\n",
              "<div id=\"df-fabdaa07-c0d3-4432-8488-f65a40b345aa\">\n",
              "  <button class=\"colab-df-quickchart\" onclick=\"quickchart('df-fabdaa07-c0d3-4432-8488-f65a40b345aa')\"\n",
              "            title=\"Suggest charts.\"\n",
              "            style=\"display:none;\">\n",
              "\n",
              "<svg xmlns=\"http://www.w3.org/2000/svg\" height=\"24px\"viewBox=\"0 0 24 24\"\n",
              "     width=\"24px\">\n",
              "    <g>\n",
              "        <path d=\"M19 3H5c-1.1 0-2 .9-2 2v14c0 1.1.9 2 2 2h14c1.1 0 2-.9 2-2V5c0-1.1-.9-2-2-2zM9 17H7v-7h2v7zm4 0h-2V7h2v10zm4 0h-2v-4h2v4z\"/>\n",
              "    </g>\n",
              "</svg>\n",
              "  </button>\n",
              "\n",
              "<style>\n",
              "  .colab-df-quickchart {\n",
              "      --bg-color: #E8F0FE;\n",
              "      --fill-color: #1967D2;\n",
              "      --hover-bg-color: #E2EBFA;\n",
              "      --hover-fill-color: #174EA6;\n",
              "      --disabled-fill-color: #AAA;\n",
              "      --disabled-bg-color: #DDD;\n",
              "  }\n",
              "\n",
              "  [theme=dark] .colab-df-quickchart {\n",
              "      --bg-color: #3B4455;\n",
              "      --fill-color: #D2E3FC;\n",
              "      --hover-bg-color: #434B5C;\n",
              "      --hover-fill-color: #FFFFFF;\n",
              "      --disabled-bg-color: #3B4455;\n",
              "      --disabled-fill-color: #666;\n",
              "  }\n",
              "\n",
              "  .colab-df-quickchart {\n",
              "    background-color: var(--bg-color);\n",
              "    border: none;\n",
              "    border-radius: 50%;\n",
              "    cursor: pointer;\n",
              "    display: none;\n",
              "    fill: var(--fill-color);\n",
              "    height: 32px;\n",
              "    padding: 0;\n",
              "    width: 32px;\n",
              "  }\n",
              "\n",
              "  .colab-df-quickchart:hover {\n",
              "    background-color: var(--hover-bg-color);\n",
              "    box-shadow: 0 1px 2px rgba(60, 64, 67, 0.3), 0 1px 3px 1px rgba(60, 64, 67, 0.15);\n",
              "    fill: var(--button-hover-fill-color);\n",
              "  }\n",
              "\n",
              "  .colab-df-quickchart-complete:disabled,\n",
              "  .colab-df-quickchart-complete:disabled:hover {\n",
              "    background-color: var(--disabled-bg-color);\n",
              "    fill: var(--disabled-fill-color);\n",
              "    box-shadow: none;\n",
              "  }\n",
              "\n",
              "  .colab-df-spinner {\n",
              "    border: 2px solid var(--fill-color);\n",
              "    border-color: transparent;\n",
              "    border-bottom-color: var(--fill-color);\n",
              "    animation:\n",
              "      spin 1s steps(1) infinite;\n",
              "  }\n",
              "\n",
              "  @keyframes spin {\n",
              "    0% {\n",
              "      border-color: transparent;\n",
              "      border-bottom-color: var(--fill-color);\n",
              "      border-left-color: var(--fill-color);\n",
              "    }\n",
              "    20% {\n",
              "      border-color: transparent;\n",
              "      border-left-color: var(--fill-color);\n",
              "      border-top-color: var(--fill-color);\n",
              "    }\n",
              "    30% {\n",
              "      border-color: transparent;\n",
              "      border-left-color: var(--fill-color);\n",
              "      border-top-color: var(--fill-color);\n",
              "      border-right-color: var(--fill-color);\n",
              "    }\n",
              "    40% {\n",
              "      border-color: transparent;\n",
              "      border-right-color: var(--fill-color);\n",
              "      border-top-color: var(--fill-color);\n",
              "    }\n",
              "    60% {\n",
              "      border-color: transparent;\n",
              "      border-right-color: var(--fill-color);\n",
              "    }\n",
              "    80% {\n",
              "      border-color: transparent;\n",
              "      border-right-color: var(--fill-color);\n",
              "      border-bottom-color: var(--fill-color);\n",
              "    }\n",
              "    90% {\n",
              "      border-color: transparent;\n",
              "      border-bottom-color: var(--fill-color);\n",
              "    }\n",
              "  }\n",
              "</style>\n",
              "\n",
              "  <script>\n",
              "    async function quickchart(key) {\n",
              "      const quickchartButtonEl =\n",
              "        document.querySelector('#' + key + ' button');\n",
              "      quickchartButtonEl.disabled = true;  // To prevent multiple clicks.\n",
              "      quickchartButtonEl.classList.add('colab-df-spinner');\n",
              "      try {\n",
              "        const charts = await google.colab.kernel.invokeFunction(\n",
              "            'suggestCharts', [key], {});\n",
              "      } catch (error) {\n",
              "        console.error('Error during call to suggestCharts:', error);\n",
              "      }\n",
              "      quickchartButtonEl.classList.remove('colab-df-spinner');\n",
              "      quickchartButtonEl.classList.add('colab-df-quickchart-complete');\n",
              "    }\n",
              "    (() => {\n",
              "      let quickchartButtonEl =\n",
              "        document.querySelector('#df-fabdaa07-c0d3-4432-8488-f65a40b345aa button');\n",
              "      quickchartButtonEl.style.display =\n",
              "        google.colab.kernel.accessAllowed ? 'block' : 'none';\n",
              "    })();\n",
              "  </script>\n",
              "</div>\n",
              "    </div>\n",
              "  </div>\n"
            ]
          },
          "metadata": {},
          "execution_count": 33
        }
      ]
    },
    {
      "cell_type": "code",
      "source": [
        "sns.heatmap(df.corr())"
      ],
      "metadata": {
        "colab": {
          "base_uri": "https://localhost:8080/",
          "height": 570
        },
        "id": "RTuRXmeuLiue",
        "outputId": "419111f9-6323-4a66-e819-6a5f803e95ca"
      },
      "execution_count": null,
      "outputs": [
        {
          "output_type": "execute_result",
          "data": {
            "text/plain": [
              "<Axes: >"
            ]
          },
          "metadata": {},
          "execution_count": 34
        },
        {
          "output_type": "display_data",
          "data": {
            "text/plain": [
              "<Figure size 640x480 with 2 Axes>"
            ],
            "image/png": "[encoded data removed]"
          },
          "metadata": {}
        }
      ]
    },
    {
      "cell_type": "code",
      "source": [
        "plt.figure(figsize=(10, 10))\n",
        "mask = np.triu(np.ones_like(df.corr(), dtype=bool))\n",
        "sns.heatmap(df.corr(), mask=mask, center=0, cmap='RdBu', linewidths=1, annot=True)\n",
        "plt.title('Coefficient de corrélation de Pearson entre variables', fontweight='bold')\n",
        "plt.show()"
      ],
      "metadata": {
        "colab": {
          "base_uri": "https://localhost:8080/",
          "height": 969
        },
        "id": "tzPILItaLi_t",
        "outputId": "d6513c01-7596-4c78-a621-15b6328b0eb9"
      },
      "execution_count": null,
      "outputs": [
        {
          "output_type": "display_data",
          "data": {
            "text/plain": [
              "<Figure size 1000x1000 with 2 Axes>"
            ],
            "image/png": "[encoded data removed]"
          },
          "metadata": {}
        }
      ]
    },
    {
      "cell_type": "markdown",
      "source": [
        "### Prétraitement des données"
      ],
      "metadata": {
        "id": "WzYS83MgPKhF"
      }
    },
    {
      "cell_type": "code",
      "source": [
        "from sklearn.model_selection import train_test_split"
      ],
      "metadata": {
        "id": "_cg8oSI2LjCk"
      },
      "execution_count": null,
      "outputs": []
    },
    {
      "cell_type": "code",
      "source": [
        "x = df.drop('quality', axis=1)\n",
        "y = df['quality']\n",
        "\n",
        "seed = 33\n",
        "x_train, x_test, y_train, y_test = train_test_split(\n",
        "    x, y, random_state=seed, test_size=0.2\n",
        ")\n",
        "\n",
        "print(x_train.shape, y_train.shape, x_test.shape, y_test.shape)"
      ],
      "metadata": {
        "colab": {
          "base_uri": "https://localhost:8080/"
        },
        "id": "8p-CgtsHLjF4",
        "outputId": "9289e3f4-8c56-4c99-9d33-37d7fcebccb8"
      },
      "execution_count": null,
      "outputs": [
        {
          "output_type": "stream",
          "name": "stdout",
          "text": [
            "(5197, 12) (5197,) (1300, 12) (1300,)\n"
          ]
        }
      ]
    },
    {
      "cell_type": "code",
      "source": [
        "x"
      ],
      "metadata": {
        "colab": {
          "base_uri": "https://localhost:8080/",
          "height": 424
        },
        "id": "ie_iosGsLjIh",
        "outputId": "0d15ab0f-8c03-480a-b9f4-3dce73a72ca7"
      },
      "execution_count": null,
      "outputs": [
        {
          "output_type": "execute_result",
          "data": {
            "text/plain": [
              "      fixed acidity  volatile acidity  citric acid  residual sugar  chlorides  \\\n",
              "0               7.4              0.70         0.00             1.9      0.076   \n",
              "1               7.8              0.88         0.00             2.6      0.098   \n",
              "2               7.8              0.76         0.04             2.3      0.092   \n",
              "3              11.2              0.28         0.56             1.9      0.075   \n",
              "4               7.4              0.70         0.00             1.9      0.076   \n",
              "...             ...               ...          ...             ...        ...   \n",
              "4893            6.2              0.21         0.29             1.6      0.039   \n",
              "4894            6.6              0.32         0.36             8.0      0.047   \n",
              "4895            6.5              0.24         0.19             1.2      0.041   \n",
              "4896            5.5              0.29         0.30             1.1      0.022   \n",
              "4897            6.0              0.21         0.38             0.8      0.020   \n",
              "\n",
              "      free sulfur dioxide  total sulfur dioxide  density    pH  sulphates  \\\n",
              "0                    11.0                  34.0  0.99780  3.51       0.56   \n",
              "1                    25.0                  67.0  0.99680  3.20       0.68   \n",
              "2                    15.0                  54.0  0.99700  3.26       0.65   \n",
              "3                    17.0                  60.0  0.99800  3.16       0.58   \n",
              "4                    11.0                  34.0  0.99780  3.51       0.56   \n",
              "...                   ...                   ...      ...   ...        ...   \n",
              "4893                 24.0                  92.0  0.99114  3.27       0.50   \n",
              "4894                 57.0                 168.0  0.99490  3.15       0.46   \n",
              "4895                 30.0                 111.0  0.99254  2.99       0.46   \n",
              "4896                 20.0                 110.0  0.98869  3.34       0.38   \n",
              "4897                 22.0                  98.0  0.98941  3.26       0.32   \n",
              "\n",
              "      alcohol  type_vin  \n",
              "0         9.4         1  \n",
              "1         9.8         1  \n",
              "2         9.8         1  \n",
              "3         9.8         1  \n",
              "4         9.4         1  \n",
              "...       ...       ...  \n",
              "4893     11.2         0  \n",
              "4894      9.6         0  \n",
              "4895      9.4         0  \n",
              "4896     12.8         0  \n",
              "4897     11.8         0  \n",
              "\n",
              "[6497 rows x 12 columns]"
            ],
            "text/html": [
              "\n",
              "  <div id=\"df-7fd8e89c-4b5b-4a07-af9a-45e522031b73\" class=\"colab-df-container\">\n",
              "    <div>\n",
              "<style scoped>\n",
              "    .dataframe tbody tr th:only-of-type {\n",
              "        vertical-align: middle;\n",
              "    }\n",
              "\n",
              "    .dataframe tbody tr th {\n",
              "        vertical-align: top;\n",
              "    }\n",
              "\n",
              "    .dataframe thead th {\n",
              "        text-align: right;\n",
              "    }\n",
              "</style>\n",
              "<table border=\"1\" class=\"dataframe\">\n",
              "  <thead>\n",
              "    <tr style=\"text-align: right;\">\n",
              "      <th></th>\n",
              "      <th>fixed acidity</th>\n",
              "      <th>volatile acidity</th>\n",
              "      <th>citric acid</th>\n",
              "      <th>residual sugar</th>\n",
              "      <th>chlorides</th>\n",
              "      <th>free sulfur dioxide</th>\n",
              "      <th>total sulfur dioxide</th>\n",
              "      <th>density</th>\n",
              "      <th>pH</th>\n",
              "      <th>sulphates</th>\n",
              "      <th>alcohol</th>\n",
              "      <th>type_vin</th>\n",
              "    </tr>\n",
              "  </thead>\n",
              "  <tbody>\n",
              "    <tr>\n",
              "      <th>0</th>\n",
              "      <td>7.4</td>\n",
              "      <td>0.70</td>\n",
              "      <td>0.00</td>\n",
              "      <td>1.9</td>\n",
              "      <td>0.076</td>\n",
              "      <td>11.0</td>\n",
              "      <td>34.0</td>\n",
              "      <td>0.99780</td>\n",
              "      <td>3.51</td>\n",
              "      <td>0.56</td>\n",
              "      <td>9.4</td>\n",
              "      <td>1</td>\n",
              "    </tr>\n",
              "    <tr>\n",
              "      <th>1</th>\n",
              "      <td>7.8</td>\n",
              "      <td>0.88</td>\n",
              "      <td>0.00</td>\n",
              "      <td>2.6</td>\n",
              "      <td>0.098</td>\n",
              "      <td>25.0</td>\n",
              "      <td>67.0</td>\n",
              "      <td>0.99680</td>\n",
              "      <td>3.20</td>\n",
              "      <td>0.68</td>\n",
              "      <td>9.8</td>\n",
              "      <td>1</td>\n",
              "    </tr>\n",
              "    <tr>\n",
              "      <th>2</th>\n",
              "      <td>7.8</td>\n",
              "      <td>0.76</td>\n",
              "      <td>0.04</td>\n",
              "      <td>2.3</td>\n",
              "      <td>0.092</td>\n",
              "      <td>15.0</td>\n",
              "      <td>54.0</td>\n",
              "      <td>0.99700</td>\n",
              "      <td>3.26</td>\n",
              "      <td>0.65</td>\n",
              "      <td>9.8</td>\n",
              "      <td>1</td>\n",
              "    </tr>\n",
              "    <tr>\n",
              "      <th>3</th>\n",
              "      <td>11.2</td>\n",
              "      <td>0.28</td>\n",
              "      <td>0.56</td>\n",
              "      <td>1.9</td>\n",
              "      <td>0.075</td>\n",
              "      <td>17.0</td>\n",
              "      <td>60.0</td>\n",
              "      <td>0.99800</td>\n",
              "      <td>3.16</td>\n",
              "      <td>0.58</td>\n",
              "      <td>9.8</td>\n",
              "      <td>1</td>\n",
              "    </tr>\n",
              "    <tr>\n",
              "      <th>4</th>\n",
              "      <td>7.4</td>\n",
              "      <td>0.70</td>\n",
              "      <td>0.00</td>\n",
              "      <td>1.9</td>\n",
              "      <td>0.076</td>\n",
              "      <td>11.0</td>\n",
              "      <td>34.0</td>\n",
              "      <td>0.99780</td>\n",
              "      <td>3.51</td>\n",
              "      <td>0.56</td>\n",
              "      <td>9.4</td>\n",
              "      <td>1</td>\n",
              "    </tr>\n",
              "    <tr>\n",
              "      <th>...</th>\n",
              "      <td>...</td>\n",
              "      <td>...</td>\n",
              "      <td>...</td>\n",
              "      <td>...</td>\n",
              "      <td>...</td>\n",
              "      <td>...</td>\n",
              "      <td>...</td>\n",
              "      <td>...</td>\n",
              "      <td>...</td>\n",
              "      <td>...</td>\n",
              "      <td>...</td>\n",
              "      <td>...</td>\n",
              "    </tr>\n",
              "    <tr>\n",
              "      <th>4893</th>\n",
              "      <td>6.2</td>\n",
              "      <td>0.21</td>\n",
              "      <td>0.29</td>\n",
              "      <td>1.6</td>\n",
              "      <td>0.039</td>\n",
              "      <td>24.0</td>\n",
              "      <td>92.0</td>\n",
              "      <td>0.99114</td>\n",
              "      <td>3.27</td>\n",
              "      <td>0.50</td>\n",
              "      <td>11.2</td>\n",
              "      <td>0</td>\n",
              "    </tr>\n",
              "    <tr>\n",
              "      <th>4894</th>\n",
              "      <td>6.6</td>\n",
              "      <td>0.32</td>\n",
              "      <td>0.36</td>\n",
              "      <td>8.0</td>\n",
              "      <td>0.047</td>\n",
              "      <td>57.0</td>\n",
              "      <td>168.0</td>\n",
              "      <td>0.99490</td>\n",
              "      <td>3.15</td>\n",
              "      <td>0.46</td>\n",
              "      <td>9.6</td>\n",
              "      <td>0</td>\n",
              "    </tr>\n",
              "    <tr>\n",
              "      <th>4895</th>\n",
              "      <td>6.5</td>\n",
              "      <td>0.24</td>\n",
              "      <td>0.19</td>\n",
              "      <td>1.2</td>\n",
              "      <td>0.041</td>\n",
              "      <td>30.0</td>\n",
              "      <td>111.0</td>\n",
              "      <td>0.99254</td>\n",
              "      <td>2.99</td>\n",
              "      <td>0.46</td>\n",
              "      <td>9.4</td>\n",
              "      <td>0</td>\n",
              "    </tr>\n",
              "    <tr>\n",
              "      <th>4896</th>\n",
              "      <td>5.5</td>\n",
              "      <td>0.29</td>\n",
              "      <td>0.30</td>\n",
              "      <td>1.1</td>\n",
              "      <td>0.022</td>\n",
              "      <td>20.0</td>\n",
              "      <td>110.0</td>\n",
              "      <td>0.98869</td>\n",
              "      <td>3.34</td>\n",
              "      <td>0.38</td>\n",
              "      <td>12.8</td>\n",
              "      <td>0</td>\n",
              "    </tr>\n",
              "    <tr>\n",
              "      <th>4897</th>\n",
              "      <td>6.0</td>\n",
              "      <td>0.21</td>\n",
              "      <td>0.38</td>\n",
              "      <td>0.8</td>\n",
              "      <td>0.020</td>\n",
              "      <td>22.0</td>\n",
              "      <td>98.0</td>\n",
              "      <td>0.98941</td>\n",
              "      <td>3.26</td>\n",
              "      <td>0.32</td>\n",
              "      <td>11.8</td>\n",
              "      <td>0</td>\n",
              "    </tr>\n",
              "  </tbody>\n",
              "</table>\n",
              "<p>6497 rows × 12 columns</p>\n",
              "</div>\n",
              "    <div class=\"colab-df-buttons\">\n",
              "\n",
              "  <div class=\"colab-df-container\">\n",
              "    <button class=\"colab-df-convert\" onclick=\"convertToInteractive('df-7fd8e89c-4b5b-4a07-af9a-45e522031b73')\"\n",
              "            title=\"Convert this dataframe to an interactive table.\"\n",
              "            style=\"display:none;\">\n",
              "\n",
              "  <svg xmlns=\"http://www.w3.org/2000/svg\" height=\"24px\" viewBox=\"0 -960 960 960\">\n",
              "    <path d=\"M120-120v-720h720v720H120Zm60-500h600v-160H180v160Zm220 220h160v-160H400v160Zm0 220h160v-160H400v160ZM180-400h160v-160H180v160Zm440 0h160v-160H620v160ZM180-180h160v-160H180v160Zm440 0h160v-160H620v160Z\"/>\n",
              "  </svg>\n",
              "    </button>\n",
              "\n",
              "  <style>\n",
              "    .colab-df-container {\n",
              "      display:flex;\n",
              "      gap: 12px;\n",
              "    }\n",
              "\n",
              "    .colab-df-convert {\n",
              "      background-color: #E8F0FE;\n",
              "      border: none;\n",
              "      border-radius: 50%;\n",
              "      cursor: pointer;\n",
              "      display: none;\n",
              "      fill: #1967D2;\n",
              "      height: 32px;\n",
              "      padding: 0 0 0 0;\n",
              "      width: 32px;\n",
              "    }\n",
              "\n",
              "    .colab-df-convert:hover {\n",
              "      background-color: #E2EBFA;\n",
              "      box-shadow: 0px 1px 2px rgba(60, 64, 67, 0.3), 0px 1px 3px 1px rgba(60, 64, 67, 0.15);\n",
              "      fill: #174EA6;\n",
              "    }\n",
              "\n",
              "    .colab-df-buttons div {\n",
              "      margin-bottom: 4px;\n",
              "    }\n",
              "\n",
              "    [theme=dark] .colab-df-convert {\n",
              "      background-color: #3B4455;\n",
              "      fill: #D2E3FC;\n",
              "    }\n",
              "\n",
              "    [theme=dark] .colab-df-convert:hover {\n",
              "      background-color: #434B5C;\n",
              "      box-shadow: 0px 1px 3px 1px rgba(0, 0, 0, 0.15);\n",
              "      filter: drop-shadow(0px 1px 2px rgba(0, 0, 0, 0.3));\n",
              "      fill: #FFFFFF;\n",
              "    }\n",
              "  </style>\n",
              "\n",
              "    <script>\n",
              "      const buttonEl =\n",
              "        document.querySelector('#df-7fd8e89c-4b5b-4a07-af9a-45e522031b73 button.colab-df-convert');\n",
              "      buttonEl.style.display =\n",
              "        google.colab.kernel.accessAllowed ? 'block' : 'none';\n",
              "\n",
              "      async function convertToInteractive(key) {\n",
              "        const element = document.querySelector('#df-7fd8e89c-4b5b-4a07-af9a-45e522031b73');\n",
              "        const dataTable =\n",
              "          await google.colab.kernel.invokeFunction('convertToInteractive',\n",
              "                                                    [key], {});\n",
              "        if (!dataTable) return;\n",
              "\n",
              "        const docLinkHtml = 'Like what you see? Visit the ' +\n",
              "          '<a target=\"_blank\" href=https://colab.research.google.com/notebooks/data_table.ipynb>data table notebook</a>'\n",
              "          + ' to learn more about interactive tables.';\n",
              "        element.innerHTML = '';\n",
              "        dataTable['output_type'] = 'display_data';\n",
              "        await google.colab.output.renderOutput(dataTable, element);\n",
              "        const docLink = document.createElement('div');\n",
              "        docLink.innerHTML = docLinkHtml;\n",
              "        element.appendChild(docLink);\n",
              "      }\n",
              "    </script>\n",
              "  </div>\n",
              "\n",
              "\n",
              "<div id=\"df-38faf874-ac9d-4343-b6eb-eca93df7e6ee\">\n",
              "  <button class=\"colab-df-quickchart\" onclick=\"quickchart('df-38faf874-ac9d-4343-b6eb-eca93df7e6ee')\"\n",
              "            title=\"Suggest charts.\"\n",
              "            style=\"display:none;\">\n",
              "\n",
              "<svg xmlns=\"http://www.w3.org/2000/svg\" height=\"24px\"viewBox=\"0 0 24 24\"\n",
              "     width=\"24px\">\n",
              "    <g>\n",
              "        <path d=\"M19 3H5c-1.1 0-2 .9-2 2v14c0 1.1.9 2 2 2h14c1.1 0 2-.9 2-2V5c0-1.1-.9-2-2-2zM9 17H7v-7h2v7zm4 0h-2V7h2v10zm4 0h-2v-4h2v4z\"/>\n",
              "    </g>\n",
              "</svg>\n",
              "  </button>\n",
              "\n",
              "<style>\n",
              "  .colab-df-quickchart {\n",
              "      --bg-color: #E8F0FE;\n",
              "      --fill-color: #1967D2;\n",
              "      --hover-bg-color: #E2EBFA;\n",
              "      --hover-fill-color: #174EA6;\n",
              "      --disabled-fill-color: #AAA;\n",
              "      --disabled-bg-color: #DDD;\n",
              "  }\n",
              "\n",
              "  [theme=dark] .colab-df-quickchart {\n",
              "      --bg-color: #3B4455;\n",
              "      --fill-color: #D2E3FC;\n",
              "      --hover-bg-color: #434B5C;\n",
              "      --hover-fill-color: #FFFFFF;\n",
              "      --disabled-bg-color: #3B4455;\n",
              "      --disabled-fill-color: #666;\n",
              "  }\n",
              "\n",
              "  .colab-df-quickchart {\n",
              "    background-color: var(--bg-color);\n",
              "    border: none;\n",
              "    border-radius: 50%;\n",
              "    cursor: pointer;\n",
              "    display: none;\n",
              "    fill: var(--fill-color);\n",
              "    height: 32px;\n",
              "    padding: 0;\n",
              "    width: 32px;\n",
              "  }\n",
              "\n",
              "  .colab-df-quickchart:hover {\n",
              "    background-color: var(--hover-bg-color);\n",
              "    box-shadow: 0 1px 2px rgba(60, 64, 67, 0.3), 0 1px 3px 1px rgba(60, 64, 67, 0.15);\n",
              "    fill: var(--button-hover-fill-color);\n",
              "  }\n",
              "\n",
              "  .colab-df-quickchart-complete:disabled,\n",
              "  .colab-df-quickchart-complete:disabled:hover {\n",
              "    background-color: var(--disabled-bg-color);\n",
              "    fill: var(--disabled-fill-color);\n",
              "    box-shadow: none;\n",
              "  }\n",
              "\n",
              "  .colab-df-spinner {\n",
              "    border: 2px solid var(--fill-color);\n",
              "    border-color: transparent;\n",
              "    border-bottom-color: var(--fill-color);\n",
              "    animation:\n",
              "      spin 1s steps(1) infinite;\n",
              "  }\n",
              "\n",
              "  @keyframes spin {\n",
              "    0% {\n",
              "      border-color: transparent;\n",
              "      border-bottom-color: var(--fill-color);\n",
              "      border-left-color: var(--fill-color);\n",
              "    }\n",
              "    20% {\n",
              "      border-color: transparent;\n",
              "      border-left-color: var(--fill-color);\n",
              "      border-top-color: var(--fill-color);\n",
              "    }\n",
              "    30% {\n",
              "      border-color: transparent;\n",
              "      border-left-color: var(--fill-color);\n",
              "      border-top-color: var(--fill-color);\n",
              "      border-right-color: var(--fill-color);\n",
              "    }\n",
              "    40% {\n",
              "      border-color: transparent;\n",
              "      border-right-color: var(--fill-color);\n",
              "      border-top-color: var(--fill-color);\n",
              "    }\n",
              "    60% {\n",
              "      border-color: transparent;\n",
              "      border-right-color: var(--fill-color);\n",
              "    }\n",
              "    80% {\n",
              "      border-color: transparent;\n",
              "      border-right-color: var(--fill-color);\n",
              "      border-bottom-color: var(--fill-color);\n",
              "    }\n",
              "    90% {\n",
              "      border-color: transparent;\n",
              "      border-bottom-color: var(--fill-color);\n",
              "    }\n",
              "  }\n",
              "</style>\n",
              "\n",
              "  <script>\n",
              "    async function quickchart(key) {\n",
              "      const quickchartButtonEl =\n",
              "        document.querySelector('#' + key + ' button');\n",
              "      quickchartButtonEl.disabled = true;  // To prevent multiple clicks.\n",
              "      quickchartButtonEl.classList.add('colab-df-spinner');\n",
              "      try {\n",
              "        const charts = await google.colab.kernel.invokeFunction(\n",
              "            'suggestCharts', [key], {});\n",
              "      } catch (error) {\n",
              "        console.error('Error during call to suggestCharts:', error);\n",
              "      }\n",
              "      quickchartButtonEl.classList.remove('colab-df-spinner');\n",
              "      quickchartButtonEl.classList.add('colab-df-quickchart-complete');\n",
              "    }\n",
              "    (() => {\n",
              "      let quickchartButtonEl =\n",
              "        document.querySelector('#df-38faf874-ac9d-4343-b6eb-eca93df7e6ee button');\n",
              "      quickchartButtonEl.style.display =\n",
              "        google.colab.kernel.accessAllowed ? 'block' : 'none';\n",
              "    })();\n",
              "  </script>\n",
              "</div>\n",
              "    </div>\n",
              "  </div>\n"
            ]
          },
          "metadata": {},
          "execution_count": 38
        }
      ]
    },
    {
      "cell_type": "code",
      "source": [
        "# Standardisons les données afin d'avoir la même unité sur toutes nos données\n",
        "# DOC : https://scikit-learn.org/stable/modules/preprocessing.html\n",
        "\n",
        "from sklearn import preprocessing\n",
        "from sklearn.pipeline import make_pipeline\n",
        "\n",
        "# Créeons un scaler\n",
        "\n",
        "scaler = StandardScaler()\n",
        "x_train_scaled = scaler.fit_transform(x_train)\n",
        "x_test_scaled = scaler.transform(x_test)\n",
        "x_train_scaled"
      ],
      "metadata": {
        "colab": {
          "base_uri": "https://localhost:8080/"
        },
        "id": "xCg3s8GCLjLc",
        "outputId": "fe6971e9-776b-4e2c-d666-f39657ab1015"
      },
      "execution_count": null,
      "outputs": [
        {
          "output_type": "execute_result",
          "data": {
            "text/plain": [
              "array([[ 0.38106424, -0.42333744,  0.152051  , ..., -0.35328639,\n",
              "         1.35085185, -0.57046226],\n",
              "       [ 1.62710737,  1.9359534 , -0.40374927, ..., -0.75380179,\n",
              "        -0.74429444,  1.75296435],\n",
              "       [-1.56587815,  0.15882524, -1.65429985, ..., -0.9540595 ,\n",
              "        -0.49287688, -0.57046226],\n",
              "       ...,\n",
              "       [ 1.23771889,  0.80226819,  1.19417649, ...,  0.44774442,\n",
              "        -0.57668273,  1.75296435],\n",
              "       [-1.33224506, -0.66845857, -0.89007449, ..., -0.68704923,\n",
              "        -0.07384762, -0.57046226],\n",
              "       [ 0.30318655, -0.05565575,  0.22152603, ..., -0.9540595 ,\n",
              "         1.267046  , -0.57046226]])"
            ]
          },
          "metadata": {},
          "execution_count": 51
        }
      ]
    },
    {
      "cell_type": "code",
      "source": [
        "# Créeons nos métrics pour créer notre modèle de ML\n",
        "\n",
        "lr_cve = cross_val_score(\n",
        "    LinearRegression(),\n",
        "    x_train_scaled,\n",
        "    y_train,\n",
        "    cv = 10,\n",
        "    scoring = 'neg_root_mean_squared_error'\n",
        ")\n",
        "\n",
        "rf_cve = cross_val_score(\n",
        "    RandomForestRegressor(random_state=seed),\n",
        "    x_train_scaled,\n",
        "    y_train,\n",
        "    cv = 10,\n",
        "    scoring = 'neg_root_mean_squared_error'\n",
        ")\n",
        "\n",
        "\n",
        "svm_cve = cross_val_score(\n",
        "    SVR(),\n",
        "    x_train_scaled,\n",
        "    y_train,\n",
        "    cv = 10,\n",
        "    scoring = 'neg_root_mean_squared_error'\n",
        ")"
      ],
      "metadata": {
        "id": "MdxrOKcqRdV0"
      },
      "execution_count": null,
      "outputs": []
    },
    {
      "cell_type": "code",
      "source": [
        "lr_cve"
      ],
      "metadata": {
        "colab": {
          "base_uri": "https://localhost:8080/"
        },
        "id": "H3aMAofsTlqD",
        "outputId": "9a67b4b1-7855-4584-87d3-b6f7b46c97d8"
      },
      "execution_count": null,
      "outputs": [
        {
          "output_type": "execute_result",
          "data": {
            "text/plain": [
              "array([-0.72477886, -0.76711655, -0.70671448, -0.71146387, -0.76970819,\n",
              "       -0.7139929 , -0.72548399, -0.77839136, -0.65779615, -0.73061361])"
            ]
          },
          "metadata": {},
          "execution_count": 53
        }
      ]
    },
    {
      "cell_type": "code",
      "source": [
        "rf_cve"
      ],
      "metadata": {
        "colab": {
          "base_uri": "https://localhost:8080/"
        },
        "id": "Ux8uh4FgTmID",
        "outputId": "6a52b8a6-dced-4b05-8c6a-9826c30b5c70"
      },
      "execution_count": null,
      "outputs": [
        {
          "output_type": "execute_result",
          "data": {
            "text/plain": [
              "array([-0.60756703, -0.63231321, -0.5834071 , -0.59426991, -0.64805137,\n",
              "       -0.58764262, -0.61720134, -0.62915517, -0.56426227, -0.58528076])"
            ]
          },
          "metadata": {},
          "execution_count": 54
        }
      ]
    },
    {
      "cell_type": "code",
      "source": [
        "svm_cve"
      ],
      "metadata": {
        "colab": {
          "base_uri": "https://localhost:8080/"
        },
        "id": "2jKWNL04TmLA",
        "outputId": "c8c830b0-d446-48ab-ab9e-70f59131c83b"
      },
      "execution_count": null,
      "outputs": [
        {
          "output_type": "execute_result",
          "data": {
            "text/plain": [
              "array([-0.67007468, -0.68360669, -0.65365875, -0.65551573, -0.71495938,\n",
              "       -0.64888457, -0.67206182, -0.7035237 , -0.60756392, -0.67544857])"
            ]
          },
          "metadata": {},
          "execution_count": 55
        }
      ]
    },
    {
      "cell_type": "markdown",
      "source": [
        "* On peut remarquer que nos modèles n'ont pas vraiment varié donc on a pas de problème de sup apprentissage.\n",
        "\n",
        "* le modèle le moins performent c'est le lr_cve qui a une erreur quadratique moyen beaucoup trop élévé"
      ],
      "metadata": {
        "id": "_h88FB9wX8Az"
      }
    },
    {
      "cell_type": "code",
      "source": [
        "print(\"RF :\", rf_cve.mean(), \"LR :\", lr_cve.mean(), \"SVM :\", svm_cve.mean())"
      ],
      "metadata": {
        "colab": {
          "base_uri": "https://localhost:8080/"
        },
        "id": "m1xQd-KQRdZP",
        "outputId": "613233b2-edd9-44e5-829b-156ee4172ac6"
      },
      "execution_count": null,
      "outputs": [
        {
          "output_type": "stream",
          "name": "stdout",
          "text": [
            "RF : -0.6049150779593793 LR : -0.7286059952530286 SVM : -0.668529781202537\n"
          ]
        }
      ]
    },
    {
      "cell_type": "code",
      "source": [
        "\"\"\"import random\n",
        "\n",
        "seed = random.randint(1, 1000)\n",
        "seed\n",
        "\"\"\""
      ],
      "metadata": {
        "id": "9BGGyCSnZJ4k",
        "colab": {
          "base_uri": "https://localhost:8080/",
          "height": 35
        },
        "outputId": "ddfca1a1-fc92-44bc-f3e4-1b085022ffa5"
      },
      "execution_count": null,
      "outputs": [
        {
          "output_type": "execute_result",
          "data": {
            "text/plain": [
              "'import random\\n\\nseed = random.randint(1, 1000)\\nseed\\n'"
            ],
            "application/vnd.google.colaboratory.intrinsic+json": {
              "type": "string"
            }
          },
          "metadata": {},
          "execution_count": 47
        }
      ]
    },
    {
      "cell_type": "markdown",
      "source": [
        "## Contrution du modèle ML\n",
        "\n",
        "* Puisque le RF est notre modèle d'apprenetissage le plus perfermant avec une erreur quadratique moyenne moins élévé"
      ],
      "metadata": {
        "id": "g2kTXPBuZ6ex"
      }
    },
    {
      "cell_type": "code",
      "source": [
        "# On utilisera par suite des données de test standardisées\n",
        "model =  RandomForestRegressor(random_state=seed)\n",
        "model.fit(x_train_scaled, y_train)"
      ],
      "metadata": {
        "colab": {
          "base_uri": "https://localhost:8080/",
          "height": 75
        },
        "id": "Fj2NiRzuaAP-",
        "outputId": "33e9383e-942f-4ed4-b30b-78e2393144ae"
      },
      "execution_count": null,
      "outputs": [
        {
          "output_type": "execute_result",
          "data": {
            "text/plain": [
              "RandomForestRegressor(random_state=33)"
            ],
            "text/html": [
              "<style>#sk-container-id-3 {color: black;background-color: white;}#sk-container-id-3 pre{padding: 0;}#sk-container-id-3 div.sk-toggleable {background-color: white;}#sk-container-id-3 label.sk-toggleable__label {cursor: pointer;display: block;width: 100%;margin-bottom: 0;padding: 0.3em;box-sizing: border-box;text-align: center;}#sk-container-id-3 label.sk-toggleable__label-arrow:before {content: \"▸\";float: left;margin-right: 0.25em;color: #696969;}#sk-container-id-3 label.sk-toggleable__label-arrow:hover:before {color: black;}#sk-container-id-3 div.sk-estimator:hover label.sk-toggleable__label-arrow:before {color: black;}#sk-container-id-3 div.sk-toggleable__content {max-height: 0;max-width: 0;overflow: hidden;text-align: left;background-color: #f0f8ff;}#sk-container-id-3 div.sk-toggleable__content pre {margin: 0.2em;color: black;border-radius: 0.25em;background-color: #f0f8ff;}#sk-container-id-3 input.sk-toggleable__control:checked~div.sk-toggleable__content {max-height: 200px;max-width: 100%;overflow: auto;}#sk-container-id-3 input.sk-toggleable__control:checked~label.sk-toggleable__label-arrow:before {content: \"▾\";}#sk-container-id-3 div.sk-estimator input.sk-toggleable__control:checked~label.sk-toggleable__label {background-color: #d4ebff;}#sk-container-id-3 div.sk-label input.sk-toggleable__control:checked~label.sk-toggleable__label {background-color: #d4ebff;}#sk-container-id-3 input.sk-hidden--visually {border: 0;clip: rect(1px 1px 1px 1px);clip: rect(1px, 1px, 1px, 1px);height: 1px;margin: -1px;overflow: hidden;padding: 0;position: absolute;width: 1px;}#sk-container-id-3 div.sk-estimator {font-family: monospace;background-color: #f0f8ff;border: 1px dotted black;border-radius: 0.25em;box-sizing: border-box;margin-bottom: 0.5em;}#sk-container-id-3 div.sk-estimator:hover {background-color: #d4ebff;}#sk-container-id-3 div.sk-parallel-item::after {content: \"\";width: 100%;border-bottom: 1px solid gray;flex-grow: 1;}#sk-container-id-3 div.sk-label:hover label.sk-toggleable__label {background-color: #d4ebff;}#sk-container-id-3 div.sk-serial::before {content: \"\";position: absolute;border-left: 1px solid gray;box-sizing: border-box;top: 0;bottom: 0;left: 50%;z-index: 0;}#sk-container-id-3 div.sk-serial {display: flex;flex-direction: column;align-items: center;background-color: white;padding-right: 0.2em;padding-left: 0.2em;position: relative;}#sk-container-id-3 div.sk-item {position: relative;z-index: 1;}#sk-container-id-3 div.sk-parallel {display: flex;align-items: stretch;justify-content: center;background-color: white;position: relative;}#sk-container-id-3 div.sk-item::before, #sk-container-id-3 div.sk-parallel-item::before {content: \"\";position: absolute;border-left: 1px solid gray;box-sizing: border-box;top: 0;bottom: 0;left: 50%;z-index: -1;}#sk-container-id-3 div.sk-parallel-item {display: flex;flex-direction: column;z-index: 1;position: relative;background-color: white;}#sk-container-id-3 div.sk-parallel-item:first-child::after {align-self: flex-end;width: 50%;}#sk-container-id-3 div.sk-parallel-item:last-child::after {align-self: flex-start;width: 50%;}#sk-container-id-3 div.sk-parallel-item:only-child::after {width: 0;}#sk-container-id-3 div.sk-dashed-wrapped {border: 1px dashed gray;margin: 0 0.4em 0.5em 0.4em;box-sizing: border-box;padding-bottom: 0.4em;background-color: white;}#sk-container-id-3 div.sk-label label {font-family: monospace;font-weight: bold;display: inline-block;line-height: 1.2em;}#sk-container-id-3 div.sk-label-container {text-align: center;}#sk-container-id-3 div.sk-container {/* jupyter's `normalize.less` sets `[hidden] { display: none; }` but bootstrap.min.css set `[hidden] { display: none !important; }` so we also need the `!important` here to be able to override the default hidden behavior on the sphinx rendered scikit-learn.org. See: https://github.com/scikit-learn/scikit-learn/issues/21755 */display: inline-block !important;position: relative;}#sk-container-id-3 div.sk-text-repr-fallback {display: none;}</style><div id=\"sk-container-id-3\" class=\"sk-top-container\"><div class=\"sk-text-repr-fallback\"><pre>RandomForestRegressor(random_state=33)</pre><b>In a Jupyter environment, please rerun this cell to show the HTML representation or trust the notebook. <br />On GitHub, the HTML representation is unable to render, please try loading this page with nbviewer.org.</b></div><div class=\"sk-container\" hidden><div class=\"sk-item\"><div class=\"sk-estimator sk-toggleable\"><input class=\"sk-toggleable__control sk-hidden--visually\" id=\"sk-estimator-id-3\" type=\"checkbox\" checked><label for=\"sk-estimator-id-3\" class=\"sk-toggleable__label sk-toggleable__label-arrow\">RandomForestRegressor</label><div class=\"sk-toggleable__content\"><pre>RandomForestRegressor(random_state=33)</pre></div></div></div></div></div>"
            ]
          },
          "metadata": {},
          "execution_count": 57
        }
      ]
    },
    {
      "cell_type": "code",
      "source": [
        "y_pred = model.predict(x_test_scaled)\n",
        "y_pred"
      ],
      "metadata": {
        "colab": {
          "base_uri": "https://localhost:8080/"
        },
        "id": "3fDh1d0paxjn",
        "outputId": "ee5e593f-a2eb-4b19-9140-ae788aba30e4"
      },
      "execution_count": null,
      "outputs": [
        {
          "output_type": "execute_result",
          "data": {
            "text/plain": [
              "array([6.4 , 5.82, 6.25, ..., 5.38, 5.09, 4.98])"
            ]
          },
          "metadata": {},
          "execution_count": 34
        }
      ]
    },
    {
      "cell_type": "code",
      "source": [
        "# Evaluation de ce modèle, calucl de l'erreur quadratique moyen\n",
        "mean_squared_error(y_test, y_pred, squared=False)"
      ],
      "metadata": {
        "colab": {
          "base_uri": "https://localhost:8080/",
          "height": 197
        },
        "id": "nHvRO-ZCaxo6",
        "outputId": "b6a8645f-0d97-40e3-d5c5-69d0b581de01"
      },
      "execution_count": null,
      "outputs": [
        {
          "output_type": "error",
          "ename": "NameError",
          "evalue": "ignored",
          "traceback": [
            "\u001b[0;31m---------------------------------------------------------------------------\u001b[0m",
            "\u001b[0;31mNameError\u001b[0m                                 Traceback (most recent call last)",
            "\u001b[0;32m<ipython-input-59-fb202fba0650>\u001b[0m in \u001b[0;36m<cell line: 2>\u001b[0;34m()\u001b[0m\n\u001b[1;32m      1\u001b[0m \u001b[0;31m# Evaluation de ce modèle, calucl de l'erreur quadratique moyen\u001b[0m\u001b[0;34m\u001b[0m\u001b[0;34m\u001b[0m\u001b[0m\n\u001b[0;32m----> 2\u001b[0;31m \u001b[0mmean_squared_error\u001b[0m\u001b[0;34m(\u001b[0m\u001b[0my_test\u001b[0m\u001b[0;34m,\u001b[0m \u001b[0my_pred\u001b[0m\u001b[0;34m,\u001b[0m \u001b[0msquared\u001b[0m\u001b[0;34m=\u001b[0m\u001b[0;32mFalse\u001b[0m\u001b[0;34m)\u001b[0m\u001b[0;34m\u001b[0m\u001b[0;34m\u001b[0m\u001b[0m\n\u001b[0m",
            "\u001b[0;31mNameError\u001b[0m: name 'y_pred' is not defined"
          ]
        }
      ]
    },
    {
      "cell_type": "markdown",
      "source": [
        "#### L'erreur quadratique moyenne est de + ou - 0.63"
      ],
      "metadata": {
        "id": "SWqpCrfdcUva"
      }
    },
    {
      "cell_type": "markdown",
      "source": [
        "## Conclusion : Attributs importants"
      ],
      "metadata": {
        "id": "XN1zLJKncr1F"
      }
    },
    {
      "cell_type": "code",
      "source": [
        "# Modèle assemblisse\n",
        "\n",
        "model.feature_importances_"
      ],
      "metadata": {
        "colab": {
          "base_uri": "https://localhost:8080/"
        },
        "id": "OL2kNFhXaxvO",
        "outputId": "19bf0854-ee60-48ba-e0a6-a1d8030142fb"
      },
      "execution_count": null,
      "outputs": [
        {
          "output_type": "execute_result",
          "data": {
            "text/plain": [
              "array([0.05438907, 0.128995  , 0.06012551, 0.07411797, 0.06590424,\n",
              "       0.08302336, 0.0727574 , 0.05769381, 0.06995162, 0.07491607,\n",
              "       0.25618198, 0.00194397])"
            ]
          },
          "metadata": {},
          "execution_count": 36
        }
      ]
    },
    {
      "cell_type": "code",
      "source": [
        "# Créeons une pandas series pour savoir à qui réellement appatiennent ces scores de matrice\n",
        "\n",
        "vars_imp = pd.Series(model.feature_importances_, index=x.columns).sort_values(ascending=False)\n",
        "vars_imp"
      ],
      "metadata": {
        "colab": {
          "base_uri": "https://localhost:8080/"
        },
        "id": "mkF3Z8nCaxyG",
        "outputId": "45bbbcba-3743-4d4b-97bc-7243db8cb750"
      },
      "execution_count": null,
      "outputs": [
        {
          "output_type": "execute_result",
          "data": {
            "text/plain": [
              "alcohol                 0.256182\n",
              "volatile acidity        0.128995\n",
              "free sulfur dioxide     0.083023\n",
              "sulphates               0.074916\n",
              "residual sugar          0.074118\n",
              "total sulfur dioxide    0.072757\n",
              "pH                      0.069952\n",
              "chlorides               0.065904\n",
              "citric acid             0.060126\n",
              "density                 0.057694\n",
              "fixed acidity           0.054389\n",
              "type_vin                0.001944\n",
              "dtype: float64"
            ]
          },
          "metadata": {},
          "execution_count": 37
        }
      ]
    },
    {
      "cell_type": "code",
      "source": [
        "plt.figure(figsize=(5,5))\n",
        "sns.barplot(x=vars_imp, y=vars_imp.index)\n",
        "plt.title('Importance de chaque prédicteur du vin')\n",
        "plt.show()"
      ],
      "metadata": {
        "colab": {
          "base_uri": "https://localhost:8080/",
          "height": 251
        },
        "id": "mNloOyEjd6t7",
        "outputId": "ef8d5fa1-4e12-40ee-de14-889bbfe4a427"
      },
      "execution_count": null,
      "outputs": [
        {
          "output_type": "error",
          "ename": "NameError",
          "evalue": "ignored",
          "traceback": [
            "\u001b[0;31m---------------------------------------------------------------------------\u001b[0m",
            "\u001b[0;31mNameError\u001b[0m                                 Traceback (most recent call last)",
            "\u001b[0;32m<ipython-input-60-dc1dd51f05eb>\u001b[0m in \u001b[0;36m<cell line: 2>\u001b[0;34m()\u001b[0m\n\u001b[1;32m      1\u001b[0m \u001b[0mplt\u001b[0m\u001b[0;34m.\u001b[0m\u001b[0mfigure\u001b[0m\u001b[0;34m(\u001b[0m\u001b[0mfigsize\u001b[0m\u001b[0;34m=\u001b[0m\u001b[0;34m(\u001b[0m\u001b[0;36m5\u001b[0m\u001b[0;34m,\u001b[0m\u001b[0;36m5\u001b[0m\u001b[0;34m)\u001b[0m\u001b[0;34m)\u001b[0m\u001b[0;34m\u001b[0m\u001b[0;34m\u001b[0m\u001b[0m\n\u001b[0;32m----> 2\u001b[0;31m \u001b[0msns\u001b[0m\u001b[0;34m.\u001b[0m\u001b[0mbarplot\u001b[0m\u001b[0;34m(\u001b[0m\u001b[0mx\u001b[0m\u001b[0;34m=\u001b[0m\u001b[0mvars_imp\u001b[0m\u001b[0;34m,\u001b[0m \u001b[0my\u001b[0m\u001b[0;34m=\u001b[0m\u001b[0mvars_imp\u001b[0m\u001b[0;34m.\u001b[0m\u001b[0mindex\u001b[0m\u001b[0;34m)\u001b[0m\u001b[0;34m\u001b[0m\u001b[0;34m\u001b[0m\u001b[0m\n\u001b[0m\u001b[1;32m      3\u001b[0m \u001b[0mplt\u001b[0m\u001b[0;34m.\u001b[0m\u001b[0mtitle\u001b[0m\u001b[0;34m(\u001b[0m\u001b[0;34m'Importance de chaque prédicteur du vin'\u001b[0m\u001b[0;34m)\u001b[0m\u001b[0;34m\u001b[0m\u001b[0;34m\u001b[0m\u001b[0m\n\u001b[1;32m      4\u001b[0m \u001b[0mplt\u001b[0m\u001b[0;34m.\u001b[0m\u001b[0mshow\u001b[0m\u001b[0;34m(\u001b[0m\u001b[0;34m)\u001b[0m\u001b[0;34m\u001b[0m\u001b[0;34m\u001b[0m\u001b[0m\n",
            "\u001b[0;31mNameError\u001b[0m: name 'vars_imp' is not defined"
          ]
        },
        {
          "output_type": "display_data",
          "data": {
            "text/plain": [
              "<Figure size 500x500 with 0 Axes>"
            ]
          },
          "metadata": {}
        }
      ]
    },
    {
      "cell_type": "code",
      "source": [
        "import pandas as pd\n",
        "\n",
        "# Exemple de DataFrame avec plusieurs colonnes de type 'object'\n",
        "data = {'col1': ['1', '2', '3', '4'],\n",
        "        'col2': ['5.5', '6.6', '7.7', 'eight']}\n",
        "df = pd.DataFrame(data)\n",
        "\n",
        "# Liste des colonnes à convertir en int64 ou float\n",
        "columns_to_convert = ['col1', 'col2']\n",
        "\n",
        "# Boucle à travers les colonnes et affiche les valeurs non valides\n",
        "\"\"\"for col in columns_to_convert:\n",
        "    invalid_values = df[~df[col].apply(pd.to_numeric, errors='coerce').notna()]\n",
        "    print(f\"Colonnes '{col}' - Valeurs non valides :\")\n",
        "    print(invalid_values)\n",
        "\"\"\"\n",
        "# Convertit les colonnes en int64 ou float avec 'coerce'\n",
        "for col in columns_to_convert:\n",
        "    df[col] = pd.to_numeric(df[col], errors='coerce')\n",
        "\n",
        "# Vérifiez le type de données de chaque colonne après la conversion\n",
        "print(df.dtypes)\n"
      ],
      "metadata": {
        "id": "_ftiY8yuewIj",
        "colab": {
          "base_uri": "https://localhost:8080/"
        },
        "outputId": "eaef7b73-ad7a-4174-b6ea-99b0f202a872"
      },
      "execution_count": null,
      "outputs": [
        {
          "output_type": "stream",
          "name": "stdout",
          "text": [
            "col1      int64\n",
            "col2    float64\n",
            "dtype: object\n"
          ]
        }
      ]
    },
    {
      "cell_type": "markdown",
      "source": [
        "## Création d'une IA"
      ],
      "metadata": {
        "id": "OSvlDx-4sTwB"
      }
    },
    {
      "cell_type": "markdown",
      "source": [
        "# Nouvelle section"
      ],
      "metadata": {
        "id": "N7c08JrMwJbB"
      }
    },
    {
      "cell_type": "markdown",
      "source": [],
      "metadata": {
        "id": "Kuj0UcZnsVlY"
      }
    },
    {
      "cell_type": "markdown",
      "source": [],
      "metadata": {
        "id": "itjqWnv5sV3k"
      }
    },
    {
      "cell_type": "code",
      "source": [
        "import numpy as np\n",
        "\n",
        "\n",
        "x_entrer = np.array(([3, 1.5], [2, 1], [4, 1.5], [3, 1], [3.5, 0.5], [2, 0.5], [5.5, 1], [1, 1], [4, 1.5]), dtype=float)\n",
        "y = np.array(([1], [0], [1], [0], [1], [0]), dtype=float) # données de sortie 1 = rouge / 0 = bleu\n",
        "\n",
        "x_entrer = x_entrer/np.amax(x_entrer, axis=0)\n",
        "\n",
        "x =np.split(x_entrer,[8])[0]\n",
        "xPrediction = np.split(x_entrer, [8])[1]\n",
        "\n",
        "W1 = np.random.randn(2, 3)  # matrice 2x3\n",
        "W2 = np.random.randn(3, 1)  # matrice 3x1\n",
        "\n",
        "print(x)\n",
        "print(W1)\n",
        "\n",
        "z = np.dot(x, W1)\n",
        "print(z)\n",
        "\n",
        "\n",
        "\n",
        "\"\"\"\n",
        "class Neural_Network(object):\n",
        "    def __init__(self):\n",
        "        self.inputSize = 2\n",
        "        self.output = 1\n",
        "        self.hiddenSize = 3\n",
        "\n",
        "        self.W1 = np.random.randn(self.inputSize, self.hiddenSize)\n",
        "        self.W2 = np.random.randn(self.hiddenSize, self.output)\n",
        "\n",
        "    def forward(self,x):\n",
        "\n",
        "        self.z = np.dot(x,self.W1)\"\"\""
      ],
      "metadata": {
        "colab": {
          "base_uri": "https://localhost:8080/",
          "height": 375
        },
        "id": "WAuUx1aP290h",
        "outputId": "1d3004d9-5c20-40e5-a7d3-2bf63c781dae"
      },
      "execution_count": null,
      "outputs": [
        {
          "output_type": "stream",
          "name": "stdout",
          "text": [
            "[[0.54545455 1.        ]\n",
            " [0.36363636 0.66666667]\n",
            " [0.72727273 1.        ]\n",
            " [0.54545455 0.66666667]\n",
            " [0.63636364 0.33333333]\n",
            " [0.36363636 0.33333333]\n",
            " [1.         0.66666667]\n",
            " [0.18181818 0.66666667]]\n",
            "[[ 0.16903563 -1.61643677 -1.41517572]\n",
            " [-0.47453874 -0.18731393 -0.34442862]]\n",
            "[[-0.38233749 -1.06900671 -1.11634265]\n",
            " [-0.25489166 -0.71267114 -0.74422844]\n",
            " [-0.35160374 -1.36290431 -1.37364733]\n",
            " [-0.22415791 -1.00656874 -1.00153311]\n",
            " [-0.05061145 -1.09107956 -1.01537591]\n",
            " [-0.09671208 -0.65023317 -0.62941889]\n",
            " [-0.14732353 -1.74131272 -1.6447948 ]\n",
            " [-0.28562541 -0.41877355 -0.48692376]]\n"
          ]
        },
        {
          "output_type": "execute_result",
          "data": {
            "text/plain": [
              "'\\nclass Neural_Network(object):\\n    def __init__(self):\\n        self.inputSize = 2\\n        self.output = 1\\n        self.hiddenSize = 3\\n\\n        self.W1 = np.random.randn(self.inputSize, self.hiddenSize)\\n        self.W2 = np.random.randn(self.hiddenSize, self.output)\\n\\n    def forward(self,x):\\n\\n        self.z = np.dot(x,self.W1)'"
            ],
            "application/vnd.google.colaboratory.intrinsic+json": {
              "type": "string"
            }
          },
          "metadata": {},
          "execution_count": 3
        }
      ]
    },
    {
      "cell_type": "code",
      "source": [
        "0.54545455 * 0.16903563 + 1 * (-0.47453874)"
      ],
      "metadata": {
        "colab": {
          "base_uri": "https://localhost:8080/"
        },
        "id": "TEVkybsK47dH",
        "outputId": "62e193a9-b19b-4b01-c2fc-96f2a7f6a83c"
      },
      "execution_count": null,
      "outputs": [
        {
          "output_type": "execute_result",
          "data": {
            "text/plain": [
              "-0.38233748650438354"
            ]
          },
          "metadata": {},
          "execution_count": 39
        }
      ]
    },
    {
      "cell_type": "code",
      "source": [],
      "metadata": {
        "id": "1KqH8V8bwPYj"
      },
      "execution_count": null,
      "outputs": []
    },
    {
      "cell_type": "code",
      "source": [
        "\n"
      ],
      "metadata": {
        "id": "t55E4t9nwhQF"
      },
      "execution_count": null,
      "outputs": []
    }
  ]
}