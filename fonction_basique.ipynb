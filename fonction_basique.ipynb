{
  "nbformat": 4,
  "nbformat_minor": 0,
  "metadata": {
    "colab": {
      "provenance": [],
      "toc_visible": true
    },
    "kernelspec": {
      "name": "python3",
      "display_name": "Python 3"
    },
    "language_info": {
      "name": "python"
    }
  },
  "cells": [
    {
      "cell_type": "code",
      "execution_count": null,
      "metadata": {
        "colab": {
          "base_uri": "https://localhost:8080/"
        },
        "id": "kqIHJnB5JIaE",
        "outputId": "6c52ce9e-18d4-40d6-bf82-a6a5536d4e7e"
      },
      "outputs": [
        {
          "output_type": "execute_result",
          "data": {
            "text/plain": [
              "7"
            ]
          },
          "metadata": {},
          "execution_count": 1
        }
      ],
      "source": [
        "f = lambda x, y: x**2 +y\n",
        "\n",
        "f(2,3)"
      ]
    },
    {
      "cell_type": "code",
      "source": [
        "def e_potentielle(masse, hauteur,e_limite, g=9.81):\n",
        "    E = masse*hauteur*g\n",
        "    print(E, 'Joules')\n",
        "    return E < e_limite\n",
        "\n",
        "e_potentielle(6, 80, 5000)\n"
      ],
      "metadata": {
        "colab": {
          "base_uri": "https://localhost:8080/"
        },
        "id": "kPI6fX5CJTIz",
        "outputId": "d4d04afe-3cd7-4eea-ba42-57f2b7cdde4f"
      },
      "execution_count": null,
      "outputs": [
        {
          "output_type": "stream",
          "name": "stdout",
          "text": [
            "4708.8 Joules\n"
          ]
        },
        {
          "output_type": "execute_result",
          "data": {
            "text/plain": [
              "True"
            ]
          },
          "metadata": {},
          "execution_count": 25
        }
      ]
    },
    {
      "cell_type": "code",
      "source": [
        "def signe(x):\n",
        "\n",
        "  if (x>0):\n",
        "    print(x, 'positif')\n",
        "  elif x== 0:\n",
        "    print(x, 'null')\n",
        "  else:\n",
        "    print(x, 'negatif')\n",
        "\n",
        "signe(3)\n"
      ],
      "metadata": {
        "colab": {
          "base_uri": "https://localhost:8080/"
        },
        "id": "CAmz7gNDJ9aS",
        "outputId": "8ac241a3-bffe-4382-9afd-3c8e6b9ba63f"
      },
      "execution_count": null,
      "outputs": [
        {
          "output_type": "stream",
          "name": "stdout",
          "text": [
            "3 positif\n"
          ]
        }
      ]
    },
    {
      "cell_type": "code",
      "source": [
        "\n",
        "for i in range(10, -10, -3):\n",
        "  signe(i)"
      ],
      "metadata": {
        "colab": {
          "base_uri": "https://localhost:8080/"
        },
        "id": "rrF7JzKi4WDf",
        "outputId": "27dfe9bb-85c9-4272-ba4e-f95744a02983"
      },
      "execution_count": null,
      "outputs": [
        {
          "output_type": "stream",
          "name": "stdout",
          "text": [
            "10 positif\n",
            "7 positif\n",
            "4 positif\n",
            "1 positif\n",
            "-2 negatif\n",
            "-5 negatif\n",
            "-8 negatif\n"
          ]
        }
      ]
    },
    {
      "cell_type": "code",
      "source": [
        "x = 0\n",
        "while x<10:\n",
        "  print(x)\n",
        "  x += 1"
      ],
      "metadata": {
        "colab": {
          "base_uri": "https://localhost:8080/"
        },
        "id": "Bb-4_6AT8SPh",
        "outputId": "ccd5219a-b66c-4e29-c2cc-f1a0ed35997f"
      },
      "execution_count": null,
      "outputs": [
        {
          "output_type": "stream",
          "name": "stdout",
          "text": [
            "0\n",
            "1\n",
            "2\n",
            "3\n",
            "4\n",
            "5\n",
            "6\n",
            "7\n",
            "8\n",
            "9\n"
          ]
        }
      ]
    },
    {
      "cell_type": "code",
      "source": [
        "villes = ['Paris', 'Bresil', 'Berlin', 'Londres']\n",
        "villes.append('Dublin')\n",
        "villes"
      ],
      "metadata": {
        "colab": {
          "base_uri": "https://localhost:8080/"
        },
        "id": "bVPza0T_9yZU",
        "outputId": "9abb5fd3-e9e3-4907-e3d1-98721c80c656"
      },
      "execution_count": null,
      "outputs": [
        {
          "output_type": "execute_result",
          "data": {
            "text/plain": [
              "['Paris', 'Bresil', 'Berlin', 'Londres', 'Dublin']"
            ]
          },
          "metadata": {},
          "execution_count": 43
        }
      ]
    },
    {
      "cell_type": "code",
      "source": [
        "villes.insert(3, 'Madrid')\n",
        "villes"
      ],
      "metadata": {
        "colab": {
          "base_uri": "https://localhost:8080/"
        },
        "id": "OktbpgOMBOa3",
        "outputId": "3b3dbaa2-38bc-4697-9991-b0f7c050446b"
      },
      "execution_count": null,
      "outputs": [
        {
          "output_type": "execute_result",
          "data": {
            "text/plain": [
              "['Paris', 'Bresil', 'Berlin', 'Madrid', 'Madrid', 'Londres', 'Dublin']"
            ]
          },
          "metadata": {},
          "execution_count": 32
        }
      ]
    },
    {
      "cell_type": "code",
      "source": [
        "villes_2 =['Amsterdam', 'Rome']\n",
        "villes.extend(villes_2)\n",
        "villes"
      ],
      "metadata": {
        "colab": {
          "base_uri": "https://localhost:8080/"
        },
        "id": "cy_UGIh_Bnv-",
        "outputId": "c4a452d0-86f4-4c36-8ef0-7c64f26fd8e0"
      },
      "execution_count": null,
      "outputs": [
        {
          "output_type": "execute_result",
          "data": {
            "text/plain": [
              "['Berlin',\n",
              " 'Bresil',\n",
              " 'Dublin',\n",
              " 'Londres',\n",
              " 'Madrid',\n",
              " 'Madrid',\n",
              " 'Paris',\n",
              " ['Amsterdam', 'Rome'],\n",
              " 'Amsterdam',\n",
              " 'Rome',\n",
              " 'Amsterdam',\n",
              " 'Rome',\n",
              " 'Amsterdam',\n",
              " 'Rome',\n",
              " 'Amsterdam',\n",
              " 'Rome',\n",
              " 'Amsterdam',\n",
              " 'Rome',\n",
              " 'Amsterdam',\n",
              " 'Rome']"
            ]
          },
          "metadata": {},
          "execution_count": 40
        }
      ]
    },
    {
      "cell_type": "code",
      "source": [
        "villes[7].clear()"
      ],
      "metadata": {
        "id": "c4yzKbzoCRim"
      },
      "execution_count": null,
      "outputs": []
    },
    {
      "cell_type": "code",
      "source": [
        "villes"
      ],
      "metadata": {
        "colab": {
          "base_uri": "https://localhost:8080/"
        },
        "id": "b8FW7XtMDSJM",
        "outputId": "6b3f8448-9cac-4a4c-96b5-e0eb7bf70706"
      },
      "execution_count": null,
      "outputs": [
        {
          "output_type": "execute_result",
          "data": {
            "text/plain": [
              "['Berlin',\n",
              " 'Bresil',\n",
              " 'Dublin',\n",
              " 'Londres',\n",
              " 'Madrid',\n",
              " 'Madrid',\n",
              " 'Paris',\n",
              " [],\n",
              " 'Amsterdam',\n",
              " 'Rome',\n",
              " 'Amsterdam',\n",
              " 'Rome',\n",
              " 'Amsterdam',\n",
              " 'Rome',\n",
              " 'Amsterdam',\n",
              " 'Rome',\n",
              " 'Amsterdam',\n",
              " 'Rome',\n",
              " 'Amsterdam',\n",
              " 'Rome']"
            ]
          },
          "metadata": {},
          "execution_count": 42
        }
      ]
    },
    {
      "cell_type": "code",
      "source": [
        "len(villes)"
      ],
      "metadata": {
        "colab": {
          "base_uri": "https://localhost:8080/"
        },
        "id": "3OxEDxb3DTwk",
        "outputId": "9c446713-6736-4179-b807-a7db396ef455"
      },
      "execution_count": null,
      "outputs": [
        {
          "output_type": "execute_result",
          "data": {
            "text/plain": [
              "5"
            ]
          },
          "metadata": {},
          "execution_count": 44
        }
      ]
    },
    {
      "cell_type": "code",
      "source": [
        "villes.sort()\n",
        "villes"
      ],
      "metadata": {
        "colab": {
          "base_uri": "https://localhost:8080/"
        },
        "id": "zD62Dm25Dc4N",
        "outputId": "ceb7584c-68ce-4a8f-9f60-4ad65674b97d"
      },
      "execution_count": null,
      "outputs": [
        {
          "output_type": "execute_result",
          "data": {
            "text/plain": [
              "['Berlin', 'Bresil', 'Dublin', 'Londres', 'Paris']"
            ]
          },
          "metadata": {},
          "execution_count": 46
        }
      ]
    },
    {
      "cell_type": "code",
      "source": [
        "villes.sort(reverse=True)\n",
        "villes"
      ],
      "metadata": {
        "colab": {
          "base_uri": "https://localhost:8080/"
        },
        "id": "tYvvdguLDlmb",
        "outputId": "ce0ba9cd-5bf0-4243-e466-001f066ddd7c"
      },
      "execution_count": null,
      "outputs": [
        {
          "output_type": "execute_result",
          "data": {
            "text/plain": [
              "['Paris', 'Londres', 'Dublin', 'Bresil', 'Berlin']"
            ]
          },
          "metadata": {},
          "execution_count": 48
        }
      ]
    },
    {
      "cell_type": "code",
      "source": [
        "def get_vowels_numbers(mot):\n",
        "    # créer un compteur de voyelles\n",
        "    compteur = 0\n",
        "\n",
        "    # pour chaque lettre du mot vous verifiez s'il s'agit d'un voyelle\n",
        "    for letter in mot:\n",
        "        if letter in [\"a\", \"o\",\"i\", \"e\", \"u\", \"A\", \"O\", \"U\", \"Y\", \"E\", \"I\", \"y\"]:\n",
        "          # on ajoute un au compteur\n",
        "            compteur += 1\n",
        "\n",
        "    # à la fin de la fonction, vous allez renvoyer le compteur\n",
        "    return  compteur\n",
        "\n",
        "mot = input('Saisir un mot : ')\n",
        "t = get_vowels_numbers(mot)\n",
        "print(\"il y a\", t ,\"voyelles dans\", mot)\n",
        "print(get_vowels_numbers(mot))"
      ],
      "metadata": {
        "id": "iN66z3V1DxeE",
        "colab": {
          "base_uri": "https://localhost:8080/"
        },
        "outputId": "861b190b-9388-4518-b564-2c1c70ce9114"
      },
      "execution_count": null,
      "outputs": [
        {
          "output_type": "stream",
          "name": "stdout",
          "text": [
            "Saisir un mot : sd\n",
            "il y a 0 voyelles dans sd\n",
            "0\n"
          ]
        }
      ]
    },
    {
      "cell_type": "code",
      "source": [
        "\n",
        "def get_consonne_nb(sentence):\n",
        "   cs_nb = 0\n",
        "\n",
        "    #Identification des non cosonnes\n",
        "   not_consonne =['a', 'e', 'i', 'o', 'u', 'y', 'A', 'E', 'I', 'O', 'U', 'Y']\n",
        "\n",
        "# Mise en place de la boucle\n",
        "   for letter in sentence:\n",
        "      if letter not in not_consonne:\n",
        "        cs_nb += 1\n",
        "\n",
        "   return cs_nb\n",
        "\n",
        "#print('Entrez le ou les mots de votre choix:', end = ' ')\n",
        "sentence = input()\n",
        "nb = get_consonne_nb(sentence)\n",
        "print('Dans le ou les mots', sentence, ', il y a', nb, 'consommes')"
      ],
      "metadata": {
        "colab": {
          "base_uri": "https://localhost:8080/"
        },
        "id": "EgD_a58ALqMz",
        "outputId": "577fc2c4-2e11-453d-f104-a40151ac4cfe"
      },
      "execution_count": null,
      "outputs": [
        {
          "output_type": "stream",
          "name": "stdout",
          "text": [
            "FfeTtE\n",
            "Dans le ou les mots FfeTtE , il y a 4 consommes\n"
          ]
        }
      ]
    },
    {
      "cell_type": "code",
      "source": [
        "\n",
        "def get_vowels_number():\n",
        "\n",
        "  vowels = [\"a\", \"e\", \"i\", \"o\", \"u\", \"y\"]\n",
        "  i = 0\n",
        "  for letter in vowels:\n",
        "    if letter in vowels:\n",
        "      i = i + 1\n",
        "  return i\n",
        "\n",
        "\n",
        "word = input(\"Entrez un mot : \")\n",
        "get = get_vowels_number()\n",
        "#print(\"Le nombre de voyelles dans le mot est de \" get_vowels_number())\n",
        "print('Dans le ou les mots', word, ', il y a', get, 'voyelles')"
      ],
      "metadata": {
        "colab": {
          "base_uri": "https://localhost:8080/"
        },
        "id": "cI55hQDRSPK3",
        "outputId": "bce25a8d-57df-4735-9dc3-1f24af667a20"
      },
      "execution_count": null,
      "outputs": [
        {
          "output_type": "stream",
          "name": "stdout",
          "text": [
            "Entrez un mot : EEeeFtAau\n",
            "Dans le ou les mots EEeeFtAau , il y a 6 voyelles\n"
          ]
        }
      ]
    },
    {
      "cell_type": "code",
      "source": [
        "def fibonacci_of(n):                                 # Suite de Fibonacci pour des fonctions recursive\n",
        "    if n in {0, 1}:  # Base case   f(0) = 0 et f(1) = 1\n",
        "        return n\n",
        "    return fibonacci_of(n - 1) + fibonacci_of(n - 2)  # Recursive case\n",
        "\n",
        "fibonacci_of(15)"
      ],
      "metadata": {
        "id": "8sLXazZmW0Hj",
        "colab": {
          "base_uri": "https://localhost:8080/"
        },
        "outputId": "7eb898ad-0f3a-4598-d075-5ea6659399d2"
      },
      "execution_count": 18,
      "outputs": [
        {
          "output_type": "execute_result",
          "data": {
            "text/plain": [
              "610"
            ]
          },
          "metadata": {},
          "execution_count": 18
        }
      ]
    },
    {
      "cell_type": "code",
      "source": [],
      "metadata": {
        "id": "fka3Kyv23hfO"
      },
      "execution_count": null,
      "outputs": []
    },
    {
      "cell_type": "code",
      "source": [
        "def get_vowels_numbers(word):\n",
        "    nb_vowels = 0\n",
        "    for letter in word:\n",
        "        if letter in ['a', 'e', 'i', 'o', 'u', 'y', 'A', 'E', 'I', 'O', 'U', 'Y']:\n",
        "            nb_vowels += 1\n",
        "    return nb_vowels\n",
        "\n",
        "word = input(\"Entrer un mot\")\n",
        "vowels_count = get_vowels_numbers(word)\n",
        "print(\"Il y a\", vowels_count, \"voyelles dans le mot\", word)"
      ],
      "metadata": {
        "colab": {
          "base_uri": "https://localhost:8080/"
        },
        "id": "qqAMbICj3iHN",
        "outputId": "53d7e7d0-2ec9-4415-af6a-8bc3159be564"
      },
      "execution_count": null,
      "outputs": [
        {
          "output_type": "stream",
          "name": "stdout",
          "text": [
            "Entrer un motefreEE\n",
            "Il y a 4 voyelles dans le mot efreEE\n"
          ]
        }
      ]
    },
    {
      "cell_type": "code",
      "source": [],
      "metadata": {
        "id": "JPyu0q2G3jom"
      },
      "execution_count": null,
      "outputs": []
    },
    {
      "cell_type": "code",
      "source": [],
      "metadata": {
        "id": "cep0VaTmJIbN"
      },
      "execution_count": null,
      "outputs": []
    },
    {
      "cell_type": "code",
      "source": [
        "def inverser_chaine(chaine):\n",
        "    # Utilisation de l'opérateur de découpage [::-1] pour inverser la chaîne\n",
        "    chaine_inverse = chaine[::-1]\n",
        "    return chaine_inverse\n",
        "\n",
        "# Exemple d'utilisation de la fonction\n",
        "chaine_originale = \"Bonjour\"\n",
        "chaine_inversee = inverser_chaine(chaine_originale)\n",
        "print(chaine_inversee)\n"
      ],
      "metadata": {
        "colab": {
          "base_uri": "https://localhost:8080/"
        },
        "id": "FXL6-UVlJI8k",
        "outputId": "f07aa803-d1c5-4348-8931-9e1ea8960caa"
      },
      "execution_count": null,
      "outputs": [
        {
          "output_type": "stream",
          "name": "stdout",
          "text": [
            "ruojnoB\n"
          ]
        }
      ]
    },
    {
      "cell_type": "code",
      "source": [],
      "metadata": {
        "id": "l_PGGbYXTisb"
      },
      "execution_count": null,
      "outputs": []
    },
    {
      "cell_type": "code",
      "source": [],
      "metadata": {
        "id": "9umzlIGvW-B5"
      },
      "execution_count": null,
      "outputs": []
    },
    {
      "cell_type": "code",
      "source": [
        "def inverse_lettres(entrée):\n",
        "    if isinstance(entrée, str):\n",
        "        # Si l'entrée est une chaîne de caractères, inverse les lettres\n",
        "        return entrée[::-1]\n",
        "    elif isinstance(entrée, list):\n",
        "        # Si l'entrée est une liste, inverse les lettres pour chaque élément de la liste\n",
        "        resultats = []\n",
        "        for element in entrée:\n",
        "            if isinstance(element, str):\n",
        "                resultats.append(element[::-1])\n",
        "            else:\n",
        "                resultats.append(None)  # Ignorer les éléments non valides\n",
        "        return resultats\n",
        "    else:\n",
        "        return None  # Gérer d'autres types d'entrées\n",
        "\n",
        "# Exemples d'appels de fonction\n",
        "chaine_originale = \"Bonjour\"\n",
        "chaine_inverse = inverse_lettres(chaine_originale)\n",
        "print(\"Chaine originale :\", chaine_originale)\n",
        "print(\"Chaine inversée :\", chaine_inverse)\n",
        "\n",
        "liste_mots = [\"Python\", \"est\", \"super\"]\n",
        "liste_inversée = inverse_lettres(liste_mots)\n",
        "print(\"Liste originale :\", liste_mots)\n",
        "print(\"Liste inversée :\", liste_inversée)\n"
      ],
      "metadata": {
        "colab": {
          "base_uri": "https://localhost:8080/"
        },
        "id": "Gj2RWEb1W-Vw",
        "outputId": "ef2b1003-deab-4dc4-a763-cadd3e37f6a2"
      },
      "execution_count": null,
      "outputs": [
        {
          "output_type": "stream",
          "name": "stdout",
          "text": [
            "Chaine originale : Bonjour\n",
            "Chaine inversée : ruojnoB\n",
            "Liste originale : ['Python', 'est', 'super']\n",
            "Liste inversée : ['nohtyP', 'tse', 'repus']\n"
          ]
        }
      ]
    },
    {
      "cell_type": "code",
      "source": [
        "inverse_lettres(liste_mots)"
      ],
      "metadata": {
        "colab": {
          "base_uri": "https://localhost:8080/"
        },
        "id": "27dvhqkGW-to",
        "outputId": "2da3f366-57fb-4a3e-ee10-0dbf3c7ea3ed"
      },
      "execution_count": null,
      "outputs": [
        {
          "output_type": "execute_result",
          "data": {
            "text/plain": [
              "['nohtyP', 'tse', 'repus']"
            ]
          },
          "metadata": {},
          "execution_count": 9
        }
      ]
    },
    {
      "cell_type": "code",
      "source": [
        "def inverse_lettres(entrée):\n",
        "    if isinstance(entrée, str):\n",
        "\n",
        "        return entrée[::-1]\n",
        "    elif isinstance(entrée, list):\n",
        "\n",
        "        resultats = []\n",
        "        for element in entrée:\n",
        "            if isinstance(element, str):\n",
        "                resultats.append(element[::-1])\n",
        "            else:\n",
        "                resultats.append(None)\n",
        "        return resultats\n",
        "    else:\n",
        "        return None\n",
        "\n",
        "chaine_originale = \"Bonjour\"\n",
        "chaine_inverse = inverse_lettres(chaine_originale)\n",
        "print(\"Chaine originale :\", chaine_originale)\n",
        "print(\"Chaine inversée :\", chaine_inverse)\n",
        "\n",
        "liste_mots = [\"Python\", \"est\", \"super\"]\n",
        "liste_inversée = inverse_lettres(liste_mots)\n",
        "print(\"Liste originale :\", liste_mots)\n",
        "print(\"Liste inversée :\", liste_inversée)"
      ],
      "metadata": {
        "colab": {
          "base_uri": "https://localhost:8080/"
        },
        "id": "NiDpEPRxeTf4",
        "outputId": "7109765a-a148-43e7-85bd-e7b6a9d6ca2f"
      },
      "execution_count": null,
      "outputs": [
        {
          "output_type": "stream",
          "name": "stdout",
          "text": [
            "Chaine originale : Bonjour\n",
            "Chaine inversée : ruojnoB\n",
            "Liste originale : ['Python', 'est', 'super']\n",
            "Liste inversée : ['nohtyP', 'tse', 'repus']\n"
          ]
        }
      ]
    },
    {
      "cell_type": "code",
      "source": [
        "def palindrome(x):\n",
        "  for i in range(len(x) - 1, len(x) // 2, -1):\n",
        "    if x[i] != x[len(x) -i -1]:\n",
        "      return False\n",
        "  return True\n",
        "\n",
        "print(palindrome('laval'))"
      ],
      "metadata": {
        "colab": {
          "base_uri": "https://localhost:8080/"
        },
        "id": "iF3ynY-_uPys",
        "outputId": "59dd08ad-19ef-4120-af13-d54a3d8ff9a3"
      },
      "execution_count": null,
      "outputs": [
        {
          "output_type": "stream",
          "name": "stdout",
          "text": [
            "True\n"
          ]
        }
      ]
    },
    {
      "cell_type": "code",
      "source": [
        "def palindrome(x):\n",
        "  i = len(x) - 1\n",
        "  while i> len(x) // 2:\n",
        "    if x[i] != x[len(x) - i - 1]:\n",
        "      return False\n",
        "    i = i - 1\n",
        "  return True\n",
        "\n",
        "print(palindrome('a man a plan a canal panama'))"
      ],
      "metadata": {
        "colab": {
          "base_uri": "https://localhost:8080/"
        },
        "id": "bYf08nlPuRBs",
        "outputId": "e0e811bc-5066-438e-ddf3-566cc82f3b34"
      },
      "execution_count": null,
      "outputs": [
        {
          "output_type": "stream",
          "name": "stdout",
          "text": [
            "False\n"
          ]
        }
      ]
    },
    {
      "cell_type": "code",
      "source": [
        "def intercaler_mots(mot1, mot2):\n",
        "    # Trouver la longueur du mot le plus court\n",
        "    longueur_min = min(len(mot1), len(mot2))\n",
        "\n",
        "    # Initialiser une liste pour stocker les caractères intercalés\n",
        "    intercale = []\n",
        "\n",
        "    # Intercaler les caractères des deux mots\n",
        "    for i in range(longueur_min):\n",
        "        intercale.append(mot1[i])\n",
        "        intercale.append(mot2[i])\n",
        "\n",
        "    # Ajouter les caractères restants du mot le plus long\n",
        "    if len(mot1) > len(mot2):\n",
        "        intercale.extend(mot1[longueur_min:])\n",
        "    else:\n",
        "        intercale.extend(mot2[longueur_min:])\n",
        "\n",
        "    # Convertir la liste de caractères en une chaîne de caractères\n",
        "    resultat = ''.join(intercale)\n",
        "\n",
        "    return resultat\n",
        "\n",
        "# Exemple d'utilisation\n",
        "mot1 = \"Bonjour\"\n",
        "mot2 = \"Monde\"\n",
        "resultat = intercaler_mots(mot1, mot2)\n",
        "print(resultat)  # Affichera \"BMoondjeour\"\n",
        "\n"
      ],
      "metadata": {
        "colab": {
          "base_uri": "https://localhost:8080/"
        },
        "id": "92DvsVEKuRWr",
        "outputId": "f2d3174d-60ba-485e-f293-e5aece014ff3"
      },
      "execution_count": null,
      "outputs": [
        {
          "output_type": "stream",
          "name": "stdout",
          "text": [
            "BMoonnjdoeur\n"
          ]
        }
      ]
    },
    {
      "cell_type": "code",
      "source": [
        "t = \"ppap\"\n",
        "\n",
        "t.split(\"-\")\n"
      ],
      "metadata": {
        "colab": {
          "base_uri": "https://localhost:8080/"
        },
        "id": "P6Ys2zG8wBNt",
        "outputId": "fa751dd4-ed6d-4f4a-c9f5-780b1104bb97"
      },
      "execution_count": null,
      "outputs": [
        {
          "output_type": "execute_result",
          "data": {
            "text/plain": [
              "['ppap']"
            ]
          },
          "metadata": {},
          "execution_count": 28
        }
      ]
    },
    {
      "cell_type": "code",
      "source": [
        "def divisible_par_3_5(nombre):\n",
        "    if nombre % 3 == 0 and nombre % 5 == 0:\n",
        "        return \"yopa\"\n",
        "    elif nombre % 3 == 0:\n",
        "        return \"pa\"\n",
        "    elif nombre % 5 == 0:\n",
        "        return \"yo\"\n",
        "    else:\n",
        "        return str(nombre)\n",
        "\n",
        "# Exemple d'utilisation\n",
        "nombre = 21\n",
        "resultat = divisible_par_3_5(nombre)\n",
        "print(resultat)  # Affichera \"yopa\" pour 15\n",
        "\n"
      ],
      "metadata": {
        "colab": {
          "base_uri": "https://localhost:8080/"
        },
        "id": "qmtl9j-pwBgE",
        "outputId": "a2fa46f2-57bd-4362-bf54-d3a672041822"
      },
      "execution_count": null,
      "outputs": [
        {
          "output_type": "stream",
          "name": "stdout",
          "text": [
            "pa\n"
          ]
        }
      ]
    },
    {
      "cell_type": "code",
      "source": [
        "def divisible_par_3_5(nombre):\n",
        "    while nombre >= 3:\n",
        "        nombre -= 3\n",
        "\n",
        "    if nombre == 0:\n",
        "        return \"pa\"\n",
        "\n",
        "    while nombre >= 5:\n",
        "        nombre -= 5\n",
        "\n",
        "    if nombre == 0:\n",
        "        return \"yo\"\n",
        "\n",
        "    return str(nombre)\n",
        "\n",
        "# Exemple d'utilisation\n",
        "nombre = 6\n",
        "resultat = divisible_par_3_5(nombre)\n",
        "print(resultat)  # Affichera \"yopa\" pour 15\n"
      ],
      "metadata": {
        "colab": {
          "base_uri": "https://localhost:8080/"
        },
        "id": "fvQ2XxQawB4E",
        "outputId": "23efaafa-639d-47c9-e7cd-d7bfeafd7d9b"
      },
      "execution_count": null,
      "outputs": [
        {
          "output_type": "stream",
          "name": "stdout",
          "text": [
            "pa\n"
          ]
        }
      ]
    },
    {
      "cell_type": "code",
      "source": [
        "def initialiser_matrice(rows, cols, a):\n",
        "    # Créer une nouvelle matrice initialisée avec la valeur a\n",
        "    nouvelle_matrice = [[a] * cols for _ in range(rows)]\n",
        "    return nouvelle_matrice\n",
        "\n",
        "# Exemple d'utilisation\n",
        "nombre_de_lignes = 3\n",
        "nombre_de_colonnes = 4\n",
        "valeur_initiale = 7\n",
        "\n",
        "nouvelle_matrice = initialiser_matrice(nombre_de_lignes, nombre_de_colonnes, valeur_initiale)\n",
        "\n",
        "# Afficher la nouvelle matrice\n",
        "for ligne in nouvelle_matrice:\n",
        "    print(ligne)\n"
      ],
      "metadata": {
        "colab": {
          "base_uri": "https://localhost:8080/"
        },
        "id": "jsLV7eVT4ev2",
        "outputId": "c5147e46-1374-4c33-ad7a-5afa2cbfb7b5"
      },
      "execution_count": null,
      "outputs": [
        {
          "output_type": "stream",
          "name": "stdout",
          "text": [
            "[7, 7, 7, 7]\n",
            "[7, 7, 7, 7]\n",
            "[7, 7, 7, 7]\n"
          ]
        }
      ]
    },
    {
      "cell_type": "code",
      "source": [
        "def initialiser_matrice(matrice, a):\n",
        "    nouvelle_matrice = [[a for _ in range(len(matrice[0]))] for _ in range(len(matrice))]  # Utilisation des listes de compréhension\n",
        "    return nouvelle_matrice\n",
        "\n",
        "# Exemple d'utilisation\n",
        "matrice_initiale = [\n",
        "    [2, 3, 4],\n",
        "    [5, 6, 7],\n",
        "    [8, 9, 10]\n",
        "]\n",
        "valeur_initiale = 7\n",
        "\n",
        "nouvelle_matrice = initialiser_matrice(matrice_initiale, valeur_initiale)\n",
        "\n",
        "# Afficher la nouvelle matrice\n",
        "\n",
        "print(nouvelle_matrice)\n"
      ],
      "metadata": {
        "colab": {
          "base_uri": "https://localhost:8080/"
        },
        "id": "cVCPtQBI4fI_",
        "outputId": "e01dcfdb-8f1e-4964-d8a7-9d233d8b525e"
      },
      "execution_count": null,
      "outputs": [
        {
          "output_type": "stream",
          "name": "stdout",
          "text": [
            "[[7, 7, 7], [7, 7, 7], [7, 7, 7]]\n"
          ]
        }
      ]
    },
    {
      "cell_type": "code",
      "source": [],
      "metadata": {
        "id": "UjUG9MeB4fdX"
      },
      "execution_count": null,
      "outputs": []
    },
    {
      "cell_type": "code",
      "source": [
        "users = [\n",
        "    {\"id\": 0, \"name\": \"Laurent D'Amico\"},\n",
        "    {\"id\": 1, \"name\": \"Rénald Soudier\"},\n",
        "    {\"id\": 2, \"name\": \"Patrice Collardez\"},\n",
        "    {\"id\": 3, \"name\": \"Jonathan Aberman\"},\n",
        "    {\"id\": 4, \"name\": \"Yves Mittelmann\"},\n",
        "    {\"id\": 5, \"name\": \"Sébastien Collot\"},\n",
        "    {\"id\": 6, \"name\": \"Xavier Mauclaire\"},\n",
        "    {\"id\": 7, \"name\": \"Dario Corballo\"},\n",
        "    {\"id\": 8, \"name\": \"Yvell Mvoumbi\"},\n",
        "    {\"id\": 9, \"name\": \"Enzo Callegari\"}\n",
        "\n",
        "]\n",
        "\n",
        "\n",
        "\n",
        "friendships = [(0, 1), (0, 2), (1, 2), (1, 3), (2, 3), (3, 4), (4, 5), (5, 6), (5, 7), ( 6, 8), (7, 8), (8, 8)]\n",
        "\n",
        "for user in users:\n",
        "  user[\"friends\"] = []\n",
        "\n",
        "for i, j in friendships:\n",
        "  users[i][\"friends\"].append(users[j])\n",
        "  users[j][\"friends\"].append(users[i])\n",
        "\n",
        "# Quel est le nombre moyen de connexions ?\n",
        "\n",
        "def number_of_friends(user):\n",
        "  # Combien d'amis l'utilisateur _user_ a-t-il ?\n",
        "  return len(user[\"friends\"])  # Longueur de la liste _friends_ids_\n",
        "\n",
        "total_connections = sum(number_of_friends(user) for user in users) # 24\n",
        "\n",
        "print(total_connections)\n",
        "\n",
        "# Il suffit ensuite de diviser le nombre totald'utilisateurs\n",
        "\n",
        "from __future__ import division  # la division entière est bancale\n",
        "num_users = len(users)\n",
        "avg_connections = total_connections / num_users   # 2.4\n",
        "\n",
        "\n",
        "# Nous cherchons savoir les personnes le plus connctées ie qui ont plus d'amis\n",
        "\n",
        "# Créeons une liste (user_id, number_of_friends)\n",
        "\n",
        "num_friends_by_id = [(user['id'], number_of_friends(user)) for user in users]\n",
        "\n",
        "sorted(num_friends_by_id,  # la trier\n",
        "      key = lambda user_id_and_number_of_friends: user_id_and_number_of_friends[1], # suivant num_friends\n",
        "      reverse=True)  # du plus grand au plus petit\n",
        "\n",
        "\n",
        "\n",
        "# conception d'un système permettant de suggérer les experts que nous connaissons entre les amis\n",
        "\n",
        "def  friends_of_friend_ids_bad(user):\n",
        "  # foaf est l'abéviation de friend of a friend, autrement dit l'ami d'un ami\n",
        "  return [friends_of_friend_ids_bad['id']\n",
        "  for friend in user[\"friends\"]\n",
        "  for friends_of_friend_ids_bad in friends[[\"friends\"]]]\n",
        "\n",
        "\n",
        "#users[0]\n",
        "for friend in users[0][\"friends\"]:\n",
        "  print(friend['id'])\n",
        "#for friend in users[1][\"friends\"]:\n",
        "  #print(friend['id'])\n",
        "#for friend in users[2][\"friends\"]:\n",
        "  #print(friend['id'])\n",
        "\n",
        "\n"
      ],
      "metadata": {
        "colab": {
          "base_uri": "https://localhost:8080/"
        },
        "id": "3a2XmZov4fsv",
        "outputId": "4b78d5bd-a638-4788-d94d-38978e63430f"
      },
      "execution_count": null,
      "outputs": [
        {
          "output_type": "stream",
          "name": "stdout",
          "text": [
            "24\n",
            "1\n",
            "2\n"
          ]
        }
      ]
    },
    {
      "cell_type": "code",
      "source": [],
      "metadata": {
        "id": "b5mhKwG04f6v"
      },
      "execution_count": null,
      "outputs": []
    },
    {
      "cell_type": "code",
      "source": [
        "soit_x, y = [1,2,3], 9\n",
        "\n",
        "soit_x.insert(3,y)\n",
        "print(soit_x)\n"
      ],
      "metadata": {
        "colab": {
          "base_uri": "https://localhost:8080/"
        },
        "id": "loAKCGfk4gJ_",
        "outputId": "7f19615c-2747-446e-ecbf-53b83d09a054"
      },
      "execution_count": null,
      "outputs": [
        {
          "output_type": "stream",
          "name": "stdout",
          "text": [
            "[1, 2, 3, 9]\n"
          ]
        }
      ]
    },
    {
      "cell_type": "code",
      "source": [
        "def initialiser_matrice(matrice, a):\n",
        "    nouvelle_matrice = []\n",
        "    for ligne in matrice:\n",
        "        nouvelle_ligne = []\n",
        "        for element in ligne:\n",
        "            nouvelle_ligne.append(a)\n",
        "        nouvelle_matrice.append(nouvelle_ligne)\n",
        "    return nouvelle_matrice\n",
        "\n",
        "# Exemple d'utilisation\n",
        "matrice_initiale = [\n",
        "    [2, 3, 4],\n",
        "    [5, 6, 7],\n",
        "    [8, 9, 10]\n",
        "]\n",
        "valeur_initiale = 7\n",
        "\n",
        "nouvelle_matrice = initialiser_matrice(matrice_initiale, valeur_initiale)\n",
        "\n",
        "# Afficher la nouvelle matrice\n",
        "for ligne in nouvelle_matrice:\n",
        "    print(ligne)\n"
      ],
      "metadata": {
        "colab": {
          "base_uri": "https://localhost:8080/"
        },
        "id": "RpluWXuc4gXO",
        "outputId": "5767b91f-5b8b-42b3-d0ad-cceefecf378f"
      },
      "execution_count": null,
      "outputs": [
        {
          "output_type": "stream",
          "name": "stdout",
          "text": [
            "[7, 7, 7]\n",
            "[7, 7, 7]\n",
            "[7, 7, 7]\n"
          ]
        }
      ]
    },
    {
      "cell_type": "code",
      "source": [
        "w = [[[1, 2],[2, 3]],\n",
        "     [[4, 5],[6, 7]]\n",
        "     ]"
      ],
      "metadata": {
        "id": "QkjXNKYF4gkv"
      },
      "execution_count": 2,
      "outputs": []
    },
    {
      "cell_type": "code",
      "source": [
        "\n",
        "\n",
        "def initmat2(mat, v):\n",
        "    #if isinstance(mat, list):\n",
        "      result = []\n",
        "      for i in range(0, len(mat), 1):\n",
        "          result.append(initmat2(mat[i], v))\n",
        "    #else:\n",
        "     #   result = v\n",
        "          return result\n",
        "\n",
        "\n",
        "\n",
        "w = [[[1, 2],[2, 3]],\n",
        "     [[4, 5],[6, 7]]\n",
        "     ]\n",
        "initmat2(w,8)"
      ],
      "metadata": {
        "id": "7CO989If4gzG",
        "colab": {
          "base_uri": "https://localhost:8080/",
          "height": 364
        },
        "outputId": "d53138b3-a74c-4087-ade3-9c2501bcfc32"
      },
      "execution_count": 6,
      "outputs": [
        {
          "output_type": "error",
          "ename": "TypeError",
          "evalue": "ignored",
          "traceback": [
            "\u001b[0;31m---------------------------------------------------------------------------\u001b[0m",
            "\u001b[0;31mTypeError\u001b[0m                                 Traceback (most recent call last)",
            "\u001b[0;32m<ipython-input-6-e88ad2b994b8>\u001b[0m in \u001b[0;36m<cell line: 15>\u001b[0;34m()\u001b[0m\n\u001b[1;32m     13\u001b[0m      \u001b[0;34m[\u001b[0m\u001b[0;34m[\u001b[0m\u001b[0;36m4\u001b[0m\u001b[0;34m,\u001b[0m \u001b[0;36m5\u001b[0m\u001b[0;34m]\u001b[0m\u001b[0;34m,\u001b[0m\u001b[0;34m[\u001b[0m\u001b[0;36m6\u001b[0m\u001b[0;34m,\u001b[0m \u001b[0;36m7\u001b[0m\u001b[0;34m]\u001b[0m\u001b[0;34m]\u001b[0m\u001b[0;34m\u001b[0m\u001b[0;34m\u001b[0m\u001b[0m\n\u001b[1;32m     14\u001b[0m      ]\n\u001b[0;32m---> 15\u001b[0;31m \u001b[0minitmat2\u001b[0m\u001b[0;34m(\u001b[0m\u001b[0mw\u001b[0m\u001b[0;34m,\u001b[0m\u001b[0;36m8\u001b[0m\u001b[0;34m)\u001b[0m\u001b[0;34m\u001b[0m\u001b[0;34m\u001b[0m\u001b[0m\n\u001b[0m",
            "\u001b[0;32m<ipython-input-6-e88ad2b994b8>\u001b[0m in \u001b[0;36minitmat2\u001b[0;34m(mat, v)\u001b[0m\n\u001b[1;32m      3\u001b[0m       \u001b[0mresult\u001b[0m \u001b[0;34m=\u001b[0m \u001b[0;34m[\u001b[0m\u001b[0;34m]\u001b[0m\u001b[0;34m\u001b[0m\u001b[0;34m\u001b[0m\u001b[0m\n\u001b[1;32m      4\u001b[0m       \u001b[0;32mfor\u001b[0m \u001b[0mi\u001b[0m \u001b[0;32min\u001b[0m \u001b[0mrange\u001b[0m\u001b[0;34m(\u001b[0m\u001b[0;36m0\u001b[0m\u001b[0;34m,\u001b[0m \u001b[0mlen\u001b[0m\u001b[0;34m(\u001b[0m\u001b[0mmat\u001b[0m\u001b[0;34m)\u001b[0m\u001b[0;34m,\u001b[0m \u001b[0;36m1\u001b[0m\u001b[0;34m)\u001b[0m\u001b[0;34m:\u001b[0m\u001b[0;34m\u001b[0m\u001b[0;34m\u001b[0m\u001b[0m\n\u001b[0;32m----> 5\u001b[0;31m           \u001b[0mresult\u001b[0m\u001b[0;34m.\u001b[0m\u001b[0mappend\u001b[0m\u001b[0;34m(\u001b[0m\u001b[0minitmat2\u001b[0m\u001b[0;34m(\u001b[0m\u001b[0mmat\u001b[0m\u001b[0;34m[\u001b[0m\u001b[0mi\u001b[0m\u001b[0;34m]\u001b[0m\u001b[0;34m,\u001b[0m \u001b[0mv\u001b[0m\u001b[0;34m)\u001b[0m\u001b[0;34m)\u001b[0m\u001b[0;34m\u001b[0m\u001b[0;34m\u001b[0m\u001b[0m\n\u001b[0m\u001b[1;32m      6\u001b[0m     \u001b[0;31m#else:\u001b[0m\u001b[0;34m\u001b[0m\u001b[0;34m\u001b[0m\u001b[0m\n\u001b[1;32m      7\u001b[0m      \u001b[0;31m#   result = v\u001b[0m\u001b[0;34m\u001b[0m\u001b[0;34m\u001b[0m\u001b[0m\n",
            "\u001b[0;32m<ipython-input-6-e88ad2b994b8>\u001b[0m in \u001b[0;36minitmat2\u001b[0;34m(mat, v)\u001b[0m\n\u001b[1;32m      3\u001b[0m       \u001b[0mresult\u001b[0m \u001b[0;34m=\u001b[0m \u001b[0;34m[\u001b[0m\u001b[0;34m]\u001b[0m\u001b[0;34m\u001b[0m\u001b[0;34m\u001b[0m\u001b[0m\n\u001b[1;32m      4\u001b[0m       \u001b[0;32mfor\u001b[0m \u001b[0mi\u001b[0m \u001b[0;32min\u001b[0m \u001b[0mrange\u001b[0m\u001b[0;34m(\u001b[0m\u001b[0;36m0\u001b[0m\u001b[0;34m,\u001b[0m \u001b[0mlen\u001b[0m\u001b[0;34m(\u001b[0m\u001b[0mmat\u001b[0m\u001b[0;34m)\u001b[0m\u001b[0;34m,\u001b[0m \u001b[0;36m1\u001b[0m\u001b[0;34m)\u001b[0m\u001b[0;34m:\u001b[0m\u001b[0;34m\u001b[0m\u001b[0;34m\u001b[0m\u001b[0m\n\u001b[0;32m----> 5\u001b[0;31m           \u001b[0mresult\u001b[0m\u001b[0;34m.\u001b[0m\u001b[0mappend\u001b[0m\u001b[0;34m(\u001b[0m\u001b[0minitmat2\u001b[0m\u001b[0;34m(\u001b[0m\u001b[0mmat\u001b[0m\u001b[0;34m[\u001b[0m\u001b[0mi\u001b[0m\u001b[0;34m]\u001b[0m\u001b[0;34m,\u001b[0m \u001b[0mv\u001b[0m\u001b[0;34m)\u001b[0m\u001b[0;34m)\u001b[0m\u001b[0;34m\u001b[0m\u001b[0;34m\u001b[0m\u001b[0m\n\u001b[0m\u001b[1;32m      6\u001b[0m     \u001b[0;31m#else:\u001b[0m\u001b[0;34m\u001b[0m\u001b[0;34m\u001b[0m\u001b[0m\n\u001b[1;32m      7\u001b[0m      \u001b[0;31m#   result = v\u001b[0m\u001b[0;34m\u001b[0m\u001b[0;34m\u001b[0m\u001b[0m\n",
            "\u001b[0;32m<ipython-input-6-e88ad2b994b8>\u001b[0m in \u001b[0;36minitmat2\u001b[0;34m(mat, v)\u001b[0m\n\u001b[1;32m      3\u001b[0m       \u001b[0mresult\u001b[0m \u001b[0;34m=\u001b[0m \u001b[0;34m[\u001b[0m\u001b[0;34m]\u001b[0m\u001b[0;34m\u001b[0m\u001b[0;34m\u001b[0m\u001b[0m\n\u001b[1;32m      4\u001b[0m       \u001b[0;32mfor\u001b[0m \u001b[0mi\u001b[0m \u001b[0;32min\u001b[0m \u001b[0mrange\u001b[0m\u001b[0;34m(\u001b[0m\u001b[0;36m0\u001b[0m\u001b[0;34m,\u001b[0m \u001b[0mlen\u001b[0m\u001b[0;34m(\u001b[0m\u001b[0mmat\u001b[0m\u001b[0;34m)\u001b[0m\u001b[0;34m,\u001b[0m \u001b[0;36m1\u001b[0m\u001b[0;34m)\u001b[0m\u001b[0;34m:\u001b[0m\u001b[0;34m\u001b[0m\u001b[0;34m\u001b[0m\u001b[0m\n\u001b[0;32m----> 5\u001b[0;31m           \u001b[0mresult\u001b[0m\u001b[0;34m.\u001b[0m\u001b[0mappend\u001b[0m\u001b[0;34m(\u001b[0m\u001b[0minitmat2\u001b[0m\u001b[0;34m(\u001b[0m\u001b[0mmat\u001b[0m\u001b[0;34m[\u001b[0m\u001b[0mi\u001b[0m\u001b[0;34m]\u001b[0m\u001b[0;34m,\u001b[0m \u001b[0mv\u001b[0m\u001b[0;34m)\u001b[0m\u001b[0;34m)\u001b[0m\u001b[0;34m\u001b[0m\u001b[0;34m\u001b[0m\u001b[0m\n\u001b[0m\u001b[1;32m      6\u001b[0m     \u001b[0;31m#else:\u001b[0m\u001b[0;34m\u001b[0m\u001b[0;34m\u001b[0m\u001b[0m\n\u001b[1;32m      7\u001b[0m      \u001b[0;31m#   result = v\u001b[0m\u001b[0;34m\u001b[0m\u001b[0;34m\u001b[0m\u001b[0m\n",
            "\u001b[0;32m<ipython-input-6-e88ad2b994b8>\u001b[0m in \u001b[0;36minitmat2\u001b[0;34m(mat, v)\u001b[0m\n\u001b[1;32m      2\u001b[0m     \u001b[0;31m#if isinstance(mat, list):\u001b[0m\u001b[0;34m\u001b[0m\u001b[0;34m\u001b[0m\u001b[0m\n\u001b[1;32m      3\u001b[0m       \u001b[0mresult\u001b[0m \u001b[0;34m=\u001b[0m \u001b[0;34m[\u001b[0m\u001b[0;34m]\u001b[0m\u001b[0;34m\u001b[0m\u001b[0;34m\u001b[0m\u001b[0m\n\u001b[0;32m----> 4\u001b[0;31m       \u001b[0;32mfor\u001b[0m \u001b[0mi\u001b[0m \u001b[0;32min\u001b[0m \u001b[0mrange\u001b[0m\u001b[0;34m(\u001b[0m\u001b[0;36m0\u001b[0m\u001b[0;34m,\u001b[0m \u001b[0mlen\u001b[0m\u001b[0;34m(\u001b[0m\u001b[0mmat\u001b[0m\u001b[0;34m)\u001b[0m\u001b[0;34m,\u001b[0m \u001b[0;36m1\u001b[0m\u001b[0;34m)\u001b[0m\u001b[0;34m:\u001b[0m\u001b[0;34m\u001b[0m\u001b[0;34m\u001b[0m\u001b[0m\n\u001b[0m\u001b[1;32m      5\u001b[0m           \u001b[0mresult\u001b[0m\u001b[0;34m.\u001b[0m\u001b[0mappend\u001b[0m\u001b[0;34m(\u001b[0m\u001b[0minitmat2\u001b[0m\u001b[0;34m(\u001b[0m\u001b[0mmat\u001b[0m\u001b[0;34m[\u001b[0m\u001b[0mi\u001b[0m\u001b[0;34m]\u001b[0m\u001b[0;34m,\u001b[0m \u001b[0mv\u001b[0m\u001b[0;34m)\u001b[0m\u001b[0;34m)\u001b[0m\u001b[0;34m\u001b[0m\u001b[0;34m\u001b[0m\u001b[0m\n\u001b[1;32m      6\u001b[0m     \u001b[0;31m#else:\u001b[0m\u001b[0;34m\u001b[0m\u001b[0;34m\u001b[0m\u001b[0m\n",
            "\u001b[0;31mTypeError\u001b[0m: object of type 'int' has no len()"
          ]
        }
      ]
    },
    {
      "cell_type": "code",
      "source": [
        "\"\"\"def initmat3(mat, v):\n",
        "    result = []\n",
        "    for i in range(0, len(mat), 1):\n",
        "        row = []\n",
        "        for j in range (0, len(mat[i]), 1):\n",
        "            #row.append(v)\n",
        "            row += [v]\n",
        "        #result.append(row)\n",
        "        result += v\n",
        "    return result\n",
        "\n",
        "initmat3(w,8)\"\"\""
      ],
      "metadata": {
        "id": "S6NSYjB24hB-",
        "colab": {
          "base_uri": "https://localhost:8080/",
          "height": 53
        },
        "outputId": "d522128e-88eb-4875-a7aa-efeb5db38c11"
      },
      "execution_count": 6,
      "outputs": [
        {
          "output_type": "execute_result",
          "data": {
            "text/plain": [
              "'def initmat3(mat, v):\\n    result = []\\n    for i in range(0, len(mat), 1):\\n        row = []\\n        for j in range (0, len(mat[i]), 1):\\n            #row.append(v)\\n            row += [v]\\n        #result.append(row)\\n        result += v\\n    return result\\n\\ninitmat3(w,8)'"
            ],
            "application/vnd.google.colaboratory.intrinsic+json": {
              "type": "string"
            }
          },
          "metadata": {},
          "execution_count": 6
        }
      ]
    },
    {
      "cell_type": "code",
      "source": [
        "import copy\n",
        "\n",
        "def initmat(M, n):\n",
        "    def recursive_init(mat):\n",
        "        if isinstance(mat, list):\n",
        "            result = []\n",
        "            for row in mat:\n",
        "                result.append(recursive_init(row))\n",
        "            return result\n",
        "        else:\n",
        "            return n\n",
        "\n",
        "    return recursive_init(M)\n",
        "\n",
        "# Exemple d'utilisation\n",
        "M = [\n",
        "    [\n",
        "        [1, 2],\n",
        "        [3, 4]\n",
        "    ],\n",
        "    [\n",
        "        [5, 6],\n",
        "        [7, 8]\n",
        "    ]\n",
        "]\n",
        "\n",
        "result = initmat(M, 0)\n",
        "print(result)\n"
      ],
      "metadata": {
        "colab": {
          "base_uri": "https://localhost:8080/"
        },
        "id": "COZthkUVMK4E",
        "outputId": "a9c9b48f-3aa3-46a1-8ff7-5cad865e03e3"
      },
      "execution_count": 4,
      "outputs": [
        {
          "output_type": "stream",
          "name": "stdout",
          "text": [
            "[[[0, 0], [0, 0]], [[0, 0], [0, 0]]]\n"
          ]
        }
      ]
    },
    {
      "cell_type": "code",
      "source": [],
      "metadata": {
        "id": "DreNvtTHMLU8"
      },
      "execution_count": null,
      "outputs": []
    },
    {
      "cell_type": "code",
      "source": [],
      "metadata": {
        "id": "ywJ7SG8BMLjz"
      },
      "execution_count": null,
      "outputs": []
    },
    {
      "cell_type": "code",
      "source": [],
      "metadata": {
        "id": "kpEy6cRrMLzM"
      },
      "execution_count": null,
      "outputs": []
    },
    {
      "cell_type": "code",
      "source": [],
      "metadata": {
        "id": "rwdlbL0wMMEM"
      },
      "execution_count": null,
      "outputs": []
    },
    {
      "cell_type": "markdown",
      "source": [
        "# Nouvelle section"
      ],
      "metadata": {
        "id": "JHpbKN2wMNj2"
      }
    }
  ]
}